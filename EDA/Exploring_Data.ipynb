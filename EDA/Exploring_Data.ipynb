{
 "cells": [
  {
   "cell_type": "markdown",
   "metadata": {},
   "source": [
    "### Exploratory Data: Cenus and Election Results from 2000 - 2020"
   ]
  },
  {
   "cell_type": "code",
   "execution_count": 1,
   "metadata": {},
   "outputs": [],
   "source": [
    "import pandas as pd\n",
    "import numpy as np\n",
    "import plotly.graph_objects as go\n",
    "import plotly.express as px\n"
   ]
  },
  {
   "cell_type": "code",
   "execution_count": 2,
   "metadata": {},
   "outputs": [],
   "source": [
    "data_to_load = \"C:/Users/rwhited/Desktop/Classwork/Group_Project/blue-team/Resources/Census_00_19.csv\"\n",
    "data_to_load2 = \"C:/Users/rwhited/Desktop/Classwork/Group_Project/blue-team/Resources/Presidential_96_2020.csv\"\n",
    "\n",
    "census_df = pd.read_csv(data_to_load, encoding= 'unicode_escape')\n",
    "election_df = pd.read_csv(data_to_load2, encoding= 'unicode_escape')"
   ]
  },
  {
   "cell_type": "code",
   "execution_count": 3,
   "metadata": {},
   "outputs": [
    {
     "data": {
      "text/plain": [
       "(1020, 18)"
      ]
     },
     "execution_count": 3,
     "metadata": {},
     "output_type": "execute_result"
    }
   ],
   "source": [
    "census_df.shape"
   ]
  },
  {
   "cell_type": "code",
   "execution_count": 4,
   "metadata": {},
   "outputs": [
    {
     "data": {
      "text/plain": [
       "(357, 7)"
      ]
     },
     "execution_count": 4,
     "metadata": {},
     "output_type": "execute_result"
    }
   ],
   "source": [
    "election_df.shape"
   ]
  },
  {
   "cell_type": "code",
   "execution_count": 5,
   "metadata": {},
   "outputs": [
    {
     "data": {
      "text/plain": [
       "YEAR                    int64\n",
       "STATE_NAME             object\n",
       "STATE_NUMBER            int64\n",
       "REGION                 object\n",
       "DIVISION               object\n",
       "TOTAL_POPULATION        int64\n",
       "RACE_WHITE              int64\n",
       "RACE_BLACK              int64\n",
       "RACE_OTHER              int64\n",
       "AGE_0_TO_19             int64\n",
       "AGE_20_TO_39            int64\n",
       "AGE_40_TO_59            int64\n",
       "AGE_60_TO_79            int64\n",
       "AGE_80_AND_OVER         int64\n",
       "ORIGIN_HISPANIC         int64\n",
       "ORIGIN_NOT_HISPANIC     int64\n",
       "SEX_FEMALE              int64\n",
       "SEX_MALE                int64\n",
       "dtype: object"
      ]
     },
     "execution_count": 5,
     "metadata": {},
     "output_type": "execute_result"
    }
   ],
   "source": [
    "census_df.dtypes"
   ]
  },
  {
   "cell_type": "code",
   "execution_count": 6,
   "metadata": {},
   "outputs": [
    {
     "data": {
      "text/plain": [
       "year                   int64\n",
       "state                 object\n",
       "DEMOCRAT_VOTES         int64\n",
       "LIBERTARIAN_VOTES    float64\n",
       "OTHER_VOTES          float64\n",
       "REPUBLICAN_VOTES       int64\n",
       "Winning_Party         object\n",
       "dtype: object"
      ]
     },
     "execution_count": 6,
     "metadata": {},
     "output_type": "execute_result"
    }
   ],
   "source": [
    "election_df.dtypes"
   ]
  },
  {
   "cell_type": "markdown",
   "metadata": {},
   "source": [
    "### Observing Republican vs Democrat Vote Percentages by State"
   ]
  },
  {
   "cell_type": "code",
   "execution_count": 13,
   "metadata": {},
   "outputs": [
    {
     "data": {
      "text/html": [
       "<div>\n",
       "<style scoped>\n",
       "    .dataframe tbody tr th:only-of-type {\n",
       "        vertical-align: middle;\n",
       "    }\n",
       "\n",
       "    .dataframe tbody tr th {\n",
       "        vertical-align: top;\n",
       "    }\n",
       "\n",
       "    .dataframe thead th {\n",
       "        text-align: right;\n",
       "    }\n",
       "</style>\n",
       "<table border=\"1\" class=\"dataframe\">\n",
       "  <thead>\n",
       "    <tr style=\"text-align: right;\">\n",
       "      <th></th>\n",
       "      <th>year</th>\n",
       "      <th>state</th>\n",
       "      <th>DEMOCRAT_VOTES</th>\n",
       "      <th>LIBERTARIAN_VOTES</th>\n",
       "      <th>OTHER_VOTES</th>\n",
       "      <th>REPUBLICAN_VOTES</th>\n",
       "      <th>Winning_Party</th>\n",
       "    </tr>\n",
       "  </thead>\n",
       "  <tbody>\n",
       "    <tr>\n",
       "      <th>51</th>\n",
       "      <td>2000</td>\n",
       "      <td>ALABAMA</td>\n",
       "      <td>692611</td>\n",
       "      <td>5893.0</td>\n",
       "      <td>26595.0</td>\n",
       "      <td>941173</td>\n",
       "      <td>REPUBLICAN</td>\n",
       "    </tr>\n",
       "    <tr>\n",
       "      <th>52</th>\n",
       "      <td>2000</td>\n",
       "      <td>ALASKA</td>\n",
       "      <td>79004</td>\n",
       "      <td>2636.0</td>\n",
       "      <td>36522.0</td>\n",
       "      <td>167398</td>\n",
       "      <td>REPUBLICAN</td>\n",
       "    </tr>\n",
       "    <tr>\n",
       "      <th>53</th>\n",
       "      <td>2000</td>\n",
       "      <td>ARIZONA</td>\n",
       "      <td>685341</td>\n",
       "      <td>5775.0</td>\n",
       "      <td>59248.0</td>\n",
       "      <td>781652</td>\n",
       "      <td>REPUBLICAN</td>\n",
       "    </tr>\n",
       "    <tr>\n",
       "      <th>54</th>\n",
       "      <td>2000</td>\n",
       "      <td>ARKANSAS</td>\n",
       "      <td>422768</td>\n",
       "      <td>2781.0</td>\n",
       "      <td>23292.0</td>\n",
       "      <td>472940</td>\n",
       "      <td>REPUBLICAN</td>\n",
       "    </tr>\n",
       "    <tr>\n",
       "      <th>55</th>\n",
       "      <td>2000</td>\n",
       "      <td>CALIFORNIA</td>\n",
       "      <td>5861203</td>\n",
       "      <td>45520.0</td>\n",
       "      <td>491670.0</td>\n",
       "      <td>4567429</td>\n",
       "      <td>DEMOCRAT</td>\n",
       "    </tr>\n",
       "  </tbody>\n",
       "</table>\n",
       "</div>"
      ],
      "text/plain": [
       "    year       state  DEMOCRAT_VOTES  LIBERTARIAN_VOTES  OTHER_VOTES  \\\n",
       "51  2000     ALABAMA          692611             5893.0      26595.0   \n",
       "52  2000      ALASKA           79004             2636.0      36522.0   \n",
       "53  2000     ARIZONA          685341             5775.0      59248.0   \n",
       "54  2000    ARKANSAS          422768             2781.0      23292.0   \n",
       "55  2000  CALIFORNIA         5861203            45520.0     491670.0   \n",
       "\n",
       "    REPUBLICAN_VOTES Winning_Party  \n",
       "51            941173    REPUBLICAN  \n",
       "52            167398    REPUBLICAN  \n",
       "53            781652    REPUBLICAN  \n",
       "54            472940    REPUBLICAN  \n",
       "55           4567429      DEMOCRAT  "
      ]
     },
     "execution_count": 13,
     "metadata": {},
     "output_type": "execute_result"
    }
   ],
   "source": [
    "election_df.drop(election_df[election_df['year'] < 2000].index, inplace = True)\n",
    "election_df.head()"
   ]
  },
  {
   "cell_type": "code",
   "execution_count": 14,
   "metadata": {},
   "outputs": [
    {
     "data": {
      "text/html": [
       "<div>\n",
       "<style scoped>\n",
       "    .dataframe tbody tr th:only-of-type {\n",
       "        vertical-align: middle;\n",
       "    }\n",
       "\n",
       "    .dataframe tbody tr th {\n",
       "        vertical-align: top;\n",
       "    }\n",
       "\n",
       "    .dataframe thead th {\n",
       "        text-align: right;\n",
       "    }\n",
       "</style>\n",
       "<table border=\"1\" class=\"dataframe\">\n",
       "  <thead>\n",
       "    <tr style=\"text-align: right;\">\n",
       "      <th></th>\n",
       "      <th>year</th>\n",
       "      <th>state</th>\n",
       "      <th>DEMOCRAT_VOTES</th>\n",
       "      <th>LIBERTARIAN_VOTES</th>\n",
       "      <th>OTHER_VOTES</th>\n",
       "      <th>REPUBLICAN_VOTES</th>\n",
       "      <th>Winning_Party</th>\n",
       "    </tr>\n",
       "  </thead>\n",
       "  <tbody>\n",
       "    <tr>\n",
       "      <th>51</th>\n",
       "      <td>2000</td>\n",
       "      <td>ALABAMA</td>\n",
       "      <td>692611</td>\n",
       "      <td>5893.0</td>\n",
       "      <td>26595.0</td>\n",
       "      <td>941173</td>\n",
       "      <td>REPUBLICAN</td>\n",
       "    </tr>\n",
       "    <tr>\n",
       "      <th>153</th>\n",
       "      <td>2008</td>\n",
       "      <td>ALABAMA</td>\n",
       "      <td>813479</td>\n",
       "      <td>NaN</td>\n",
       "      <td>19794.0</td>\n",
       "      <td>1266546</td>\n",
       "      <td>REPUBLICAN</td>\n",
       "    </tr>\n",
       "    <tr>\n",
       "      <th>204</th>\n",
       "      <td>2012</td>\n",
       "      <td>ALABAMA</td>\n",
       "      <td>795696</td>\n",
       "      <td>NaN</td>\n",
       "      <td>22717.0</td>\n",
       "      <td>1255925</td>\n",
       "      <td>REPUBLICAN</td>\n",
       "    </tr>\n",
       "    <tr>\n",
       "      <th>255</th>\n",
       "      <td>2016</td>\n",
       "      <td>ALABAMA</td>\n",
       "      <td>729547</td>\n",
       "      <td>44467.0</td>\n",
       "      <td>31103.0</td>\n",
       "      <td>1318255</td>\n",
       "      <td>REPUBLICAN</td>\n",
       "    </tr>\n",
       "    <tr>\n",
       "      <th>306</th>\n",
       "      <td>2020</td>\n",
       "      <td>ALABAMA</td>\n",
       "      <td>849624</td>\n",
       "      <td>25176.0</td>\n",
       "      <td>7312.0</td>\n",
       "      <td>1441170</td>\n",
       "      <td>REPUBLICAN</td>\n",
       "    </tr>\n",
       "  </tbody>\n",
       "</table>\n",
       "</div>"
      ],
      "text/plain": [
       "     year    state  DEMOCRAT_VOTES  LIBERTARIAN_VOTES  OTHER_VOTES  \\\n",
       "51   2000  ALABAMA          692611             5893.0      26595.0   \n",
       "153  2008  ALABAMA          813479                NaN      19794.0   \n",
       "204  2012  ALABAMA          795696                NaN      22717.0   \n",
       "255  2016  ALABAMA          729547            44467.0      31103.0   \n",
       "306  2020  ALABAMA          849624            25176.0       7312.0   \n",
       "\n",
       "     REPUBLICAN_VOTES Winning_Party  \n",
       "51             941173    REPUBLICAN  \n",
       "153           1266546    REPUBLICAN  \n",
       "204           1255925    REPUBLICAN  \n",
       "255           1318255    REPUBLICAN  \n",
       "306           1441170    REPUBLICAN  "
      ]
     },
     "execution_count": 14,
     "metadata": {},
     "output_type": "execute_result"
    }
   ],
   "source": [
    "election_df = election_df.sort_values(by='state', ascending=True)\n",
    "election_df.head()"
   ]
  },
  {
   "cell_type": "code",
   "execution_count": 15,
   "metadata": {},
   "outputs": [],
   "source": [
    "election_df = election_df.drop(['LIBERTARIAN_VOTES', 'OTHER_VOTES'], axis=1)"
   ]
  },
  {
   "cell_type": "code",
   "execution_count": 16,
   "metadata": {},
   "outputs": [
    {
     "data": {
      "text/html": [
       "<div>\n",
       "<style scoped>\n",
       "    .dataframe tbody tr th:only-of-type {\n",
       "        vertical-align: middle;\n",
       "    }\n",
       "\n",
       "    .dataframe tbody tr th {\n",
       "        vertical-align: top;\n",
       "    }\n",
       "\n",
       "    .dataframe thead th {\n",
       "        text-align: right;\n",
       "    }\n",
       "</style>\n",
       "<table border=\"1\" class=\"dataframe\">\n",
       "  <thead>\n",
       "    <tr style=\"text-align: right;\">\n",
       "      <th></th>\n",
       "      <th>year</th>\n",
       "      <th>state</th>\n",
       "      <th>DEMOCRAT_VOTES</th>\n",
       "      <th>REPUBLICAN_VOTES</th>\n",
       "      <th>Winning_Party</th>\n",
       "      <th>TOTAL_VOTES</th>\n",
       "    </tr>\n",
       "  </thead>\n",
       "  <tbody>\n",
       "    <tr>\n",
       "      <th>51</th>\n",
       "      <td>2000</td>\n",
       "      <td>ALABAMA</td>\n",
       "      <td>692611</td>\n",
       "      <td>941173</td>\n",
       "      <td>REPUBLICAN</td>\n",
       "      <td>1633784</td>\n",
       "    </tr>\n",
       "    <tr>\n",
       "      <th>153</th>\n",
       "      <td>2008</td>\n",
       "      <td>ALABAMA</td>\n",
       "      <td>813479</td>\n",
       "      <td>1266546</td>\n",
       "      <td>REPUBLICAN</td>\n",
       "      <td>2080025</td>\n",
       "    </tr>\n",
       "    <tr>\n",
       "      <th>204</th>\n",
       "      <td>2012</td>\n",
       "      <td>ALABAMA</td>\n",
       "      <td>795696</td>\n",
       "      <td>1255925</td>\n",
       "      <td>REPUBLICAN</td>\n",
       "      <td>2051621</td>\n",
       "    </tr>\n",
       "    <tr>\n",
       "      <th>255</th>\n",
       "      <td>2016</td>\n",
       "      <td>ALABAMA</td>\n",
       "      <td>729547</td>\n",
       "      <td>1318255</td>\n",
       "      <td>REPUBLICAN</td>\n",
       "      <td>2047802</td>\n",
       "    </tr>\n",
       "    <tr>\n",
       "      <th>306</th>\n",
       "      <td>2020</td>\n",
       "      <td>ALABAMA</td>\n",
       "      <td>849624</td>\n",
       "      <td>1441170</td>\n",
       "      <td>REPUBLICAN</td>\n",
       "      <td>2290794</td>\n",
       "    </tr>\n",
       "    <tr>\n",
       "      <th>102</th>\n",
       "      <td>2004</td>\n",
       "      <td>ALABAMA</td>\n",
       "      <td>693933</td>\n",
       "      <td>1176394</td>\n",
       "      <td>REPUBLICAN</td>\n",
       "      <td>1870327</td>\n",
       "    </tr>\n",
       "    <tr>\n",
       "      <th>52</th>\n",
       "      <td>2000</td>\n",
       "      <td>ALASKA</td>\n",
       "      <td>79004</td>\n",
       "      <td>167398</td>\n",
       "      <td>REPUBLICAN</td>\n",
       "      <td>246402</td>\n",
       "    </tr>\n",
       "    <tr>\n",
       "      <th>103</th>\n",
       "      <td>2004</td>\n",
       "      <td>ALASKA</td>\n",
       "      <td>111025</td>\n",
       "      <td>190889</td>\n",
       "      <td>REPUBLICAN</td>\n",
       "      <td>301914</td>\n",
       "    </tr>\n",
       "    <tr>\n",
       "      <th>154</th>\n",
       "      <td>2008</td>\n",
       "      <td>ALASKA</td>\n",
       "      <td>123594</td>\n",
       "      <td>193841</td>\n",
       "      <td>REPUBLICAN</td>\n",
       "      <td>317435</td>\n",
       "    </tr>\n",
       "    <tr>\n",
       "      <th>205</th>\n",
       "      <td>2012</td>\n",
       "      <td>ALASKA</td>\n",
       "      <td>122640</td>\n",
       "      <td>164676</td>\n",
       "      <td>REPUBLICAN</td>\n",
       "      <td>287316</td>\n",
       "    </tr>\n",
       "  </tbody>\n",
       "</table>\n",
       "</div>"
      ],
      "text/plain": [
       "     year    state  DEMOCRAT_VOTES  REPUBLICAN_VOTES Winning_Party  \\\n",
       "51   2000  ALABAMA          692611            941173    REPUBLICAN   \n",
       "153  2008  ALABAMA          813479           1266546    REPUBLICAN   \n",
       "204  2012  ALABAMA          795696           1255925    REPUBLICAN   \n",
       "255  2016  ALABAMA          729547           1318255    REPUBLICAN   \n",
       "306  2020  ALABAMA          849624           1441170    REPUBLICAN   \n",
       "102  2004  ALABAMA          693933           1176394    REPUBLICAN   \n",
       "52   2000   ALASKA           79004            167398    REPUBLICAN   \n",
       "103  2004   ALASKA          111025            190889    REPUBLICAN   \n",
       "154  2008   ALASKA          123594            193841    REPUBLICAN   \n",
       "205  2012   ALASKA          122640            164676    REPUBLICAN   \n",
       "\n",
       "     TOTAL_VOTES  \n",
       "51       1633784  \n",
       "153      2080025  \n",
       "204      2051621  \n",
       "255      2047802  \n",
       "306      2290794  \n",
       "102      1870327  \n",
       "52        246402  \n",
       "103       301914  \n",
       "154       317435  \n",
       "205       287316  "
      ]
     },
     "execution_count": 16,
     "metadata": {},
     "output_type": "execute_result"
    }
   ],
   "source": [
    "election_df['TOTAL_VOTES'] = election_df.DEMOCRAT_VOTES + election_df.REPUBLICAN_VOTES\n",
    "election_df.head(10)"
   ]
  },
  {
   "cell_type": "code",
   "execution_count": 17,
   "metadata": {},
   "outputs": [
    {
     "data": {
      "text/html": [
       "<div>\n",
       "<style scoped>\n",
       "    .dataframe tbody tr th:only-of-type {\n",
       "        vertical-align: middle;\n",
       "    }\n",
       "\n",
       "    .dataframe tbody tr th {\n",
       "        vertical-align: top;\n",
       "    }\n",
       "\n",
       "    .dataframe thead th {\n",
       "        text-align: right;\n",
       "    }\n",
       "</style>\n",
       "<table border=\"1\" class=\"dataframe\">\n",
       "  <thead>\n",
       "    <tr style=\"text-align: right;\">\n",
       "      <th></th>\n",
       "      <th>DEMOCRAT_VOTES</th>\n",
       "      <th>REPUBLICAN_VOTES</th>\n",
       "      <th>TOTAL_VOTES</th>\n",
       "    </tr>\n",
       "    <tr>\n",
       "      <th>state</th>\n",
       "      <th></th>\n",
       "      <th></th>\n",
       "      <th></th>\n",
       "    </tr>\n",
       "  </thead>\n",
       "  <tbody>\n",
       "    <tr>\n",
       "      <th>ALABAMA</th>\n",
       "      <td>4574890</td>\n",
       "      <td>7399463</td>\n",
       "      <td>11974353</td>\n",
       "    </tr>\n",
       "    <tr>\n",
       "      <th>ALASKA</th>\n",
       "      <td>706495</td>\n",
       "      <td>1070142</td>\n",
       "      <td>1776637</td>\n",
       "    </tr>\n",
       "    <tr>\n",
       "      <th>ARIZONA</th>\n",
       "      <td>6472156</td>\n",
       "      <td>7263798</td>\n",
       "      <td>13735954</td>\n",
       "    </tr>\n",
       "    <tr>\n",
       "      <th>ARKANSAS</th>\n",
       "      <td>2513866</td>\n",
       "      <td>3777118</td>\n",
       "      <td>6290984</td>\n",
       "    </tr>\n",
       "    <tr>\n",
       "      <th>CALIFORNIA</th>\n",
       "      <td>48599484</td>\n",
       "      <td>30419233</td>\n",
       "      <td>79018717</td>\n",
       "    </tr>\n",
       "  </tbody>\n",
       "</table>\n",
       "</div>"
      ],
      "text/plain": [
       "            DEMOCRAT_VOTES  REPUBLICAN_VOTES  TOTAL_VOTES\n",
       "state                                                    \n",
       "ALABAMA            4574890           7399463     11974353\n",
       "ALASKA              706495           1070142      1776637\n",
       "ARIZONA            6472156           7263798     13735954\n",
       "ARKANSAS           2513866           3777118      6290984\n",
       "CALIFORNIA        48599484          30419233     79018717"
      ]
     },
     "execution_count": 17,
     "metadata": {},
     "output_type": "execute_result"
    }
   ],
   "source": [
    "aggregation_functions = {'DEMOCRAT_VOTES': 'sum', 'REPUBLICAN_VOTES': 'sum', 'TOTAL_VOTES': 'sum'}\n",
    "election_df_new = election_df.groupby(election_df['state']).aggregate(aggregation_functions)\n",
    "election_df_new.head()"
   ]
  },
  {
   "cell_type": "code",
   "execution_count": 18,
   "metadata": {},
   "outputs": [],
   "source": [
    "election_df_new = election_df_new.reset_index()"
   ]
  },
  {
   "cell_type": "code",
   "execution_count": 30,
   "metadata": {
    "scrolled": true
   },
   "outputs": [
    {
     "data": {
      "application/vnd.plotly.v1+json": {
       "config": {
        "plotlyServerURL": "https://plot.ly"
       },
       "data": [
        {
         "marker": {
          "line": {
           "width": 0
          }
         },
         "name": "Democrat Votes",
         "type": "bar",
         "x": [
          "ALABAMA",
          "ALASKA",
          "ARIZONA",
          "ARKANSAS",
          "CALIFORNIA",
          "COLORADO",
          "CONNECTICUT",
          "DELAWARE",
          "DISTRICT OF COLUMBIA",
          "FLORIDA",
          "GEORGIA",
          "HAWAII",
          "IDAHO",
          "ILLINOIS",
          "INDIANA",
          "IOWA",
          "KANSAS",
          "KENTUCKY",
          "LOUISIANA",
          "MAINE",
          "MARYLAND",
          "MASSACHUSETTS",
          "MICHIGAN",
          "MINNESOTA",
          "MISSISSIPPI",
          "MISSOURI",
          "MONTANA",
          "NEBRASKA",
          "NEVADA",
          "NEW HAMPSHIRE",
          "NEW JERSEY",
          "NEW MEXICO",
          "NEW YORK",
          "NORTH CAROLINA",
          "NORTH DAKOTA",
          "OHIO",
          "OKLAHOMA",
          "OREGON",
          "PENNSYLVANIA",
          "RHODE ISLAND",
          "SOUTH CAROLINA",
          "SOUTH DAKOTA",
          "TENNESSEE",
          "TEXAS",
          "UTAH",
          "VERMONT",
          "VIRGINIA",
          "WASHINGTON",
          "WEST VIRGINIA",
          "WISCONSIN",
          "WYOMING"
         ],
         "y": [
          0.38205738548045143,
          0.39765861005934244,
          0.4711835814243408,
          0.39959821865704953,
          0.6150376245668479,
          0.5239040376955223,
          0.5870640808807249,
          0.5820578122484696,
          0.931518272687319,
          0.49446756484330634,
          0.46526814273880907,
          0.654353480878383,
          0.32964868906384914,
          0.5847510791050063,
          0.4318907612216083,
          0.4970169782647348,
          0.39926258371607326,
          0.3877415578293681,
          0.4171102034542276,
          0.5510370199774419,
          0.6241415273753116,
          0.6411687236932414,
          0.5315474303942422,
          0.5287403266316215,
          0.4206335150769756,
          0.4530061605555554,
          0.41574589424754627,
          0.37819520397883566,
          0.5179067705595258,
          0.5209891186695905,
          0.5731088263482318,
          0.5405348346547825,
          0.6330417229083487,
          0.4773938791013899,
          0.3658542479725335,
          0.4879389916368987,
          0.3401828488037083,
          0.5554072422887928,
          0.5188842599967292,
          0.6213784670876841,
          0.4348602724864564,
          0.3912195336995994,
          0.40964408402301244,
          0.431787562041939,
          0.3272062391740969,
          0.6467409133790194,
          0.513171164198442,
          0.572762109437551,
          0.37840340323057325,
          0.5183359539302219,
          0.2882502797851641
         ]
        },
        {
         "marker": {
          "line": {
           "width": 0
          }
         },
         "name": "Republican Votes",
         "type": "bar",
         "x": [
          "ALABAMA",
          "ALASKA",
          "ARIZONA",
          "ARKANSAS",
          "CALIFORNIA",
          "COLORADO",
          "CONNECTICUT",
          "DELAWARE",
          "DISTRICT OF COLUMBIA",
          "FLORIDA",
          "GEORGIA",
          "HAWAII",
          "IDAHO",
          "ILLINOIS",
          "INDIANA",
          "IOWA",
          "KANSAS",
          "KENTUCKY",
          "LOUISIANA",
          "MAINE",
          "MARYLAND",
          "MASSACHUSETTS",
          "MICHIGAN",
          "MINNESOTA",
          "MISSISSIPPI",
          "MISSOURI",
          "MONTANA",
          "NEBRASKA",
          "NEVADA",
          "NEW HAMPSHIRE",
          "NEW JERSEY",
          "NEW MEXICO",
          "NEW YORK",
          "NORTH CAROLINA",
          "NORTH DAKOTA",
          "OHIO",
          "OKLAHOMA",
          "OREGON",
          "PENNSYLVANIA",
          "RHODE ISLAND",
          "SOUTH CAROLINA",
          "SOUTH DAKOTA",
          "TENNESSEE",
          "TEXAS",
          "UTAH",
          "VERMONT",
          "VIRGINIA",
          "WASHINGTON",
          "WEST VIRGINIA",
          "WISCONSIN",
          "WYOMING"
         ],
         "y": [
          0.6179426145195486,
          0.6023413899406576,
          0.5288164185756592,
          0.6004017813429505,
          0.38496237543315215,
          0.4760959623044777,
          0.4129359191192751,
          0.41794218775153036,
          0.06848172731268101,
          0.5055324351566937,
          0.5347318572611909,
          0.34564651912161704,
          0.6703513109361509,
          0.4152489208949937,
          0.5681092387783917,
          0.5029830217352652,
          0.6007374162839267,
          0.612258442170632,
          0.5828897965457723,
          0.448962980022558,
          0.37585847262468847,
          0.35883127630675865,
          0.4684525696057578,
          0.4712596733683785,
          0.5793664849230243,
          0.5469938394444446,
          0.5842541057524537,
          0.6218047960211643,
          0.48209322944047417,
          0.47901088133040953,
          0.4268911736517682,
          0.4594651653452176,
          0.36695827709165124,
          0.5226061208986101,
          0.6341457520274665,
          0.5120610083631013,
          0.6598171511962917,
          0.44459275771120726,
          0.48111574000327084,
          0.3786215329123159,
          0.5651397275135436,
          0.6087804663004006,
          0.5903559159769876,
          0.568212437958061,
          0.672793760825903,
          0.3532590866209806,
          0.48682883580155795,
          0.427237890562449,
          0.6215965967694268,
          0.4816640460697781,
          0.711749720214836
         ]
        }
       ],
       "layout": {
        "bargroupgap": 0.35,
        "barmode": "stack",
        "height": 500,
        "shapes": [
         {
          "type": "line",
          "x0": 0,
          "x1": 1,
          "xref": "x domain",
          "y0": 0.5,
          "y1": 0.5,
          "yref": "y"
         }
        ],
        "template": {
         "data": {
          "bar": [
           {
            "error_x": {
             "color": "#2a3f5f"
            },
            "error_y": {
             "color": "#2a3f5f"
            },
            "marker": {
             "line": {
              "color": "#E5ECF6",
              "width": 0.5
             }
            },
            "type": "bar"
           }
          ],
          "barpolar": [
           {
            "marker": {
             "line": {
              "color": "#E5ECF6",
              "width": 0.5
             }
            },
            "type": "barpolar"
           }
          ],
          "carpet": [
           {
            "aaxis": {
             "endlinecolor": "#2a3f5f",
             "gridcolor": "white",
             "linecolor": "white",
             "minorgridcolor": "white",
             "startlinecolor": "#2a3f5f"
            },
            "baxis": {
             "endlinecolor": "#2a3f5f",
             "gridcolor": "white",
             "linecolor": "white",
             "minorgridcolor": "white",
             "startlinecolor": "#2a3f5f"
            },
            "type": "carpet"
           }
          ],
          "choropleth": [
           {
            "colorbar": {
             "outlinewidth": 0,
             "ticks": ""
            },
            "type": "choropleth"
           }
          ],
          "contour": [
           {
            "colorbar": {
             "outlinewidth": 0,
             "ticks": ""
            },
            "colorscale": [
             [
              0,
              "#0d0887"
             ],
             [
              0.1111111111111111,
              "#46039f"
             ],
             [
              0.2222222222222222,
              "#7201a8"
             ],
             [
              0.3333333333333333,
              "#9c179e"
             ],
             [
              0.4444444444444444,
              "#bd3786"
             ],
             [
              0.5555555555555556,
              "#d8576b"
             ],
             [
              0.6666666666666666,
              "#ed7953"
             ],
             [
              0.7777777777777778,
              "#fb9f3a"
             ],
             [
              0.8888888888888888,
              "#fdca26"
             ],
             [
              1,
              "#f0f921"
             ]
            ],
            "type": "contour"
           }
          ],
          "contourcarpet": [
           {
            "colorbar": {
             "outlinewidth": 0,
             "ticks": ""
            },
            "type": "contourcarpet"
           }
          ],
          "heatmap": [
           {
            "colorbar": {
             "outlinewidth": 0,
             "ticks": ""
            },
            "colorscale": [
             [
              0,
              "#0d0887"
             ],
             [
              0.1111111111111111,
              "#46039f"
             ],
             [
              0.2222222222222222,
              "#7201a8"
             ],
             [
              0.3333333333333333,
              "#9c179e"
             ],
             [
              0.4444444444444444,
              "#bd3786"
             ],
             [
              0.5555555555555556,
              "#d8576b"
             ],
             [
              0.6666666666666666,
              "#ed7953"
             ],
             [
              0.7777777777777778,
              "#fb9f3a"
             ],
             [
              0.8888888888888888,
              "#fdca26"
             ],
             [
              1,
              "#f0f921"
             ]
            ],
            "type": "heatmap"
           }
          ],
          "heatmapgl": [
           {
            "colorbar": {
             "outlinewidth": 0,
             "ticks": ""
            },
            "colorscale": [
             [
              0,
              "#0d0887"
             ],
             [
              0.1111111111111111,
              "#46039f"
             ],
             [
              0.2222222222222222,
              "#7201a8"
             ],
             [
              0.3333333333333333,
              "#9c179e"
             ],
             [
              0.4444444444444444,
              "#bd3786"
             ],
             [
              0.5555555555555556,
              "#d8576b"
             ],
             [
              0.6666666666666666,
              "#ed7953"
             ],
             [
              0.7777777777777778,
              "#fb9f3a"
             ],
             [
              0.8888888888888888,
              "#fdca26"
             ],
             [
              1,
              "#f0f921"
             ]
            ],
            "type": "heatmapgl"
           }
          ],
          "histogram": [
           {
            "marker": {
             "colorbar": {
              "outlinewidth": 0,
              "ticks": ""
             }
            },
            "type": "histogram"
           }
          ],
          "histogram2d": [
           {
            "colorbar": {
             "outlinewidth": 0,
             "ticks": ""
            },
            "colorscale": [
             [
              0,
              "#0d0887"
             ],
             [
              0.1111111111111111,
              "#46039f"
             ],
             [
              0.2222222222222222,
              "#7201a8"
             ],
             [
              0.3333333333333333,
              "#9c179e"
             ],
             [
              0.4444444444444444,
              "#bd3786"
             ],
             [
              0.5555555555555556,
              "#d8576b"
             ],
             [
              0.6666666666666666,
              "#ed7953"
             ],
             [
              0.7777777777777778,
              "#fb9f3a"
             ],
             [
              0.8888888888888888,
              "#fdca26"
             ],
             [
              1,
              "#f0f921"
             ]
            ],
            "type": "histogram2d"
           }
          ],
          "histogram2dcontour": [
           {
            "colorbar": {
             "outlinewidth": 0,
             "ticks": ""
            },
            "colorscale": [
             [
              0,
              "#0d0887"
             ],
             [
              0.1111111111111111,
              "#46039f"
             ],
             [
              0.2222222222222222,
              "#7201a8"
             ],
             [
              0.3333333333333333,
              "#9c179e"
             ],
             [
              0.4444444444444444,
              "#bd3786"
             ],
             [
              0.5555555555555556,
              "#d8576b"
             ],
             [
              0.6666666666666666,
              "#ed7953"
             ],
             [
              0.7777777777777778,
              "#fb9f3a"
             ],
             [
              0.8888888888888888,
              "#fdca26"
             ],
             [
              1,
              "#f0f921"
             ]
            ],
            "type": "histogram2dcontour"
           }
          ],
          "mesh3d": [
           {
            "colorbar": {
             "outlinewidth": 0,
             "ticks": ""
            },
            "type": "mesh3d"
           }
          ],
          "parcoords": [
           {
            "line": {
             "colorbar": {
              "outlinewidth": 0,
              "ticks": ""
             }
            },
            "type": "parcoords"
           }
          ],
          "pie": [
           {
            "automargin": true,
            "type": "pie"
           }
          ],
          "scatter": [
           {
            "marker": {
             "colorbar": {
              "outlinewidth": 0,
              "ticks": ""
             }
            },
            "type": "scatter"
           }
          ],
          "scatter3d": [
           {
            "line": {
             "colorbar": {
              "outlinewidth": 0,
              "ticks": ""
             }
            },
            "marker": {
             "colorbar": {
              "outlinewidth": 0,
              "ticks": ""
             }
            },
            "type": "scatter3d"
           }
          ],
          "scattercarpet": [
           {
            "marker": {
             "colorbar": {
              "outlinewidth": 0,
              "ticks": ""
             }
            },
            "type": "scattercarpet"
           }
          ],
          "scattergeo": [
           {
            "marker": {
             "colorbar": {
              "outlinewidth": 0,
              "ticks": ""
             }
            },
            "type": "scattergeo"
           }
          ],
          "scattergl": [
           {
            "marker": {
             "colorbar": {
              "outlinewidth": 0,
              "ticks": ""
             }
            },
            "type": "scattergl"
           }
          ],
          "scattermapbox": [
           {
            "marker": {
             "colorbar": {
              "outlinewidth": 0,
              "ticks": ""
             }
            },
            "type": "scattermapbox"
           }
          ],
          "scatterpolar": [
           {
            "marker": {
             "colorbar": {
              "outlinewidth": 0,
              "ticks": ""
             }
            },
            "type": "scatterpolar"
           }
          ],
          "scatterpolargl": [
           {
            "marker": {
             "colorbar": {
              "outlinewidth": 0,
              "ticks": ""
             }
            },
            "type": "scatterpolargl"
           }
          ],
          "scatterternary": [
           {
            "marker": {
             "colorbar": {
              "outlinewidth": 0,
              "ticks": ""
             }
            },
            "type": "scatterternary"
           }
          ],
          "surface": [
           {
            "colorbar": {
             "outlinewidth": 0,
             "ticks": ""
            },
            "colorscale": [
             [
              0,
              "#0d0887"
             ],
             [
              0.1111111111111111,
              "#46039f"
             ],
             [
              0.2222222222222222,
              "#7201a8"
             ],
             [
              0.3333333333333333,
              "#9c179e"
             ],
             [
              0.4444444444444444,
              "#bd3786"
             ],
             [
              0.5555555555555556,
              "#d8576b"
             ],
             [
              0.6666666666666666,
              "#ed7953"
             ],
             [
              0.7777777777777778,
              "#fb9f3a"
             ],
             [
              0.8888888888888888,
              "#fdca26"
             ],
             [
              1,
              "#f0f921"
             ]
            ],
            "type": "surface"
           }
          ],
          "table": [
           {
            "cells": {
             "fill": {
              "color": "#EBF0F8"
             },
             "line": {
              "color": "white"
             }
            },
            "header": {
             "fill": {
              "color": "#C8D4E3"
             },
             "line": {
              "color": "white"
             }
            },
            "type": "table"
           }
          ]
         },
         "layout": {
          "annotationdefaults": {
           "arrowcolor": "#2a3f5f",
           "arrowhead": 0,
           "arrowwidth": 1
          },
          "autotypenumbers": "strict",
          "coloraxis": {
           "colorbar": {
            "outlinewidth": 0,
            "ticks": ""
           }
          },
          "colorscale": {
           "diverging": [
            [
             0,
             "#8e0152"
            ],
            [
             0.1,
             "#c51b7d"
            ],
            [
             0.2,
             "#de77ae"
            ],
            [
             0.3,
             "#f1b6da"
            ],
            [
             0.4,
             "#fde0ef"
            ],
            [
             0.5,
             "#f7f7f7"
            ],
            [
             0.6,
             "#e6f5d0"
            ],
            [
             0.7,
             "#b8e186"
            ],
            [
             0.8,
             "#7fbc41"
            ],
            [
             0.9,
             "#4d9221"
            ],
            [
             1,
             "#276419"
            ]
           ],
           "sequential": [
            [
             0,
             "#0d0887"
            ],
            [
             0.1111111111111111,
             "#46039f"
            ],
            [
             0.2222222222222222,
             "#7201a8"
            ],
            [
             0.3333333333333333,
             "#9c179e"
            ],
            [
             0.4444444444444444,
             "#bd3786"
            ],
            [
             0.5555555555555556,
             "#d8576b"
            ],
            [
             0.6666666666666666,
             "#ed7953"
            ],
            [
             0.7777777777777778,
             "#fb9f3a"
            ],
            [
             0.8888888888888888,
             "#fdca26"
            ],
            [
             1,
             "#f0f921"
            ]
           ],
           "sequentialminus": [
            [
             0,
             "#0d0887"
            ],
            [
             0.1111111111111111,
             "#46039f"
            ],
            [
             0.2222222222222222,
             "#7201a8"
            ],
            [
             0.3333333333333333,
             "#9c179e"
            ],
            [
             0.4444444444444444,
             "#bd3786"
            ],
            [
             0.5555555555555556,
             "#d8576b"
            ],
            [
             0.6666666666666666,
             "#ed7953"
            ],
            [
             0.7777777777777778,
             "#fb9f3a"
            ],
            [
             0.8888888888888888,
             "#fdca26"
            ],
            [
             1,
             "#f0f921"
            ]
           ]
          },
          "colorway": [
           "#636efa",
           "#EF553B",
           "#00cc96",
           "#ab63fa",
           "#FFA15A",
           "#19d3f3",
           "#FF6692",
           "#B6E880",
           "#FF97FF",
           "#FECB52"
          ],
          "font": {
           "color": "#2a3f5f"
          },
          "geo": {
           "bgcolor": "white",
           "lakecolor": "white",
           "landcolor": "#E5ECF6",
           "showlakes": true,
           "showland": true,
           "subunitcolor": "white"
          },
          "hoverlabel": {
           "align": "left"
          },
          "hovermode": "closest",
          "mapbox": {
           "style": "light"
          },
          "paper_bgcolor": "white",
          "plot_bgcolor": "#E5ECF6",
          "polar": {
           "angularaxis": {
            "gridcolor": "white",
            "linecolor": "white",
            "ticks": ""
           },
           "bgcolor": "#E5ECF6",
           "radialaxis": {
            "gridcolor": "white",
            "linecolor": "white",
            "ticks": ""
           }
          },
          "scene": {
           "xaxis": {
            "backgroundcolor": "#E5ECF6",
            "gridcolor": "white",
            "gridwidth": 2,
            "linecolor": "white",
            "showbackground": true,
            "ticks": "",
            "zerolinecolor": "white"
           },
           "yaxis": {
            "backgroundcolor": "#E5ECF6",
            "gridcolor": "white",
            "gridwidth": 2,
            "linecolor": "white",
            "showbackground": true,
            "ticks": "",
            "zerolinecolor": "white"
           },
           "zaxis": {
            "backgroundcolor": "#E5ECF6",
            "gridcolor": "white",
            "gridwidth": 2,
            "linecolor": "white",
            "showbackground": true,
            "ticks": "",
            "zerolinecolor": "white"
           }
          },
          "shapedefaults": {
           "line": {
            "color": "#2a3f5f"
           }
          },
          "ternary": {
           "aaxis": {
            "gridcolor": "white",
            "linecolor": "white",
            "ticks": ""
           },
           "baxis": {
            "gridcolor": "white",
            "linecolor": "white",
            "ticks": ""
           },
           "bgcolor": "#E5ECF6",
           "caxis": {
            "gridcolor": "white",
            "linecolor": "white",
            "ticks": ""
           }
          },
          "title": {
           "x": 0.05
          },
          "xaxis": {
           "automargin": true,
           "gridcolor": "white",
           "linecolor": "white",
           "ticks": "",
           "title": {
            "standoff": 15
           },
           "zerolinecolor": "white",
           "zerolinewidth": 2
          },
          "yaxis": {
           "automargin": true,
           "gridcolor": "white",
           "linecolor": "white",
           "ticks": "",
           "title": {
            "standoff": 15
           },
           "zerolinecolor": "white",
           "zerolinewidth": 2
          }
         }
        },
        "title": {
         "text": "2000-2020 Republican vs Democrat Vote Percentages by State"
        },
        "width": 2000,
        "xaxis": {
         "tickangle": -45
        },
        "yaxis": {
         "range": [
          0,
          1
         ],
         "tickvals": [
          0,
          0.25,
          0.5,
          0.75,
          1
         ],
         "title": {
          "text": "Vote Percentage"
         }
        }
       }
      },
      "text/html": [
       "<div>                            <div id=\"1be9099a-27c1-4917-b3d8-246e8dc7906e\" class=\"plotly-graph-div\" style=\"height:500px; width:2000px;\"></div>            <script type=\"text/javascript\">                require([\"plotly\"], function(Plotly) {                    window.PLOTLYENV=window.PLOTLYENV || {};                                    if (document.getElementById(\"1be9099a-27c1-4917-b3d8-246e8dc7906e\")) {                    Plotly.newPlot(                        \"1be9099a-27c1-4917-b3d8-246e8dc7906e\",                        [{\"marker\": {\"line\": {\"width\": 0}}, \"name\": \"Democrat Votes\", \"type\": \"bar\", \"x\": [\"ALABAMA\", \"ALASKA\", \"ARIZONA\", \"ARKANSAS\", \"CALIFORNIA\", \"COLORADO\", \"CONNECTICUT\", \"DELAWARE\", \"DISTRICT OF COLUMBIA\", \"FLORIDA\", \"GEORGIA\", \"HAWAII\", \"IDAHO\", \"ILLINOIS\", \"INDIANA\", \"IOWA\", \"KANSAS\", \"KENTUCKY\", \"LOUISIANA\", \"MAINE\", \"MARYLAND\", \"MASSACHUSETTS\", \"MICHIGAN\", \"MINNESOTA\", \"MISSISSIPPI\", \"MISSOURI\", \"MONTANA\", \"NEBRASKA\", \"NEVADA\", \"NEW HAMPSHIRE\", \"NEW JERSEY\", \"NEW MEXICO\", \"NEW YORK\", \"NORTH CAROLINA\", \"NORTH DAKOTA\", \"OHIO\", \"OKLAHOMA\", \"OREGON\", \"PENNSYLVANIA\", \"RHODE ISLAND\", \"SOUTH CAROLINA\", \"SOUTH DAKOTA\", \"TENNESSEE\", \"TEXAS\", \"UTAH\", \"VERMONT\", \"VIRGINIA\", \"WASHINGTON\", \"WEST VIRGINIA\", \"WISCONSIN\", \"WYOMING\"], \"y\": [0.38205738548045143, 0.39765861005934244, 0.4711835814243408, 0.39959821865704953, 0.6150376245668479, 0.5239040376955223, 0.5870640808807249, 0.5820578122484696, 0.931518272687319, 0.49446756484330634, 0.46526814273880907, 0.654353480878383, 0.32964868906384914, 0.5847510791050063, 0.4318907612216083, 0.4970169782647348, 0.39926258371607326, 0.3877415578293681, 0.4171102034542276, 0.5510370199774419, 0.6241415273753116, 0.6411687236932414, 0.5315474303942422, 0.5287403266316215, 0.4206335150769756, 0.4530061605555554, 0.41574589424754627, 0.37819520397883566, 0.5179067705595258, 0.5209891186695905, 0.5731088263482318, 0.5405348346547825, 0.6330417229083487, 0.4773938791013899, 0.3658542479725335, 0.4879389916368987, 0.3401828488037083, 0.5554072422887928, 0.5188842599967292, 0.6213784670876841, 0.4348602724864564, 0.3912195336995994, 0.40964408402301244, 0.431787562041939, 0.3272062391740969, 0.6467409133790194, 0.513171164198442, 0.572762109437551, 0.37840340323057325, 0.5183359539302219, 0.2882502797851641]}, {\"marker\": {\"line\": {\"width\": 0}}, \"name\": \"Republican Votes\", \"type\": \"bar\", \"x\": [\"ALABAMA\", \"ALASKA\", \"ARIZONA\", \"ARKANSAS\", \"CALIFORNIA\", \"COLORADO\", \"CONNECTICUT\", \"DELAWARE\", \"DISTRICT OF COLUMBIA\", \"FLORIDA\", \"GEORGIA\", \"HAWAII\", \"IDAHO\", \"ILLINOIS\", \"INDIANA\", \"IOWA\", \"KANSAS\", \"KENTUCKY\", \"LOUISIANA\", \"MAINE\", \"MARYLAND\", \"MASSACHUSETTS\", \"MICHIGAN\", \"MINNESOTA\", \"MISSISSIPPI\", \"MISSOURI\", \"MONTANA\", \"NEBRASKA\", \"NEVADA\", \"NEW HAMPSHIRE\", \"NEW JERSEY\", \"NEW MEXICO\", \"NEW YORK\", \"NORTH CAROLINA\", \"NORTH DAKOTA\", \"OHIO\", \"OKLAHOMA\", \"OREGON\", \"PENNSYLVANIA\", \"RHODE ISLAND\", \"SOUTH CAROLINA\", \"SOUTH DAKOTA\", \"TENNESSEE\", \"TEXAS\", \"UTAH\", \"VERMONT\", \"VIRGINIA\", \"WASHINGTON\", \"WEST VIRGINIA\", \"WISCONSIN\", \"WYOMING\"], \"y\": [0.6179426145195486, 0.6023413899406576, 0.5288164185756592, 0.6004017813429505, 0.38496237543315215, 0.4760959623044777, 0.4129359191192751, 0.41794218775153036, 0.06848172731268101, 0.5055324351566937, 0.5347318572611909, 0.34564651912161704, 0.6703513109361509, 0.4152489208949937, 0.5681092387783917, 0.5029830217352652, 0.6007374162839267, 0.612258442170632, 0.5828897965457723, 0.448962980022558, 0.37585847262468847, 0.35883127630675865, 0.4684525696057578, 0.4712596733683785, 0.5793664849230243, 0.5469938394444446, 0.5842541057524537, 0.6218047960211643, 0.48209322944047417, 0.47901088133040953, 0.4268911736517682, 0.4594651653452176, 0.36695827709165124, 0.5226061208986101, 0.6341457520274665, 0.5120610083631013, 0.6598171511962917, 0.44459275771120726, 0.48111574000327084, 0.3786215329123159, 0.5651397275135436, 0.6087804663004006, 0.5903559159769876, 0.568212437958061, 0.672793760825903, 0.3532590866209806, 0.48682883580155795, 0.427237890562449, 0.6215965967694268, 0.4816640460697781, 0.711749720214836]}],                        {\"bargroupgap\": 0.35, \"barmode\": \"stack\", \"height\": 500, \"shapes\": [{\"type\": \"line\", \"x0\": 0, \"x1\": 1, \"xref\": \"x domain\", \"y0\": 0.5, \"y1\": 0.5, \"yref\": \"y\"}], \"template\": {\"data\": {\"bar\": [{\"error_x\": {\"color\": \"#2a3f5f\"}, \"error_y\": {\"color\": \"#2a3f5f\"}, \"marker\": {\"line\": {\"color\": \"#E5ECF6\", \"width\": 0.5}}, \"type\": \"bar\"}], \"barpolar\": [{\"marker\": {\"line\": {\"color\": \"#E5ECF6\", \"width\": 0.5}}, \"type\": \"barpolar\"}], \"carpet\": [{\"aaxis\": {\"endlinecolor\": \"#2a3f5f\", \"gridcolor\": \"white\", \"linecolor\": \"white\", \"minorgridcolor\": \"white\", \"startlinecolor\": \"#2a3f5f\"}, \"baxis\": {\"endlinecolor\": \"#2a3f5f\", \"gridcolor\": \"white\", \"linecolor\": \"white\", \"minorgridcolor\": \"white\", \"startlinecolor\": \"#2a3f5f\"}, \"type\": \"carpet\"}], \"choropleth\": [{\"colorbar\": {\"outlinewidth\": 0, \"ticks\": \"\"}, \"type\": \"choropleth\"}], \"contour\": [{\"colorbar\": {\"outlinewidth\": 0, \"ticks\": \"\"}, \"colorscale\": [[0.0, \"#0d0887\"], [0.1111111111111111, \"#46039f\"], [0.2222222222222222, \"#7201a8\"], [0.3333333333333333, \"#9c179e\"], [0.4444444444444444, \"#bd3786\"], [0.5555555555555556, \"#d8576b\"], [0.6666666666666666, \"#ed7953\"], [0.7777777777777778, \"#fb9f3a\"], [0.8888888888888888, \"#fdca26\"], [1.0, \"#f0f921\"]], \"type\": \"contour\"}], \"contourcarpet\": [{\"colorbar\": {\"outlinewidth\": 0, \"ticks\": \"\"}, \"type\": \"contourcarpet\"}], \"heatmap\": [{\"colorbar\": {\"outlinewidth\": 0, \"ticks\": \"\"}, \"colorscale\": [[0.0, \"#0d0887\"], [0.1111111111111111, \"#46039f\"], [0.2222222222222222, \"#7201a8\"], [0.3333333333333333, \"#9c179e\"], [0.4444444444444444, \"#bd3786\"], [0.5555555555555556, \"#d8576b\"], [0.6666666666666666, \"#ed7953\"], [0.7777777777777778, \"#fb9f3a\"], [0.8888888888888888, \"#fdca26\"], [1.0, \"#f0f921\"]], \"type\": \"heatmap\"}], \"heatmapgl\": [{\"colorbar\": {\"outlinewidth\": 0, \"ticks\": \"\"}, \"colorscale\": [[0.0, \"#0d0887\"], [0.1111111111111111, \"#46039f\"], [0.2222222222222222, \"#7201a8\"], [0.3333333333333333, \"#9c179e\"], [0.4444444444444444, \"#bd3786\"], [0.5555555555555556, \"#d8576b\"], [0.6666666666666666, \"#ed7953\"], [0.7777777777777778, \"#fb9f3a\"], [0.8888888888888888, \"#fdca26\"], [1.0, \"#f0f921\"]], \"type\": \"heatmapgl\"}], \"histogram\": [{\"marker\": {\"colorbar\": {\"outlinewidth\": 0, \"ticks\": \"\"}}, \"type\": \"histogram\"}], \"histogram2d\": [{\"colorbar\": {\"outlinewidth\": 0, \"ticks\": \"\"}, \"colorscale\": [[0.0, \"#0d0887\"], [0.1111111111111111, \"#46039f\"], [0.2222222222222222, \"#7201a8\"], [0.3333333333333333, \"#9c179e\"], [0.4444444444444444, \"#bd3786\"], [0.5555555555555556, \"#d8576b\"], [0.6666666666666666, \"#ed7953\"], [0.7777777777777778, \"#fb9f3a\"], [0.8888888888888888, \"#fdca26\"], [1.0, \"#f0f921\"]], \"type\": \"histogram2d\"}], \"histogram2dcontour\": [{\"colorbar\": {\"outlinewidth\": 0, \"ticks\": \"\"}, \"colorscale\": [[0.0, \"#0d0887\"], [0.1111111111111111, \"#46039f\"], [0.2222222222222222, \"#7201a8\"], [0.3333333333333333, \"#9c179e\"], [0.4444444444444444, \"#bd3786\"], [0.5555555555555556, \"#d8576b\"], [0.6666666666666666, \"#ed7953\"], [0.7777777777777778, \"#fb9f3a\"], [0.8888888888888888, \"#fdca26\"], [1.0, \"#f0f921\"]], \"type\": \"histogram2dcontour\"}], \"mesh3d\": [{\"colorbar\": {\"outlinewidth\": 0, \"ticks\": \"\"}, \"type\": \"mesh3d\"}], \"parcoords\": [{\"line\": {\"colorbar\": {\"outlinewidth\": 0, \"ticks\": \"\"}}, \"type\": \"parcoords\"}], \"pie\": [{\"automargin\": true, \"type\": \"pie\"}], \"scatter\": [{\"marker\": {\"colorbar\": {\"outlinewidth\": 0, \"ticks\": \"\"}}, \"type\": \"scatter\"}], \"scatter3d\": [{\"line\": {\"colorbar\": {\"outlinewidth\": 0, \"ticks\": \"\"}}, \"marker\": {\"colorbar\": {\"outlinewidth\": 0, \"ticks\": \"\"}}, \"type\": \"scatter3d\"}], \"scattercarpet\": [{\"marker\": {\"colorbar\": {\"outlinewidth\": 0, \"ticks\": \"\"}}, \"type\": \"scattercarpet\"}], \"scattergeo\": [{\"marker\": {\"colorbar\": {\"outlinewidth\": 0, \"ticks\": \"\"}}, \"type\": \"scattergeo\"}], \"scattergl\": [{\"marker\": {\"colorbar\": {\"outlinewidth\": 0, \"ticks\": \"\"}}, \"type\": \"scattergl\"}], \"scattermapbox\": [{\"marker\": {\"colorbar\": {\"outlinewidth\": 0, \"ticks\": \"\"}}, \"type\": \"scattermapbox\"}], \"scatterpolar\": [{\"marker\": {\"colorbar\": {\"outlinewidth\": 0, \"ticks\": \"\"}}, \"type\": \"scatterpolar\"}], \"scatterpolargl\": [{\"marker\": {\"colorbar\": {\"outlinewidth\": 0, \"ticks\": \"\"}}, \"type\": \"scatterpolargl\"}], \"scatterternary\": [{\"marker\": {\"colorbar\": {\"outlinewidth\": 0, \"ticks\": \"\"}}, \"type\": \"scatterternary\"}], \"surface\": [{\"colorbar\": {\"outlinewidth\": 0, \"ticks\": \"\"}, \"colorscale\": [[0.0, \"#0d0887\"], [0.1111111111111111, \"#46039f\"], [0.2222222222222222, \"#7201a8\"], [0.3333333333333333, \"#9c179e\"], [0.4444444444444444, \"#bd3786\"], [0.5555555555555556, \"#d8576b\"], [0.6666666666666666, \"#ed7953\"], [0.7777777777777778, \"#fb9f3a\"], [0.8888888888888888, \"#fdca26\"], [1.0, \"#f0f921\"]], \"type\": \"surface\"}], \"table\": [{\"cells\": {\"fill\": {\"color\": \"#EBF0F8\"}, \"line\": {\"color\": \"white\"}}, \"header\": {\"fill\": {\"color\": \"#C8D4E3\"}, \"line\": {\"color\": \"white\"}}, \"type\": \"table\"}]}, \"layout\": {\"annotationdefaults\": {\"arrowcolor\": \"#2a3f5f\", \"arrowhead\": 0, \"arrowwidth\": 1}, \"autotypenumbers\": \"strict\", \"coloraxis\": {\"colorbar\": {\"outlinewidth\": 0, \"ticks\": \"\"}}, \"colorscale\": {\"diverging\": [[0, \"#8e0152\"], [0.1, \"#c51b7d\"], [0.2, \"#de77ae\"], [0.3, \"#f1b6da\"], [0.4, \"#fde0ef\"], [0.5, \"#f7f7f7\"], [0.6, \"#e6f5d0\"], [0.7, \"#b8e186\"], [0.8, \"#7fbc41\"], [0.9, \"#4d9221\"], [1, \"#276419\"]], \"sequential\": [[0.0, \"#0d0887\"], [0.1111111111111111, \"#46039f\"], [0.2222222222222222, \"#7201a8\"], [0.3333333333333333, \"#9c179e\"], [0.4444444444444444, \"#bd3786\"], [0.5555555555555556, \"#d8576b\"], [0.6666666666666666, \"#ed7953\"], [0.7777777777777778, \"#fb9f3a\"], [0.8888888888888888, \"#fdca26\"], [1.0, \"#f0f921\"]], \"sequentialminus\": [[0.0, \"#0d0887\"], [0.1111111111111111, \"#46039f\"], [0.2222222222222222, \"#7201a8\"], [0.3333333333333333, \"#9c179e\"], [0.4444444444444444, \"#bd3786\"], [0.5555555555555556, \"#d8576b\"], [0.6666666666666666, \"#ed7953\"], [0.7777777777777778, \"#fb9f3a\"], [0.8888888888888888, \"#fdca26\"], [1.0, \"#f0f921\"]]}, \"colorway\": [\"#636efa\", \"#EF553B\", \"#00cc96\", \"#ab63fa\", \"#FFA15A\", \"#19d3f3\", \"#FF6692\", \"#B6E880\", \"#FF97FF\", \"#FECB52\"], \"font\": {\"color\": \"#2a3f5f\"}, \"geo\": {\"bgcolor\": \"white\", \"lakecolor\": \"white\", \"landcolor\": \"#E5ECF6\", \"showlakes\": true, \"showland\": true, \"subunitcolor\": \"white\"}, \"hoverlabel\": {\"align\": \"left\"}, \"hovermode\": \"closest\", \"mapbox\": {\"style\": \"light\"}, \"paper_bgcolor\": \"white\", \"plot_bgcolor\": \"#E5ECF6\", \"polar\": {\"angularaxis\": {\"gridcolor\": \"white\", \"linecolor\": \"white\", \"ticks\": \"\"}, \"bgcolor\": \"#E5ECF6\", \"radialaxis\": {\"gridcolor\": \"white\", \"linecolor\": \"white\", \"ticks\": \"\"}}, \"scene\": {\"xaxis\": {\"backgroundcolor\": \"#E5ECF6\", \"gridcolor\": \"white\", \"gridwidth\": 2, \"linecolor\": \"white\", \"showbackground\": true, \"ticks\": \"\", \"zerolinecolor\": \"white\"}, \"yaxis\": {\"backgroundcolor\": \"#E5ECF6\", \"gridcolor\": \"white\", \"gridwidth\": 2, \"linecolor\": \"white\", \"showbackground\": true, \"ticks\": \"\", \"zerolinecolor\": \"white\"}, \"zaxis\": {\"backgroundcolor\": \"#E5ECF6\", \"gridcolor\": \"white\", \"gridwidth\": 2, \"linecolor\": \"white\", \"showbackground\": true, \"ticks\": \"\", \"zerolinecolor\": \"white\"}}, \"shapedefaults\": {\"line\": {\"color\": \"#2a3f5f\"}}, \"ternary\": {\"aaxis\": {\"gridcolor\": \"white\", \"linecolor\": \"white\", \"ticks\": \"\"}, \"baxis\": {\"gridcolor\": \"white\", \"linecolor\": \"white\", \"ticks\": \"\"}, \"bgcolor\": \"#E5ECF6\", \"caxis\": {\"gridcolor\": \"white\", \"linecolor\": \"white\", \"ticks\": \"\"}}, \"title\": {\"x\": 0.05}, \"xaxis\": {\"automargin\": true, \"gridcolor\": \"white\", \"linecolor\": \"white\", \"ticks\": \"\", \"title\": {\"standoff\": 15}, \"zerolinecolor\": \"white\", \"zerolinewidth\": 2}, \"yaxis\": {\"automargin\": true, \"gridcolor\": \"white\", \"linecolor\": \"white\", \"ticks\": \"\", \"title\": {\"standoff\": 15}, \"zerolinecolor\": \"white\", \"zerolinewidth\": 2}}}, \"title\": {\"text\": \"2000-2020 Republican vs Democrat Vote Percentages by State\"}, \"width\": 2000, \"xaxis\": {\"tickangle\": -45}, \"yaxis\": {\"range\": [0, 1], \"tickvals\": [0, 0.25, 0.5, 0.75, 1], \"title\": {\"text\": \"Vote Percentage\"}}},                        {\"responsive\": true}                    ).then(function(){\n",
       "                            \n",
       "var gd = document.getElementById('1be9099a-27c1-4917-b3d8-246e8dc7906e');\n",
       "var x = new MutationObserver(function (mutations, observer) {{\n",
       "        var display = window.getComputedStyle(gd).display;\n",
       "        if (!display || display === 'none') {{\n",
       "            console.log([gd, 'removed!']);\n",
       "            Plotly.purge(gd);\n",
       "            observer.disconnect();\n",
       "        }}\n",
       "}});\n",
       "\n",
       "// Listen for the removal of the full notebook cells\n",
       "var notebookContainer = gd.closest('#notebook-container');\n",
       "if (notebookContainer) {{\n",
       "    x.observe(notebookContainer, {childList: true});\n",
       "}}\n",
       "\n",
       "// Listen for the clearing of the current output cell\n",
       "var outputEl = gd.closest('.output');\n",
       "if (outputEl) {{\n",
       "    x.observe(outputEl, {childList: true});\n",
       "}}\n",
       "\n",
       "                        })                };                });            </script>        </div>"
      ]
     },
     "metadata": {},
     "output_type": "display_data"
    }
   ],
   "source": [
    "x = election_df_new['state']\n",
    "\n",
    "plot = go.Figure(data=[go.Bar(\n",
    "    name = 'Democrat Votes',\n",
    "    x = x,\n",
    "    y = election_df_new[\"DEMOCRAT_VOTES\"]/election_df_new[\"TOTAL_VOTES\"]\n",
    "   ),\n",
    "                       go.Bar(\n",
    "    name = 'Republican Votes',\n",
    "    x = x,\n",
    "    y = election_df_new[\"REPUBLICAN_VOTES\"]/election_df_new[\"TOTAL_VOTES\"]\n",
    "                        \n",
    "   )\n",
    "    \n",
    "])\n",
    "plot.update_layout(barmode='stack', title_text='2000-2020 Republican vs Democrat Vote Percentages by State', xaxis_tickangle=-45, \n",
    "                   yaxis_title=\"Vote Percentage\",bargroupgap=0.35, width=2000, height=500, yaxis_range=[0,1])\n",
    "plot.update_traces(marker_line_width=0)\n",
    "plot.update_yaxes(tickvals=[0, 0.25, 0.50, 0.75, 1])\n",
    "plot.add_hline(y=0.50)\n",
    "plot.show()"
   ]
  },
  {
   "cell_type": "markdown",
   "metadata": {},
   "source": [
    "### Observing Winning Party by State Counts"
   ]
  },
  {
   "cell_type": "code",
   "execution_count": 20,
   "metadata": {},
   "outputs": [
    {
     "data": {
      "text/html": [
       "<div>\n",
       "<style scoped>\n",
       "    .dataframe tbody tr th:only-of-type {\n",
       "        vertical-align: middle;\n",
       "    }\n",
       "\n",
       "    .dataframe tbody tr th {\n",
       "        vertical-align: top;\n",
       "    }\n",
       "\n",
       "    .dataframe thead th {\n",
       "        text-align: right;\n",
       "    }\n",
       "</style>\n",
       "<table border=\"1\" class=\"dataframe\">\n",
       "  <thead>\n",
       "    <tr style=\"text-align: right;\">\n",
       "      <th></th>\n",
       "      <th>year</th>\n",
       "      <th>state</th>\n",
       "      <th>DEMOCRAT_VOTES</th>\n",
       "      <th>REPUBLICAN_VOTES</th>\n",
       "      <th>TOTAL_VOTES</th>\n",
       "      <th>Winning_Party_DEMOCRAT</th>\n",
       "      <th>Winning_Party_REPUBLICAN</th>\n",
       "    </tr>\n",
       "  </thead>\n",
       "  <tbody>\n",
       "    <tr>\n",
       "      <th>51</th>\n",
       "      <td>2000</td>\n",
       "      <td>ALABAMA</td>\n",
       "      <td>692611</td>\n",
       "      <td>941173</td>\n",
       "      <td>1633784</td>\n",
       "      <td>0</td>\n",
       "      <td>1</td>\n",
       "    </tr>\n",
       "    <tr>\n",
       "      <th>153</th>\n",
       "      <td>2008</td>\n",
       "      <td>ALABAMA</td>\n",
       "      <td>813479</td>\n",
       "      <td>1266546</td>\n",
       "      <td>2080025</td>\n",
       "      <td>0</td>\n",
       "      <td>1</td>\n",
       "    </tr>\n",
       "    <tr>\n",
       "      <th>204</th>\n",
       "      <td>2012</td>\n",
       "      <td>ALABAMA</td>\n",
       "      <td>795696</td>\n",
       "      <td>1255925</td>\n",
       "      <td>2051621</td>\n",
       "      <td>0</td>\n",
       "      <td>1</td>\n",
       "    </tr>\n",
       "    <tr>\n",
       "      <th>255</th>\n",
       "      <td>2016</td>\n",
       "      <td>ALABAMA</td>\n",
       "      <td>729547</td>\n",
       "      <td>1318255</td>\n",
       "      <td>2047802</td>\n",
       "      <td>0</td>\n",
       "      <td>1</td>\n",
       "    </tr>\n",
       "    <tr>\n",
       "      <th>306</th>\n",
       "      <td>2020</td>\n",
       "      <td>ALABAMA</td>\n",
       "      <td>849624</td>\n",
       "      <td>1441170</td>\n",
       "      <td>2290794</td>\n",
       "      <td>0</td>\n",
       "      <td>1</td>\n",
       "    </tr>\n",
       "  </tbody>\n",
       "</table>\n",
       "</div>"
      ],
      "text/plain": [
       "     year    state  DEMOCRAT_VOTES  REPUBLICAN_VOTES  TOTAL_VOTES  \\\n",
       "51   2000  ALABAMA          692611            941173      1633784   \n",
       "153  2008  ALABAMA          813479           1266546      2080025   \n",
       "204  2012  ALABAMA          795696           1255925      2051621   \n",
       "255  2016  ALABAMA          729547           1318255      2047802   \n",
       "306  2020  ALABAMA          849624           1441170      2290794   \n",
       "\n",
       "     Winning_Party_DEMOCRAT  Winning_Party_REPUBLICAN  \n",
       "51                        0                         1  \n",
       "153                       0                         1  \n",
       "204                       0                         1  \n",
       "255                       0                         1  \n",
       "306                       0                         1  "
      ]
     },
     "execution_count": 20,
     "metadata": {},
     "output_type": "execute_result"
    }
   ],
   "source": [
    "election_df2 = pd.get_dummies(data=election_df, columns=['Winning_Party'])\n",
    "election_df2.head()"
   ]
  },
  {
   "cell_type": "code",
   "execution_count": 21,
   "metadata": {},
   "outputs": [
    {
     "data": {
      "application/vnd.plotly.v1+json": {
       "config": {
        "plotlyServerURL": "https://plot.ly"
       },
       "data": [
        {
         "marker": {
          "line": {
           "width": 0
          }
         },
         "name": "Democrat Votes",
         "type": "bar",
         "x": [
          2000,
          2008,
          2012,
          2016,
          2020,
          2004,
          2000,
          2004,
          2008,
          2012,
          2016,
          2020,
          2016,
          2012,
          2000,
          2008,
          2004,
          2020,
          2020,
          2012,
          2008,
          2004,
          2016,
          2000,
          2012,
          2016,
          2004,
          2000,
          2020,
          2008,
          2016,
          2012,
          2000,
          2004,
          2020,
          2008,
          2004,
          2000,
          2012,
          2016,
          2020,
          2008,
          2008,
          2020,
          2004,
          2016,
          2000,
          2012,
          2008,
          2012,
          2004,
          2016,
          2020,
          2000,
          2008,
          2012,
          2016,
          2004,
          2020,
          2000,
          2008,
          2004,
          2020,
          2000,
          2016,
          2012,
          2000,
          2004,
          2016,
          2012,
          2020,
          2008,
          2016,
          2012,
          2008,
          2020,
          2004,
          2000,
          2008,
          2016,
          2004,
          2020,
          2012,
          2000,
          2000,
          2008,
          2012,
          2020,
          2016,
          2004,
          2008,
          2004,
          2012,
          2016,
          2020,
          2000,
          2000,
          2020,
          2004,
          2012,
          2008,
          2016,
          2012,
          2008,
          2004,
          2000,
          2020,
          2016,
          2016,
          2012,
          2000,
          2004,
          2020,
          2008,
          2008,
          2020,
          2000,
          2016,
          2004,
          2012,
          2000,
          2004,
          2012,
          2020,
          2016,
          2008,
          2008,
          2020,
          2012,
          2004,
          2000,
          2016,
          2000,
          2020,
          2012,
          2008,
          2016,
          2004,
          2016,
          2000,
          2012,
          2008,
          2020,
          2004,
          2012,
          2004,
          2020,
          2008,
          2000,
          2016,
          2000,
          2012,
          2004,
          2016,
          2008,
          2020,
          2004,
          2012,
          2020,
          2000,
          2008,
          2016,
          2004,
          2016,
          2008,
          2012,
          2020,
          2000,
          2016,
          2004,
          2008,
          2012,
          2020,
          2000,
          2016,
          2012,
          2008,
          2000,
          2004,
          2020,
          2020,
          2000,
          2004,
          2012,
          2016,
          2008,
          2012,
          2004,
          2016,
          2020,
          2000,
          2008,
          2004,
          2016,
          2020,
          2008,
          2000,
          2012,
          2012,
          2004,
          2000,
          2008,
          2020,
          2016,
          2004,
          2008,
          2012,
          2020,
          2016,
          2000,
          2000,
          2016,
          2020,
          2004,
          2012,
          2008,
          2004,
          2012,
          2016,
          2020,
          2000,
          2008,
          2004,
          2020,
          2016,
          2008,
          2000,
          2012,
          2020,
          2008,
          2012,
          2000,
          2016,
          2004,
          2004,
          2016,
          2000,
          2008,
          2020,
          2012,
          2016,
          2020,
          2004,
          2008,
          2012,
          2000,
          2004,
          2008,
          2020,
          2000,
          2012,
          2016,
          2020,
          2016,
          2012,
          2004,
          2000,
          2008,
          2004,
          2016,
          2012,
          2008,
          2020,
          2000,
          2020,
          2004,
          2012,
          2016,
          2008,
          2000,
          2016,
          2000,
          2020,
          2012,
          2004,
          2008,
          2020,
          2000,
          2012,
          2004,
          2008,
          2016,
          2000,
          2004,
          2008,
          2012,
          2016,
          2020,
          2004,
          2008,
          2020,
          2000,
          2012,
          2016,
          2004,
          2008,
          2020,
          2000,
          2012,
          2016,
          2008,
          2012,
          2004,
          2000,
          2016,
          2020
         ],
         "y": [
          0,
          0,
          0,
          0,
          0,
          0,
          0,
          0,
          0,
          0,
          0,
          0,
          0,
          0,
          0,
          0,
          0,
          1,
          0,
          0,
          0,
          0,
          0,
          0,
          1,
          1,
          1,
          1,
          1,
          1,
          1,
          1,
          0,
          0,
          1,
          1,
          1,
          1,
          1,
          1,
          1,
          1,
          1,
          1,
          1,
          1,
          1,
          1,
          1,
          1,
          1,
          1,
          1,
          1,
          1,
          1,
          0,
          0,
          0,
          0,
          0,
          0,
          1,
          0,
          0,
          0,
          1,
          1,
          1,
          1,
          1,
          1,
          0,
          0,
          0,
          0,
          0,
          0,
          1,
          1,
          1,
          1,
          1,
          1,
          0,
          1,
          0,
          0,
          0,
          0,
          1,
          0,
          1,
          0,
          0,
          1,
          0,
          0,
          0,
          0,
          0,
          0,
          0,
          0,
          0,
          0,
          0,
          0,
          0,
          0,
          0,
          0,
          0,
          0,
          1,
          1,
          1,
          1,
          1,
          1,
          1,
          1,
          1,
          1,
          1,
          1,
          1,
          1,
          1,
          1,
          1,
          1,
          1,
          1,
          1,
          1,
          0,
          1,
          1,
          1,
          1,
          1,
          1,
          1,
          0,
          0,
          0,
          0,
          0,
          0,
          0,
          0,
          0,
          0,
          0,
          0,
          0,
          0,
          0,
          0,
          0,
          0,
          0,
          0,
          0,
          0,
          0,
          0,
          1,
          0,
          1,
          1,
          1,
          0,
          1,
          1,
          1,
          0,
          1,
          1,
          1,
          1,
          1,
          1,
          1,
          1,
          1,
          0,
          1,
          1,
          1,
          1,
          1,
          1,
          1,
          1,
          1,
          1,
          0,
          0,
          0,
          1,
          0,
          0,
          0,
          0,
          0,
          0,
          0,
          0,
          0,
          0,
          0,
          0,
          1,
          1,
          0,
          0,
          0,
          0,
          0,
          0,
          1,
          1,
          1,
          1,
          1,
          1,
          1,
          1,
          1,
          1,
          0,
          1,
          1,
          1,
          1,
          1,
          1,
          1,
          0,
          0,
          0,
          0,
          0,
          0,
          0,
          0,
          0,
          0,
          0,
          0,
          0,
          0,
          0,
          0,
          0,
          0,
          0,
          0,
          0,
          0,
          0,
          0,
          0,
          0,
          0,
          0,
          0,
          0,
          1,
          1,
          1,
          1,
          1,
          1,
          1,
          0,
          1,
          0,
          1,
          1,
          1,
          1,
          1,
          1,
          1,
          1,
          0,
          0,
          0,
          0,
          0,
          0,
          1,
          1,
          1,
          1,
          1,
          0,
          0,
          0,
          0,
          0,
          0,
          0
         ]
        },
        {
         "marker": {
          "line": {
           "width": 0
          }
         },
         "name": "Republican Votes",
         "type": "bar",
         "x": [
          2000,
          2008,
          2012,
          2016,
          2020,
          2004,
          2000,
          2004,
          2008,
          2012,
          2016,
          2020,
          2016,
          2012,
          2000,
          2008,
          2004,
          2020,
          2020,
          2012,
          2008,
          2004,
          2016,
          2000,
          2012,
          2016,
          2004,
          2000,
          2020,
          2008,
          2016,
          2012,
          2000,
          2004,
          2020,
          2008,
          2004,
          2000,
          2012,
          2016,
          2020,
          2008,
          2008,
          2020,
          2004,
          2016,
          2000,
          2012,
          2008,
          2012,
          2004,
          2016,
          2020,
          2000,
          2008,
          2012,
          2016,
          2004,
          2020,
          2000,
          2008,
          2004,
          2020,
          2000,
          2016,
          2012,
          2000,
          2004,
          2016,
          2012,
          2020,
          2008,
          2016,
          2012,
          2008,
          2020,
          2004,
          2000,
          2008,
          2016,
          2004,
          2020,
          2012,
          2000,
          2000,
          2008,
          2012,
          2020,
          2016,
          2004,
          2008,
          2004,
          2012,
          2016,
          2020,
          2000,
          2000,
          2020,
          2004,
          2012,
          2008,
          2016,
          2012,
          2008,
          2004,
          2000,
          2020,
          2016,
          2016,
          2012,
          2000,
          2004,
          2020,
          2008,
          2008,
          2020,
          2000,
          2016,
          2004,
          2012,
          2000,
          2004,
          2012,
          2020,
          2016,
          2008,
          2008,
          2020,
          2012,
          2004,
          2000,
          2016,
          2000,
          2020,
          2012,
          2008,
          2016,
          2004,
          2016,
          2000,
          2012,
          2008,
          2020,
          2004,
          2012,
          2004,
          2020,
          2008,
          2000,
          2016,
          2000,
          2012,
          2004,
          2016,
          2008,
          2020,
          2004,
          2012,
          2020,
          2000,
          2008,
          2016,
          2004,
          2016,
          2008,
          2012,
          2020,
          2000,
          2016,
          2004,
          2008,
          2012,
          2020,
          2000,
          2016,
          2012,
          2008,
          2000,
          2004,
          2020,
          2020,
          2000,
          2004,
          2012,
          2016,
          2008,
          2012,
          2004,
          2016,
          2020,
          2000,
          2008,
          2004,
          2016,
          2020,
          2008,
          2000,
          2012,
          2012,
          2004,
          2000,
          2008,
          2020,
          2016,
          2004,
          2008,
          2012,
          2020,
          2016,
          2000,
          2000,
          2016,
          2020,
          2004,
          2012,
          2008,
          2004,
          2012,
          2016,
          2020,
          2000,
          2008,
          2004,
          2020,
          2016,
          2008,
          2000,
          2012,
          2020,
          2008,
          2012,
          2000,
          2016,
          2004,
          2004,
          2016,
          2000,
          2008,
          2020,
          2012,
          2016,
          2020,
          2004,
          2008,
          2012,
          2000,
          2004,
          2008,
          2020,
          2000,
          2012,
          2016,
          2020,
          2016,
          2012,
          2004,
          2000,
          2008,
          2004,
          2016,
          2012,
          2008,
          2020,
          2000,
          2020,
          2004,
          2012,
          2016,
          2008,
          2000,
          2016,
          2000,
          2020,
          2012,
          2004,
          2008,
          2020,
          2000,
          2012,
          2004,
          2008,
          2016,
          2000,
          2004,
          2008,
          2012,
          2016,
          2020,
          2004,
          2008,
          2020,
          2000,
          2012,
          2016,
          2004,
          2008,
          2020,
          2000,
          2012,
          2016,
          2008,
          2012,
          2004,
          2000,
          2016,
          2020
         ],
         "y": [
          1,
          1,
          1,
          1,
          1,
          1,
          1,
          1,
          1,
          1,
          1,
          1,
          1,
          1,
          1,
          1,
          1,
          0,
          1,
          1,
          1,
          1,
          1,
          1,
          0,
          0,
          0,
          0,
          0,
          0,
          0,
          0,
          1,
          1,
          0,
          0,
          0,
          0,
          0,
          0,
          0,
          0,
          0,
          0,
          0,
          0,
          0,
          0,
          0,
          0,
          0,
          0,
          0,
          0,
          0,
          0,
          1,
          1,
          1,
          1,
          1,
          1,
          0,
          1,
          1,
          1,
          0,
          0,
          0,
          0,
          0,
          0,
          1,
          1,
          1,
          1,
          1,
          1,
          0,
          0,
          0,
          0,
          0,
          0,
          1,
          0,
          1,
          1,
          1,
          1,
          0,
          1,
          0,
          1,
          1,
          0,
          1,
          1,
          1,
          1,
          1,
          1,
          1,
          1,
          1,
          1,
          1,
          1,
          1,
          1,
          1,
          1,
          1,
          1,
          0,
          0,
          0,
          0,
          0,
          0,
          0,
          0,
          0,
          0,
          0,
          0,
          0,
          0,
          0,
          0,
          0,
          0,
          0,
          0,
          0,
          0,
          1,
          0,
          0,
          0,
          0,
          0,
          0,
          0,
          1,
          1,
          1,
          1,
          1,
          1,
          1,
          1,
          1,
          1,
          1,
          1,
          1,
          1,
          1,
          1,
          1,
          1,
          1,
          1,
          1,
          1,
          1,
          1,
          0,
          1,
          0,
          0,
          0,
          1,
          0,
          0,
          0,
          1,
          0,
          0,
          0,
          0,
          0,
          0,
          0,
          0,
          0,
          1,
          0,
          0,
          0,
          0,
          0,
          0,
          0,
          0,
          0,
          0,
          1,
          1,
          1,
          0,
          1,
          1,
          1,
          1,
          1,
          1,
          1,
          1,
          1,
          1,
          1,
          1,
          0,
          0,
          1,
          1,
          1,
          1,
          1,
          1,
          0,
          0,
          0,
          0,
          0,
          0,
          0,
          0,
          0,
          0,
          1,
          0,
          0,
          0,
          0,
          0,
          0,
          0,
          1,
          1,
          1,
          1,
          1,
          1,
          1,
          1,
          1,
          1,
          1,
          1,
          1,
          1,
          1,
          1,
          1,
          1,
          1,
          1,
          1,
          1,
          1,
          1,
          1,
          1,
          1,
          1,
          1,
          1,
          0,
          0,
          0,
          0,
          0,
          0,
          0,
          1,
          0,
          1,
          0,
          0,
          0,
          0,
          0,
          0,
          0,
          0,
          1,
          1,
          1,
          1,
          1,
          1,
          0,
          0,
          0,
          0,
          0,
          1,
          1,
          1,
          1,
          1,
          1,
          1
         ]
        }
       ],
       "layout": {
        "height": 500,
        "template": {
         "data": {
          "bar": [
           {
            "error_x": {
             "color": "#2a3f5f"
            },
            "error_y": {
             "color": "#2a3f5f"
            },
            "marker": {
             "line": {
              "color": "#E5ECF6",
              "width": 0.5
             }
            },
            "type": "bar"
           }
          ],
          "barpolar": [
           {
            "marker": {
             "line": {
              "color": "#E5ECF6",
              "width": 0.5
             }
            },
            "type": "barpolar"
           }
          ],
          "carpet": [
           {
            "aaxis": {
             "endlinecolor": "#2a3f5f",
             "gridcolor": "white",
             "linecolor": "white",
             "minorgridcolor": "white",
             "startlinecolor": "#2a3f5f"
            },
            "baxis": {
             "endlinecolor": "#2a3f5f",
             "gridcolor": "white",
             "linecolor": "white",
             "minorgridcolor": "white",
             "startlinecolor": "#2a3f5f"
            },
            "type": "carpet"
           }
          ],
          "choropleth": [
           {
            "colorbar": {
             "outlinewidth": 0,
             "ticks": ""
            },
            "type": "choropleth"
           }
          ],
          "contour": [
           {
            "colorbar": {
             "outlinewidth": 0,
             "ticks": ""
            },
            "colorscale": [
             [
              0,
              "#0d0887"
             ],
             [
              0.1111111111111111,
              "#46039f"
             ],
             [
              0.2222222222222222,
              "#7201a8"
             ],
             [
              0.3333333333333333,
              "#9c179e"
             ],
             [
              0.4444444444444444,
              "#bd3786"
             ],
             [
              0.5555555555555556,
              "#d8576b"
             ],
             [
              0.6666666666666666,
              "#ed7953"
             ],
             [
              0.7777777777777778,
              "#fb9f3a"
             ],
             [
              0.8888888888888888,
              "#fdca26"
             ],
             [
              1,
              "#f0f921"
             ]
            ],
            "type": "contour"
           }
          ],
          "contourcarpet": [
           {
            "colorbar": {
             "outlinewidth": 0,
             "ticks": ""
            },
            "type": "contourcarpet"
           }
          ],
          "heatmap": [
           {
            "colorbar": {
             "outlinewidth": 0,
             "ticks": ""
            },
            "colorscale": [
             [
              0,
              "#0d0887"
             ],
             [
              0.1111111111111111,
              "#46039f"
             ],
             [
              0.2222222222222222,
              "#7201a8"
             ],
             [
              0.3333333333333333,
              "#9c179e"
             ],
             [
              0.4444444444444444,
              "#bd3786"
             ],
             [
              0.5555555555555556,
              "#d8576b"
             ],
             [
              0.6666666666666666,
              "#ed7953"
             ],
             [
              0.7777777777777778,
              "#fb9f3a"
             ],
             [
              0.8888888888888888,
              "#fdca26"
             ],
             [
              1,
              "#f0f921"
             ]
            ],
            "type": "heatmap"
           }
          ],
          "heatmapgl": [
           {
            "colorbar": {
             "outlinewidth": 0,
             "ticks": ""
            },
            "colorscale": [
             [
              0,
              "#0d0887"
             ],
             [
              0.1111111111111111,
              "#46039f"
             ],
             [
              0.2222222222222222,
              "#7201a8"
             ],
             [
              0.3333333333333333,
              "#9c179e"
             ],
             [
              0.4444444444444444,
              "#bd3786"
             ],
             [
              0.5555555555555556,
              "#d8576b"
             ],
             [
              0.6666666666666666,
              "#ed7953"
             ],
             [
              0.7777777777777778,
              "#fb9f3a"
             ],
             [
              0.8888888888888888,
              "#fdca26"
             ],
             [
              1,
              "#f0f921"
             ]
            ],
            "type": "heatmapgl"
           }
          ],
          "histogram": [
           {
            "marker": {
             "colorbar": {
              "outlinewidth": 0,
              "ticks": ""
             }
            },
            "type": "histogram"
           }
          ],
          "histogram2d": [
           {
            "colorbar": {
             "outlinewidth": 0,
             "ticks": ""
            },
            "colorscale": [
             [
              0,
              "#0d0887"
             ],
             [
              0.1111111111111111,
              "#46039f"
             ],
             [
              0.2222222222222222,
              "#7201a8"
             ],
             [
              0.3333333333333333,
              "#9c179e"
             ],
             [
              0.4444444444444444,
              "#bd3786"
             ],
             [
              0.5555555555555556,
              "#d8576b"
             ],
             [
              0.6666666666666666,
              "#ed7953"
             ],
             [
              0.7777777777777778,
              "#fb9f3a"
             ],
             [
              0.8888888888888888,
              "#fdca26"
             ],
             [
              1,
              "#f0f921"
             ]
            ],
            "type": "histogram2d"
           }
          ],
          "histogram2dcontour": [
           {
            "colorbar": {
             "outlinewidth": 0,
             "ticks": ""
            },
            "colorscale": [
             [
              0,
              "#0d0887"
             ],
             [
              0.1111111111111111,
              "#46039f"
             ],
             [
              0.2222222222222222,
              "#7201a8"
             ],
             [
              0.3333333333333333,
              "#9c179e"
             ],
             [
              0.4444444444444444,
              "#bd3786"
             ],
             [
              0.5555555555555556,
              "#d8576b"
             ],
             [
              0.6666666666666666,
              "#ed7953"
             ],
             [
              0.7777777777777778,
              "#fb9f3a"
             ],
             [
              0.8888888888888888,
              "#fdca26"
             ],
             [
              1,
              "#f0f921"
             ]
            ],
            "type": "histogram2dcontour"
           }
          ],
          "mesh3d": [
           {
            "colorbar": {
             "outlinewidth": 0,
             "ticks": ""
            },
            "type": "mesh3d"
           }
          ],
          "parcoords": [
           {
            "line": {
             "colorbar": {
              "outlinewidth": 0,
              "ticks": ""
             }
            },
            "type": "parcoords"
           }
          ],
          "pie": [
           {
            "automargin": true,
            "type": "pie"
           }
          ],
          "scatter": [
           {
            "marker": {
             "colorbar": {
              "outlinewidth": 0,
              "ticks": ""
             }
            },
            "type": "scatter"
           }
          ],
          "scatter3d": [
           {
            "line": {
             "colorbar": {
              "outlinewidth": 0,
              "ticks": ""
             }
            },
            "marker": {
             "colorbar": {
              "outlinewidth": 0,
              "ticks": ""
             }
            },
            "type": "scatter3d"
           }
          ],
          "scattercarpet": [
           {
            "marker": {
             "colorbar": {
              "outlinewidth": 0,
              "ticks": ""
             }
            },
            "type": "scattercarpet"
           }
          ],
          "scattergeo": [
           {
            "marker": {
             "colorbar": {
              "outlinewidth": 0,
              "ticks": ""
             }
            },
            "type": "scattergeo"
           }
          ],
          "scattergl": [
           {
            "marker": {
             "colorbar": {
              "outlinewidth": 0,
              "ticks": ""
             }
            },
            "type": "scattergl"
           }
          ],
          "scattermapbox": [
           {
            "marker": {
             "colorbar": {
              "outlinewidth": 0,
              "ticks": ""
             }
            },
            "type": "scattermapbox"
           }
          ],
          "scatterpolar": [
           {
            "marker": {
             "colorbar": {
              "outlinewidth": 0,
              "ticks": ""
             }
            },
            "type": "scatterpolar"
           }
          ],
          "scatterpolargl": [
           {
            "marker": {
             "colorbar": {
              "outlinewidth": 0,
              "ticks": ""
             }
            },
            "type": "scatterpolargl"
           }
          ],
          "scatterternary": [
           {
            "marker": {
             "colorbar": {
              "outlinewidth": 0,
              "ticks": ""
             }
            },
            "type": "scatterternary"
           }
          ],
          "surface": [
           {
            "colorbar": {
             "outlinewidth": 0,
             "ticks": ""
            },
            "colorscale": [
             [
              0,
              "#0d0887"
             ],
             [
              0.1111111111111111,
              "#46039f"
             ],
             [
              0.2222222222222222,
              "#7201a8"
             ],
             [
              0.3333333333333333,
              "#9c179e"
             ],
             [
              0.4444444444444444,
              "#bd3786"
             ],
             [
              0.5555555555555556,
              "#d8576b"
             ],
             [
              0.6666666666666666,
              "#ed7953"
             ],
             [
              0.7777777777777778,
              "#fb9f3a"
             ],
             [
              0.8888888888888888,
              "#fdca26"
             ],
             [
              1,
              "#f0f921"
             ]
            ],
            "type": "surface"
           }
          ],
          "table": [
           {
            "cells": {
             "fill": {
              "color": "#EBF0F8"
             },
             "line": {
              "color": "white"
             }
            },
            "header": {
             "fill": {
              "color": "#C8D4E3"
             },
             "line": {
              "color": "white"
             }
            },
            "type": "table"
           }
          ]
         },
         "layout": {
          "annotationdefaults": {
           "arrowcolor": "#2a3f5f",
           "arrowhead": 0,
           "arrowwidth": 1
          },
          "autotypenumbers": "strict",
          "coloraxis": {
           "colorbar": {
            "outlinewidth": 0,
            "ticks": ""
           }
          },
          "colorscale": {
           "diverging": [
            [
             0,
             "#8e0152"
            ],
            [
             0.1,
             "#c51b7d"
            ],
            [
             0.2,
             "#de77ae"
            ],
            [
             0.3,
             "#f1b6da"
            ],
            [
             0.4,
             "#fde0ef"
            ],
            [
             0.5,
             "#f7f7f7"
            ],
            [
             0.6,
             "#e6f5d0"
            ],
            [
             0.7,
             "#b8e186"
            ],
            [
             0.8,
             "#7fbc41"
            ],
            [
             0.9,
             "#4d9221"
            ],
            [
             1,
             "#276419"
            ]
           ],
           "sequential": [
            [
             0,
             "#0d0887"
            ],
            [
             0.1111111111111111,
             "#46039f"
            ],
            [
             0.2222222222222222,
             "#7201a8"
            ],
            [
             0.3333333333333333,
             "#9c179e"
            ],
            [
             0.4444444444444444,
             "#bd3786"
            ],
            [
             0.5555555555555556,
             "#d8576b"
            ],
            [
             0.6666666666666666,
             "#ed7953"
            ],
            [
             0.7777777777777778,
             "#fb9f3a"
            ],
            [
             0.8888888888888888,
             "#fdca26"
            ],
            [
             1,
             "#f0f921"
            ]
           ],
           "sequentialminus": [
            [
             0,
             "#0d0887"
            ],
            [
             0.1111111111111111,
             "#46039f"
            ],
            [
             0.2222222222222222,
             "#7201a8"
            ],
            [
             0.3333333333333333,
             "#9c179e"
            ],
            [
             0.4444444444444444,
             "#bd3786"
            ],
            [
             0.5555555555555556,
             "#d8576b"
            ],
            [
             0.6666666666666666,
             "#ed7953"
            ],
            [
             0.7777777777777778,
             "#fb9f3a"
            ],
            [
             0.8888888888888888,
             "#fdca26"
            ],
            [
             1,
             "#f0f921"
            ]
           ]
          },
          "colorway": [
           "#636efa",
           "#EF553B",
           "#00cc96",
           "#ab63fa",
           "#FFA15A",
           "#19d3f3",
           "#FF6692",
           "#B6E880",
           "#FF97FF",
           "#FECB52"
          ],
          "font": {
           "color": "#2a3f5f"
          },
          "geo": {
           "bgcolor": "white",
           "lakecolor": "white",
           "landcolor": "#E5ECF6",
           "showlakes": true,
           "showland": true,
           "subunitcolor": "white"
          },
          "hoverlabel": {
           "align": "left"
          },
          "hovermode": "closest",
          "mapbox": {
           "style": "light"
          },
          "paper_bgcolor": "white",
          "plot_bgcolor": "#E5ECF6",
          "polar": {
           "angularaxis": {
            "gridcolor": "white",
            "linecolor": "white",
            "ticks": ""
           },
           "bgcolor": "#E5ECF6",
           "radialaxis": {
            "gridcolor": "white",
            "linecolor": "white",
            "ticks": ""
           }
          },
          "scene": {
           "xaxis": {
            "backgroundcolor": "#E5ECF6",
            "gridcolor": "white",
            "gridwidth": 2,
            "linecolor": "white",
            "showbackground": true,
            "ticks": "",
            "zerolinecolor": "white"
           },
           "yaxis": {
            "backgroundcolor": "#E5ECF6",
            "gridcolor": "white",
            "gridwidth": 2,
            "linecolor": "white",
            "showbackground": true,
            "ticks": "",
            "zerolinecolor": "white"
           },
           "zaxis": {
            "backgroundcolor": "#E5ECF6",
            "gridcolor": "white",
            "gridwidth": 2,
            "linecolor": "white",
            "showbackground": true,
            "ticks": "",
            "zerolinecolor": "white"
           }
          },
          "shapedefaults": {
           "line": {
            "color": "#2a3f5f"
           }
          },
          "ternary": {
           "aaxis": {
            "gridcolor": "white",
            "linecolor": "white",
            "ticks": ""
           },
           "baxis": {
            "gridcolor": "white",
            "linecolor": "white",
            "ticks": ""
           },
           "bgcolor": "#E5ECF6",
           "caxis": {
            "gridcolor": "white",
            "linecolor": "white",
            "ticks": ""
           }
          },
          "title": {
           "x": 0.05
          },
          "xaxis": {
           "automargin": true,
           "gridcolor": "white",
           "linecolor": "white",
           "ticks": "",
           "title": {
            "standoff": 15
           },
           "zerolinecolor": "white",
           "zerolinewidth": 2
          },
          "yaxis": {
           "automargin": true,
           "gridcolor": "white",
           "linecolor": "white",
           "ticks": "",
           "title": {
            "standoff": 15
           },
           "zerolinecolor": "white",
           "zerolinewidth": 2
          }
         }
        },
        "title": {
         "text": "2000-2020 Republican vs Democrat Winning Party by State Count"
        },
        "width": 1500,
        "xaxis": {
         "title": {
          "text": "Election year"
         }
        },
        "yaxis": {
         "title": {
          "text": "Number of States"
         }
        }
       }
      },
      "text/html": [
       "<div>                            <div id=\"b403d127-02c1-40c9-9f26-1741e80a4013\" class=\"plotly-graph-div\" style=\"height:500px; width:1500px;\"></div>            <script type=\"text/javascript\">                require([\"plotly\"], function(Plotly) {                    window.PLOTLYENV=window.PLOTLYENV || {};                                    if (document.getElementById(\"b403d127-02c1-40c9-9f26-1741e80a4013\")) {                    Plotly.newPlot(                        \"b403d127-02c1-40c9-9f26-1741e80a4013\",                        [{\"marker\": {\"line\": {\"width\": 0}}, \"name\": \"Democrat Votes\", \"type\": \"bar\", \"x\": [2000, 2008, 2012, 2016, 2020, 2004, 2000, 2004, 2008, 2012, 2016, 2020, 2016, 2012, 2000, 2008, 2004, 2020, 2020, 2012, 2008, 2004, 2016, 2000, 2012, 2016, 2004, 2000, 2020, 2008, 2016, 2012, 2000, 2004, 2020, 2008, 2004, 2000, 2012, 2016, 2020, 2008, 2008, 2020, 2004, 2016, 2000, 2012, 2008, 2012, 2004, 2016, 2020, 2000, 2008, 2012, 2016, 2004, 2020, 2000, 2008, 2004, 2020, 2000, 2016, 2012, 2000, 2004, 2016, 2012, 2020, 2008, 2016, 2012, 2008, 2020, 2004, 2000, 2008, 2016, 2004, 2020, 2012, 2000, 2000, 2008, 2012, 2020, 2016, 2004, 2008, 2004, 2012, 2016, 2020, 2000, 2000, 2020, 2004, 2012, 2008, 2016, 2012, 2008, 2004, 2000, 2020, 2016, 2016, 2012, 2000, 2004, 2020, 2008, 2008, 2020, 2000, 2016, 2004, 2012, 2000, 2004, 2012, 2020, 2016, 2008, 2008, 2020, 2012, 2004, 2000, 2016, 2000, 2020, 2012, 2008, 2016, 2004, 2016, 2000, 2012, 2008, 2020, 2004, 2012, 2004, 2020, 2008, 2000, 2016, 2000, 2012, 2004, 2016, 2008, 2020, 2004, 2012, 2020, 2000, 2008, 2016, 2004, 2016, 2008, 2012, 2020, 2000, 2016, 2004, 2008, 2012, 2020, 2000, 2016, 2012, 2008, 2000, 2004, 2020, 2020, 2000, 2004, 2012, 2016, 2008, 2012, 2004, 2016, 2020, 2000, 2008, 2004, 2016, 2020, 2008, 2000, 2012, 2012, 2004, 2000, 2008, 2020, 2016, 2004, 2008, 2012, 2020, 2016, 2000, 2000, 2016, 2020, 2004, 2012, 2008, 2004, 2012, 2016, 2020, 2000, 2008, 2004, 2020, 2016, 2008, 2000, 2012, 2020, 2008, 2012, 2000, 2016, 2004, 2004, 2016, 2000, 2008, 2020, 2012, 2016, 2020, 2004, 2008, 2012, 2000, 2004, 2008, 2020, 2000, 2012, 2016, 2020, 2016, 2012, 2004, 2000, 2008, 2004, 2016, 2012, 2008, 2020, 2000, 2020, 2004, 2012, 2016, 2008, 2000, 2016, 2000, 2020, 2012, 2004, 2008, 2020, 2000, 2012, 2004, 2008, 2016, 2000, 2004, 2008, 2012, 2016, 2020, 2004, 2008, 2020, 2000, 2012, 2016, 2004, 2008, 2020, 2000, 2012, 2016, 2008, 2012, 2004, 2000, 2016, 2020], \"y\": [0, 0, 0, 0, 0, 0, 0, 0, 0, 0, 0, 0, 0, 0, 0, 0, 0, 1, 0, 0, 0, 0, 0, 0, 1, 1, 1, 1, 1, 1, 1, 1, 0, 0, 1, 1, 1, 1, 1, 1, 1, 1, 1, 1, 1, 1, 1, 1, 1, 1, 1, 1, 1, 1, 1, 1, 0, 0, 0, 0, 0, 0, 1, 0, 0, 0, 1, 1, 1, 1, 1, 1, 0, 0, 0, 0, 0, 0, 1, 1, 1, 1, 1, 1, 0, 1, 0, 0, 0, 0, 1, 0, 1, 0, 0, 1, 0, 0, 0, 0, 0, 0, 0, 0, 0, 0, 0, 0, 0, 0, 0, 0, 0, 0, 1, 1, 1, 1, 1, 1, 1, 1, 1, 1, 1, 1, 1, 1, 1, 1, 1, 1, 1, 1, 1, 1, 0, 1, 1, 1, 1, 1, 1, 1, 0, 0, 0, 0, 0, 0, 0, 0, 0, 0, 0, 0, 0, 0, 0, 0, 0, 0, 0, 0, 0, 0, 0, 0, 1, 0, 1, 1, 1, 0, 1, 1, 1, 0, 1, 1, 1, 1, 1, 1, 1, 1, 1, 0, 1, 1, 1, 1, 1, 1, 1, 1, 1, 1, 0, 0, 0, 1, 0, 0, 0, 0, 0, 0, 0, 0, 0, 0, 0, 0, 1, 1, 0, 0, 0, 0, 0, 0, 1, 1, 1, 1, 1, 1, 1, 1, 1, 1, 0, 1, 1, 1, 1, 1, 1, 1, 0, 0, 0, 0, 0, 0, 0, 0, 0, 0, 0, 0, 0, 0, 0, 0, 0, 0, 0, 0, 0, 0, 0, 0, 0, 0, 0, 0, 0, 0, 1, 1, 1, 1, 1, 1, 1, 0, 1, 0, 1, 1, 1, 1, 1, 1, 1, 1, 0, 0, 0, 0, 0, 0, 1, 1, 1, 1, 1, 0, 0, 0, 0, 0, 0, 0]}, {\"marker\": {\"line\": {\"width\": 0}}, \"name\": \"Republican Votes\", \"type\": \"bar\", \"x\": [2000, 2008, 2012, 2016, 2020, 2004, 2000, 2004, 2008, 2012, 2016, 2020, 2016, 2012, 2000, 2008, 2004, 2020, 2020, 2012, 2008, 2004, 2016, 2000, 2012, 2016, 2004, 2000, 2020, 2008, 2016, 2012, 2000, 2004, 2020, 2008, 2004, 2000, 2012, 2016, 2020, 2008, 2008, 2020, 2004, 2016, 2000, 2012, 2008, 2012, 2004, 2016, 2020, 2000, 2008, 2012, 2016, 2004, 2020, 2000, 2008, 2004, 2020, 2000, 2016, 2012, 2000, 2004, 2016, 2012, 2020, 2008, 2016, 2012, 2008, 2020, 2004, 2000, 2008, 2016, 2004, 2020, 2012, 2000, 2000, 2008, 2012, 2020, 2016, 2004, 2008, 2004, 2012, 2016, 2020, 2000, 2000, 2020, 2004, 2012, 2008, 2016, 2012, 2008, 2004, 2000, 2020, 2016, 2016, 2012, 2000, 2004, 2020, 2008, 2008, 2020, 2000, 2016, 2004, 2012, 2000, 2004, 2012, 2020, 2016, 2008, 2008, 2020, 2012, 2004, 2000, 2016, 2000, 2020, 2012, 2008, 2016, 2004, 2016, 2000, 2012, 2008, 2020, 2004, 2012, 2004, 2020, 2008, 2000, 2016, 2000, 2012, 2004, 2016, 2008, 2020, 2004, 2012, 2020, 2000, 2008, 2016, 2004, 2016, 2008, 2012, 2020, 2000, 2016, 2004, 2008, 2012, 2020, 2000, 2016, 2012, 2008, 2000, 2004, 2020, 2020, 2000, 2004, 2012, 2016, 2008, 2012, 2004, 2016, 2020, 2000, 2008, 2004, 2016, 2020, 2008, 2000, 2012, 2012, 2004, 2000, 2008, 2020, 2016, 2004, 2008, 2012, 2020, 2016, 2000, 2000, 2016, 2020, 2004, 2012, 2008, 2004, 2012, 2016, 2020, 2000, 2008, 2004, 2020, 2016, 2008, 2000, 2012, 2020, 2008, 2012, 2000, 2016, 2004, 2004, 2016, 2000, 2008, 2020, 2012, 2016, 2020, 2004, 2008, 2012, 2000, 2004, 2008, 2020, 2000, 2012, 2016, 2020, 2016, 2012, 2004, 2000, 2008, 2004, 2016, 2012, 2008, 2020, 2000, 2020, 2004, 2012, 2016, 2008, 2000, 2016, 2000, 2020, 2012, 2004, 2008, 2020, 2000, 2012, 2004, 2008, 2016, 2000, 2004, 2008, 2012, 2016, 2020, 2004, 2008, 2020, 2000, 2012, 2016, 2004, 2008, 2020, 2000, 2012, 2016, 2008, 2012, 2004, 2000, 2016, 2020], \"y\": [1, 1, 1, 1, 1, 1, 1, 1, 1, 1, 1, 1, 1, 1, 1, 1, 1, 0, 1, 1, 1, 1, 1, 1, 0, 0, 0, 0, 0, 0, 0, 0, 1, 1, 0, 0, 0, 0, 0, 0, 0, 0, 0, 0, 0, 0, 0, 0, 0, 0, 0, 0, 0, 0, 0, 0, 1, 1, 1, 1, 1, 1, 0, 1, 1, 1, 0, 0, 0, 0, 0, 0, 1, 1, 1, 1, 1, 1, 0, 0, 0, 0, 0, 0, 1, 0, 1, 1, 1, 1, 0, 1, 0, 1, 1, 0, 1, 1, 1, 1, 1, 1, 1, 1, 1, 1, 1, 1, 1, 1, 1, 1, 1, 1, 0, 0, 0, 0, 0, 0, 0, 0, 0, 0, 0, 0, 0, 0, 0, 0, 0, 0, 0, 0, 0, 0, 1, 0, 0, 0, 0, 0, 0, 0, 1, 1, 1, 1, 1, 1, 1, 1, 1, 1, 1, 1, 1, 1, 1, 1, 1, 1, 1, 1, 1, 1, 1, 1, 0, 1, 0, 0, 0, 1, 0, 0, 0, 1, 0, 0, 0, 0, 0, 0, 0, 0, 0, 1, 0, 0, 0, 0, 0, 0, 0, 0, 0, 0, 1, 1, 1, 0, 1, 1, 1, 1, 1, 1, 1, 1, 1, 1, 1, 1, 0, 0, 1, 1, 1, 1, 1, 1, 0, 0, 0, 0, 0, 0, 0, 0, 0, 0, 1, 0, 0, 0, 0, 0, 0, 0, 1, 1, 1, 1, 1, 1, 1, 1, 1, 1, 1, 1, 1, 1, 1, 1, 1, 1, 1, 1, 1, 1, 1, 1, 1, 1, 1, 1, 1, 1, 0, 0, 0, 0, 0, 0, 0, 1, 0, 1, 0, 0, 0, 0, 0, 0, 0, 0, 1, 1, 1, 1, 1, 1, 0, 0, 0, 0, 0, 1, 1, 1, 1, 1, 1, 1]}],                        {\"height\": 500, \"template\": {\"data\": {\"bar\": [{\"error_x\": {\"color\": \"#2a3f5f\"}, \"error_y\": {\"color\": \"#2a3f5f\"}, \"marker\": {\"line\": {\"color\": \"#E5ECF6\", \"width\": 0.5}}, \"type\": \"bar\"}], \"barpolar\": [{\"marker\": {\"line\": {\"color\": \"#E5ECF6\", \"width\": 0.5}}, \"type\": \"barpolar\"}], \"carpet\": [{\"aaxis\": {\"endlinecolor\": \"#2a3f5f\", \"gridcolor\": \"white\", \"linecolor\": \"white\", \"minorgridcolor\": \"white\", \"startlinecolor\": \"#2a3f5f\"}, \"baxis\": {\"endlinecolor\": \"#2a3f5f\", \"gridcolor\": \"white\", \"linecolor\": \"white\", \"minorgridcolor\": \"white\", \"startlinecolor\": \"#2a3f5f\"}, \"type\": \"carpet\"}], \"choropleth\": [{\"colorbar\": {\"outlinewidth\": 0, \"ticks\": \"\"}, \"type\": \"choropleth\"}], \"contour\": [{\"colorbar\": {\"outlinewidth\": 0, \"ticks\": \"\"}, \"colorscale\": [[0.0, \"#0d0887\"], [0.1111111111111111, \"#46039f\"], [0.2222222222222222, \"#7201a8\"], [0.3333333333333333, \"#9c179e\"], [0.4444444444444444, \"#bd3786\"], [0.5555555555555556, \"#d8576b\"], [0.6666666666666666, \"#ed7953\"], [0.7777777777777778, \"#fb9f3a\"], [0.8888888888888888, \"#fdca26\"], [1.0, \"#f0f921\"]], \"type\": \"contour\"}], \"contourcarpet\": [{\"colorbar\": {\"outlinewidth\": 0, \"ticks\": \"\"}, \"type\": \"contourcarpet\"}], \"heatmap\": [{\"colorbar\": {\"outlinewidth\": 0, \"ticks\": \"\"}, \"colorscale\": [[0.0, \"#0d0887\"], [0.1111111111111111, \"#46039f\"], [0.2222222222222222, \"#7201a8\"], [0.3333333333333333, \"#9c179e\"], [0.4444444444444444, \"#bd3786\"], [0.5555555555555556, \"#d8576b\"], [0.6666666666666666, \"#ed7953\"], [0.7777777777777778, \"#fb9f3a\"], [0.8888888888888888, \"#fdca26\"], [1.0, \"#f0f921\"]], \"type\": \"heatmap\"}], \"heatmapgl\": [{\"colorbar\": {\"outlinewidth\": 0, \"ticks\": \"\"}, \"colorscale\": [[0.0, \"#0d0887\"], [0.1111111111111111, \"#46039f\"], [0.2222222222222222, \"#7201a8\"], [0.3333333333333333, \"#9c179e\"], [0.4444444444444444, \"#bd3786\"], [0.5555555555555556, \"#d8576b\"], [0.6666666666666666, \"#ed7953\"], [0.7777777777777778, \"#fb9f3a\"], [0.8888888888888888, \"#fdca26\"], [1.0, \"#f0f921\"]], \"type\": \"heatmapgl\"}], \"histogram\": [{\"marker\": {\"colorbar\": {\"outlinewidth\": 0, \"ticks\": \"\"}}, \"type\": \"histogram\"}], \"histogram2d\": [{\"colorbar\": {\"outlinewidth\": 0, \"ticks\": \"\"}, \"colorscale\": [[0.0, \"#0d0887\"], [0.1111111111111111, \"#46039f\"], [0.2222222222222222, \"#7201a8\"], [0.3333333333333333, \"#9c179e\"], [0.4444444444444444, \"#bd3786\"], [0.5555555555555556, \"#d8576b\"], [0.6666666666666666, \"#ed7953\"], [0.7777777777777778, \"#fb9f3a\"], [0.8888888888888888, \"#fdca26\"], [1.0, \"#f0f921\"]], \"type\": \"histogram2d\"}], \"histogram2dcontour\": [{\"colorbar\": {\"outlinewidth\": 0, \"ticks\": \"\"}, \"colorscale\": [[0.0, \"#0d0887\"], [0.1111111111111111, \"#46039f\"], [0.2222222222222222, \"#7201a8\"], [0.3333333333333333, \"#9c179e\"], [0.4444444444444444, \"#bd3786\"], [0.5555555555555556, \"#d8576b\"], [0.6666666666666666, \"#ed7953\"], [0.7777777777777778, \"#fb9f3a\"], [0.8888888888888888, \"#fdca26\"], [1.0, \"#f0f921\"]], \"type\": \"histogram2dcontour\"}], \"mesh3d\": [{\"colorbar\": {\"outlinewidth\": 0, \"ticks\": \"\"}, \"type\": \"mesh3d\"}], \"parcoords\": [{\"line\": {\"colorbar\": {\"outlinewidth\": 0, \"ticks\": \"\"}}, \"type\": \"parcoords\"}], \"pie\": [{\"automargin\": true, \"type\": \"pie\"}], \"scatter\": [{\"marker\": {\"colorbar\": {\"outlinewidth\": 0, \"ticks\": \"\"}}, \"type\": \"scatter\"}], \"scatter3d\": [{\"line\": {\"colorbar\": {\"outlinewidth\": 0, \"ticks\": \"\"}}, \"marker\": {\"colorbar\": {\"outlinewidth\": 0, \"ticks\": \"\"}}, \"type\": \"scatter3d\"}], \"scattercarpet\": [{\"marker\": {\"colorbar\": {\"outlinewidth\": 0, \"ticks\": \"\"}}, \"type\": \"scattercarpet\"}], \"scattergeo\": [{\"marker\": {\"colorbar\": {\"outlinewidth\": 0, \"ticks\": \"\"}}, \"type\": \"scattergeo\"}], \"scattergl\": [{\"marker\": {\"colorbar\": {\"outlinewidth\": 0, \"ticks\": \"\"}}, \"type\": \"scattergl\"}], \"scattermapbox\": [{\"marker\": {\"colorbar\": {\"outlinewidth\": 0, \"ticks\": \"\"}}, \"type\": \"scattermapbox\"}], \"scatterpolar\": [{\"marker\": {\"colorbar\": {\"outlinewidth\": 0, \"ticks\": \"\"}}, \"type\": \"scatterpolar\"}], \"scatterpolargl\": [{\"marker\": {\"colorbar\": {\"outlinewidth\": 0, \"ticks\": \"\"}}, \"type\": \"scatterpolargl\"}], \"scatterternary\": [{\"marker\": {\"colorbar\": {\"outlinewidth\": 0, \"ticks\": \"\"}}, \"type\": \"scatterternary\"}], \"surface\": [{\"colorbar\": {\"outlinewidth\": 0, \"ticks\": \"\"}, \"colorscale\": [[0.0, \"#0d0887\"], [0.1111111111111111, \"#46039f\"], [0.2222222222222222, \"#7201a8\"], [0.3333333333333333, \"#9c179e\"], [0.4444444444444444, \"#bd3786\"], [0.5555555555555556, \"#d8576b\"], [0.6666666666666666, \"#ed7953\"], [0.7777777777777778, \"#fb9f3a\"], [0.8888888888888888, \"#fdca26\"], [1.0, \"#f0f921\"]], \"type\": \"surface\"}], \"table\": [{\"cells\": {\"fill\": {\"color\": \"#EBF0F8\"}, \"line\": {\"color\": \"white\"}}, \"header\": {\"fill\": {\"color\": \"#C8D4E3\"}, \"line\": {\"color\": \"white\"}}, \"type\": \"table\"}]}, \"layout\": {\"annotationdefaults\": {\"arrowcolor\": \"#2a3f5f\", \"arrowhead\": 0, \"arrowwidth\": 1}, \"autotypenumbers\": \"strict\", \"coloraxis\": {\"colorbar\": {\"outlinewidth\": 0, \"ticks\": \"\"}}, \"colorscale\": {\"diverging\": [[0, \"#8e0152\"], [0.1, \"#c51b7d\"], [0.2, \"#de77ae\"], [0.3, \"#f1b6da\"], [0.4, \"#fde0ef\"], [0.5, \"#f7f7f7\"], [0.6, \"#e6f5d0\"], [0.7, \"#b8e186\"], [0.8, \"#7fbc41\"], [0.9, \"#4d9221\"], [1, \"#276419\"]], \"sequential\": [[0.0, \"#0d0887\"], [0.1111111111111111, \"#46039f\"], [0.2222222222222222, \"#7201a8\"], [0.3333333333333333, \"#9c179e\"], [0.4444444444444444, \"#bd3786\"], [0.5555555555555556, \"#d8576b\"], [0.6666666666666666, \"#ed7953\"], [0.7777777777777778, \"#fb9f3a\"], [0.8888888888888888, \"#fdca26\"], [1.0, \"#f0f921\"]], \"sequentialminus\": [[0.0, \"#0d0887\"], [0.1111111111111111, \"#46039f\"], [0.2222222222222222, \"#7201a8\"], [0.3333333333333333, \"#9c179e\"], [0.4444444444444444, \"#bd3786\"], [0.5555555555555556, \"#d8576b\"], [0.6666666666666666, \"#ed7953\"], [0.7777777777777778, \"#fb9f3a\"], [0.8888888888888888, \"#fdca26\"], [1.0, \"#f0f921\"]]}, \"colorway\": [\"#636efa\", \"#EF553B\", \"#00cc96\", \"#ab63fa\", \"#FFA15A\", \"#19d3f3\", \"#FF6692\", \"#B6E880\", \"#FF97FF\", \"#FECB52\"], \"font\": {\"color\": \"#2a3f5f\"}, \"geo\": {\"bgcolor\": \"white\", \"lakecolor\": \"white\", \"landcolor\": \"#E5ECF6\", \"showlakes\": true, \"showland\": true, \"subunitcolor\": \"white\"}, \"hoverlabel\": {\"align\": \"left\"}, \"hovermode\": \"closest\", \"mapbox\": {\"style\": \"light\"}, \"paper_bgcolor\": \"white\", \"plot_bgcolor\": \"#E5ECF6\", \"polar\": {\"angularaxis\": {\"gridcolor\": \"white\", \"linecolor\": \"white\", \"ticks\": \"\"}, \"bgcolor\": \"#E5ECF6\", \"radialaxis\": {\"gridcolor\": \"white\", \"linecolor\": \"white\", \"ticks\": \"\"}}, \"scene\": {\"xaxis\": {\"backgroundcolor\": \"#E5ECF6\", \"gridcolor\": \"white\", \"gridwidth\": 2, \"linecolor\": \"white\", \"showbackground\": true, \"ticks\": \"\", \"zerolinecolor\": \"white\"}, \"yaxis\": {\"backgroundcolor\": \"#E5ECF6\", \"gridcolor\": \"white\", \"gridwidth\": 2, \"linecolor\": \"white\", \"showbackground\": true, \"ticks\": \"\", \"zerolinecolor\": \"white\"}, \"zaxis\": {\"backgroundcolor\": \"#E5ECF6\", \"gridcolor\": \"white\", \"gridwidth\": 2, \"linecolor\": \"white\", \"showbackground\": true, \"ticks\": \"\", \"zerolinecolor\": \"white\"}}, \"shapedefaults\": {\"line\": {\"color\": \"#2a3f5f\"}}, \"ternary\": {\"aaxis\": {\"gridcolor\": \"white\", \"linecolor\": \"white\", \"ticks\": \"\"}, \"baxis\": {\"gridcolor\": \"white\", \"linecolor\": \"white\", \"ticks\": \"\"}, \"bgcolor\": \"#E5ECF6\", \"caxis\": {\"gridcolor\": \"white\", \"linecolor\": \"white\", \"ticks\": \"\"}}, \"title\": {\"x\": 0.05}, \"xaxis\": {\"automargin\": true, \"gridcolor\": \"white\", \"linecolor\": \"white\", \"ticks\": \"\", \"title\": {\"standoff\": 15}, \"zerolinecolor\": \"white\", \"zerolinewidth\": 2}, \"yaxis\": {\"automargin\": true, \"gridcolor\": \"white\", \"linecolor\": \"white\", \"ticks\": \"\", \"title\": {\"standoff\": 15}, \"zerolinecolor\": \"white\", \"zerolinewidth\": 2}}}, \"title\": {\"text\": \"2000-2020 Republican vs Democrat Winning Party by State Count\"}, \"width\": 1500, \"xaxis\": {\"title\": {\"text\": \"Election year\"}}, \"yaxis\": {\"title\": {\"text\": \"Number of States\"}}},                        {\"responsive\": true}                    ).then(function(){\n",
       "                            \n",
       "var gd = document.getElementById('b403d127-02c1-40c9-9f26-1741e80a4013');\n",
       "var x = new MutationObserver(function (mutations, observer) {{\n",
       "        var display = window.getComputedStyle(gd).display;\n",
       "        if (!display || display === 'none') {{\n",
       "            console.log([gd, 'removed!']);\n",
       "            Plotly.purge(gd);\n",
       "            observer.disconnect();\n",
       "        }}\n",
       "}});\n",
       "\n",
       "// Listen for the removal of the full notebook cells\n",
       "var notebookContainer = gd.closest('#notebook-container');\n",
       "if (notebookContainer) {{\n",
       "    x.observe(notebookContainer, {childList: true});\n",
       "}}\n",
       "\n",
       "// Listen for the clearing of the current output cell\n",
       "var outputEl = gd.closest('.output');\n",
       "if (outputEl) {{\n",
       "    x.observe(outputEl, {childList: true});\n",
       "}}\n",
       "\n",
       "                        })                };                });            </script>        </div>"
      ]
     },
     "metadata": {},
     "output_type": "display_data"
    }
   ],
   "source": [
    "x = election_df[\"year\"]\n",
    "  \n",
    "plot = go.Figure(data=[go.Bar(\n",
    "    name = 'Democrat Votes',\n",
    "    x = x,\n",
    "    y = election_df2[\"Winning_Party_DEMOCRAT\"]\n",
    "   ),\n",
    "                       go.Bar(\n",
    "    name = 'Republican Votes',\n",
    "    x = x,\n",
    "    y = election_df2[\"Winning_Party_REPUBLICAN\"]\n",
    "   )\n",
    "    \n",
    "])\n",
    "plot.update_layout(title_text='2000-2020 Republican vs Democrat Winning Party by State Count',\n",
    "                   xaxis_title=\"Election year\", yaxis_title=\"Number of States\", width=1500, height=500) \n",
    "plot.update_traces(marker_line_width=0)\n",
    "plot.show()"
   ]
  },
  {
   "cell_type": "code",
   "execution_count": 22,
   "metadata": {},
   "outputs": [
    {
     "data": {
      "text/html": [
       "<div>\n",
       "<style scoped>\n",
       "    .dataframe tbody tr th:only-of-type {\n",
       "        vertical-align: middle;\n",
       "    }\n",
       "\n",
       "    .dataframe tbody tr th {\n",
       "        vertical-align: top;\n",
       "    }\n",
       "\n",
       "    .dataframe thead th {\n",
       "        text-align: right;\n",
       "    }\n",
       "</style>\n",
       "<table border=\"1\" class=\"dataframe\">\n",
       "  <thead>\n",
       "    <tr style=\"text-align: right;\">\n",
       "      <th></th>\n",
       "      <th>STATE_NAME</th>\n",
       "      <th>REGION</th>\n",
       "    </tr>\n",
       "  </thead>\n",
       "  <tbody>\n",
       "    <tr>\n",
       "      <th>count</th>\n",
       "      <td>255</td>\n",
       "      <td>255</td>\n",
       "    </tr>\n",
       "    <tr>\n",
       "      <th>unique</th>\n",
       "      <td>51</td>\n",
       "      <td>4</td>\n",
       "    </tr>\n",
       "    <tr>\n",
       "      <th>top</th>\n",
       "      <td>North Carolina</td>\n",
       "      <td>South</td>\n",
       "    </tr>\n",
       "    <tr>\n",
       "      <th>freq</th>\n",
       "      <td>5</td>\n",
       "      <td>85</td>\n",
       "    </tr>\n",
       "  </tbody>\n",
       "</table>\n",
       "</div>"
      ],
      "text/plain": [
       "            STATE_NAME REGION\n",
       "count              255    255\n",
       "unique              51      4\n",
       "top     North Carolina  South\n",
       "freq                 5     85"
      ]
     },
     "execution_count": 22,
     "metadata": {},
     "output_type": "execute_result"
    }
   ],
   "source": [
    "census_df.describe(include='object')"
   ]
  },
  {
   "cell_type": "code",
   "execution_count": 23,
   "metadata": {},
   "outputs": [
    {
     "data": {
      "text/html": [
       "<div>\n",
       "<style scoped>\n",
       "    .dataframe tbody tr th:only-of-type {\n",
       "        vertical-align: middle;\n",
       "    }\n",
       "\n",
       "    .dataframe tbody tr th {\n",
       "        vertical-align: top;\n",
       "    }\n",
       "\n",
       "    .dataframe thead th {\n",
       "        text-align: right;\n",
       "    }\n",
       "</style>\n",
       "<table border=\"1\" class=\"dataframe\">\n",
       "  <thead>\n",
       "    <tr style=\"text-align: right;\">\n",
       "      <th></th>\n",
       "      <th>state</th>\n",
       "      <th>Winning_Party</th>\n",
       "    </tr>\n",
       "  </thead>\n",
       "  <tbody>\n",
       "    <tr>\n",
       "      <th>count</th>\n",
       "      <td>306</td>\n",
       "      <td>306</td>\n",
       "    </tr>\n",
       "    <tr>\n",
       "      <th>unique</th>\n",
       "      <td>51</td>\n",
       "      <td>2</td>\n",
       "    </tr>\n",
       "    <tr>\n",
       "      <th>top</th>\n",
       "      <td>WEST VIRGINIA</td>\n",
       "      <td>REPUBLICAN</td>\n",
       "    </tr>\n",
       "    <tr>\n",
       "      <th>freq</th>\n",
       "      <td>6</td>\n",
       "      <td>162</td>\n",
       "    </tr>\n",
       "  </tbody>\n",
       "</table>\n",
       "</div>"
      ],
      "text/plain": [
       "                state Winning_Party\n",
       "count             306           306\n",
       "unique             51             2\n",
       "top     WEST VIRGINIA    REPUBLICAN\n",
       "freq                6           162"
      ]
     },
     "execution_count": 23,
     "metadata": {},
     "output_type": "execute_result"
    }
   ],
   "source": [
    "election_df.describe(include='object')"
   ]
  },
  {
   "cell_type": "code",
   "execution_count": 24,
   "metadata": {},
   "outputs": [
    {
     "data": {
      "text/html": [
       "<div>\n",
       "<style scoped>\n",
       "    .dataframe tbody tr th:only-of-type {\n",
       "        vertical-align: middle;\n",
       "    }\n",
       "\n",
       "    .dataframe tbody tr th {\n",
       "        vertical-align: top;\n",
       "    }\n",
       "\n",
       "    .dataframe thead th {\n",
       "        text-align: right;\n",
       "    }\n",
       "</style>\n",
       "<table border=\"1\" class=\"dataframe\">\n",
       "  <thead>\n",
       "    <tr style=\"text-align: right;\">\n",
       "      <th></th>\n",
       "      <th>YEAR</th>\n",
       "      <th>TOTAL_POPULATION</th>\n",
       "      <th>RACE_WHITE</th>\n",
       "      <th>RACE_BLACK</th>\n",
       "      <th>RACE_OTHER</th>\n",
       "      <th>ORIGIN_HISPANIC</th>\n",
       "      <th>SEX_FEMALE</th>\n",
       "      <th>SEX_MALE</th>\n",
       "    </tr>\n",
       "  </thead>\n",
       "  <tbody>\n",
       "    <tr>\n",
       "      <th>count</th>\n",
       "      <td>255.000000</td>\n",
       "      <td>2.550000e+02</td>\n",
       "      <td>2.550000e+02</td>\n",
       "      <td>2.550000e+02</td>\n",
       "      <td>2.550000e+02</td>\n",
       "      <td>2.550000e+02</td>\n",
       "      <td>2.550000e+02</td>\n",
       "      <td>2.550000e+02</td>\n",
       "    </tr>\n",
       "    <tr>\n",
       "      <th>mean</th>\n",
       "      <td>2008.000000</td>\n",
       "      <td>5.941554e+06</td>\n",
       "      <td>4.685403e+06</td>\n",
       "      <td>7.719231e+05</td>\n",
       "      <td>4.842274e+05</td>\n",
       "      <td>9.214868e+05</td>\n",
       "      <td>3.020886e+06</td>\n",
       "      <td>2.920668e+06</td>\n",
       "    </tr>\n",
       "    <tr>\n",
       "      <th>std</th>\n",
       "      <td>5.667979</td>\n",
       "      <td>6.669547e+06</td>\n",
       "      <td>5.120493e+06</td>\n",
       "      <td>9.257588e+05</td>\n",
       "      <td>9.773295e+05</td>\n",
       "      <td>2.258377e+06</td>\n",
       "      <td>3.378211e+06</td>\n",
       "      <td>3.291972e+06</td>\n",
       "    </tr>\n",
       "    <tr>\n",
       "      <th>min</th>\n",
       "      <td>2000.000000</td>\n",
       "      <td>4.937860e+05</td>\n",
       "      <td>1.971770e+05</td>\n",
       "      <td>2.813000e+03</td>\n",
       "      <td>1.416200e+04</td>\n",
       "      <td>5.506000e+03</td>\n",
       "      <td>2.454010e+05</td>\n",
       "      <td>2.483850e+05</td>\n",
       "    </tr>\n",
       "    <tr>\n",
       "      <th>25%</th>\n",
       "      <td>2004.000000</td>\n",
       "      <td>1.638852e+06</td>\n",
       "      <td>1.525299e+06</td>\n",
       "      <td>6.109450e+04</td>\n",
       "      <td>8.672000e+04</td>\n",
       "      <td>8.745500e+04</td>\n",
       "      <td>8.181035e+05</td>\n",
       "      <td>8.207485e+05</td>\n",
       "    </tr>\n",
       "    <tr>\n",
       "      <th>50%</th>\n",
       "      <td>2008.000000</td>\n",
       "      <td>4.146101e+06</td>\n",
       "      <td>3.098698e+06</td>\n",
       "      <td>3.173930e+05</td>\n",
       "      <td>2.246950e+05</td>\n",
       "      <td>2.487830e+05</td>\n",
       "      <td>2.112051e+06</td>\n",
       "      <td>2.034050e+06</td>\n",
       "    </tr>\n",
       "    <tr>\n",
       "      <th>75%</th>\n",
       "      <td>2012.000000</td>\n",
       "      <td>6.743306e+06</td>\n",
       "      <td>5.590448e+06</td>\n",
       "      <td>1.323408e+06</td>\n",
       "      <td>5.167975e+05</td>\n",
       "      <td>6.300815e+05</td>\n",
       "      <td>3.446508e+06</td>\n",
       "      <td>3.290320e+06</td>\n",
       "    </tr>\n",
       "    <tr>\n",
       "      <th>max</th>\n",
       "      <td>2016.000000</td>\n",
       "      <td>3.916712e+07</td>\n",
       "      <td>2.848404e+07</td>\n",
       "      <td>3.519315e+06</td>\n",
       "      <td>8.145943e+06</td>\n",
       "      <td>1.520573e+07</td>\n",
       "      <td>1.970580e+07</td>\n",
       "      <td>1.946132e+07</td>\n",
       "    </tr>\n",
       "  </tbody>\n",
       "</table>\n",
       "</div>"
      ],
      "text/plain": [
       "              YEAR  TOTAL_POPULATION    RACE_WHITE    RACE_BLACK  \\\n",
       "count   255.000000      2.550000e+02  2.550000e+02  2.550000e+02   \n",
       "mean   2008.000000      5.941554e+06  4.685403e+06  7.719231e+05   \n",
       "std       5.667979      6.669547e+06  5.120493e+06  9.257588e+05   \n",
       "min    2000.000000      4.937860e+05  1.971770e+05  2.813000e+03   \n",
       "25%    2004.000000      1.638852e+06  1.525299e+06  6.109450e+04   \n",
       "50%    2008.000000      4.146101e+06  3.098698e+06  3.173930e+05   \n",
       "75%    2012.000000      6.743306e+06  5.590448e+06  1.323408e+06   \n",
       "max    2016.000000      3.916712e+07  2.848404e+07  3.519315e+06   \n",
       "\n",
       "         RACE_OTHER  ORIGIN_HISPANIC    SEX_FEMALE      SEX_MALE  \n",
       "count  2.550000e+02     2.550000e+02  2.550000e+02  2.550000e+02  \n",
       "mean   4.842274e+05     9.214868e+05  3.020886e+06  2.920668e+06  \n",
       "std    9.773295e+05     2.258377e+06  3.378211e+06  3.291972e+06  \n",
       "min    1.416200e+04     5.506000e+03  2.454010e+05  2.483850e+05  \n",
       "25%    8.672000e+04     8.745500e+04  8.181035e+05  8.207485e+05  \n",
       "50%    2.246950e+05     2.487830e+05  2.112051e+06  2.034050e+06  \n",
       "75%    5.167975e+05     6.300815e+05  3.446508e+06  3.290320e+06  \n",
       "max    8.145943e+06     1.520573e+07  1.970580e+07  1.946132e+07  "
      ]
     },
     "execution_count": 24,
     "metadata": {},
     "output_type": "execute_result"
    }
   ],
   "source": [
    "census_df.describe()"
   ]
  },
  {
   "cell_type": "code",
   "execution_count": 25,
   "metadata": {},
   "outputs": [
    {
     "data": {
      "text/html": [
       "<div>\n",
       "<style scoped>\n",
       "    .dataframe tbody tr th:only-of-type {\n",
       "        vertical-align: middle;\n",
       "    }\n",
       "\n",
       "    .dataframe tbody tr th {\n",
       "        vertical-align: top;\n",
       "    }\n",
       "\n",
       "    .dataframe thead th {\n",
       "        text-align: right;\n",
       "    }\n",
       "</style>\n",
       "<table border=\"1\" class=\"dataframe\">\n",
       "  <thead>\n",
       "    <tr style=\"text-align: right;\">\n",
       "      <th></th>\n",
       "      <th>year</th>\n",
       "      <th>DEMOCRAT_VOTES</th>\n",
       "      <th>REPUBLICAN_VOTES</th>\n",
       "      <th>TOTAL_VOTES</th>\n",
       "    </tr>\n",
       "  </thead>\n",
       "  <tbody>\n",
       "    <tr>\n",
       "      <th>count</th>\n",
       "      <td>306.00000</td>\n",
       "      <td>3.060000e+02</td>\n",
       "      <td>3.060000e+02</td>\n",
       "      <td>3.060000e+02</td>\n",
       "    </tr>\n",
       "    <tr>\n",
       "      <th>mean</th>\n",
       "      <td>2010.00000</td>\n",
       "      <td>1.280269e+06</td>\n",
       "      <td>1.207114e+06</td>\n",
       "      <td>2.487383e+06</td>\n",
       "    </tr>\n",
       "    <tr>\n",
       "      <th>std</th>\n",
       "      <td>6.84249</td>\n",
       "      <td>1.480002e+06</td>\n",
       "      <td>1.148289e+06</td>\n",
       "      <td>2.568766e+06</td>\n",
       "    </tr>\n",
       "    <tr>\n",
       "      <th>min</th>\n",
       "      <td>2000.00000</td>\n",
       "      <td>5.597300e+04</td>\n",
       "      <td>1.272300e+04</td>\n",
       "      <td>1.899960e+05</td>\n",
       "    </tr>\n",
       "    <tr>\n",
       "      <th>25%</th>\n",
       "      <td>2004.00000</td>\n",
       "      <td>3.068650e+05</td>\n",
       "      <td>3.503082e+05</td>\n",
       "      <td>6.956068e+05</td>\n",
       "    </tr>\n",
       "    <tr>\n",
       "      <th>50%</th>\n",
       "      <td>2010.00000</td>\n",
       "      <td>7.940200e+05</td>\n",
       "      <td>9.395735e+05</td>\n",
       "      <td>1.771163e+06</td>\n",
       "    </tr>\n",
       "    <tr>\n",
       "      <th>75%</th>\n",
       "      <td>2016.00000</td>\n",
       "      <td>1.736308e+06</td>\n",
       "      <td>1.513210e+06</td>\n",
       "      <td>3.066284e+06</td>\n",
       "    </tr>\n",
       "    <tr>\n",
       "      <th>max</th>\n",
       "      <td>2020.00000</td>\n",
       "      <td>1.111025e+07</td>\n",
       "      <td>6.006429e+06</td>\n",
       "      <td>1.711668e+07</td>\n",
       "    </tr>\n",
       "  </tbody>\n",
       "</table>\n",
       "</div>"
      ],
      "text/plain": [
       "             year  DEMOCRAT_VOTES  REPUBLICAN_VOTES   TOTAL_VOTES\n",
       "count   306.00000    3.060000e+02      3.060000e+02  3.060000e+02\n",
       "mean   2010.00000    1.280269e+06      1.207114e+06  2.487383e+06\n",
       "std       6.84249    1.480002e+06      1.148289e+06  2.568766e+06\n",
       "min    2000.00000    5.597300e+04      1.272300e+04  1.899960e+05\n",
       "25%    2004.00000    3.068650e+05      3.503082e+05  6.956068e+05\n",
       "50%    2010.00000    7.940200e+05      9.395735e+05  1.771163e+06\n",
       "75%    2016.00000    1.736308e+06      1.513210e+06  3.066284e+06\n",
       "max    2020.00000    1.111025e+07      6.006429e+06  1.711668e+07"
      ]
     },
     "execution_count": 25,
     "metadata": {},
     "output_type": "execute_result"
    }
   ],
   "source": [
    "election_df.describe()"
   ]
  }
 ],
 "metadata": {
  "kernelspec": {
   "display_name": "PythonData",
   "language": "python",
   "name": "pythondata"
  },
  "language_info": {
   "codemirror_mode": {
    "name": "ipython",
    "version": 3
   },
   "file_extension": ".py",
   "mimetype": "text/x-python",
   "name": "python",
   "nbconvert_exporter": "python",
   "pygments_lexer": "ipython3",
   "version": "3.8.5"
  }
 },
 "nbformat": 4,
 "nbformat_minor": 4
}
