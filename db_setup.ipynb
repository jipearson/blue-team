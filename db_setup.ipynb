{
  "nbformat": 4,
  "nbformat_minor": 0,
  "metadata": {
    "language_info": {
      "codemirror_mode": {
        "name": "ipython",
        "version": 3
      },
      "file_extension": ".py",
      "mimetype": "text/x-python",
      "name": "python",
      "nbconvert_exporter": "python",
      "pygments_lexer": "ipython3",
      "version": "3.9.4"
    },
    "orig_nbformat": 2,
    "kernelspec": {
      "name": "python394jvsc74a57bd00b8e1b44fef6f769bdcd84daa9e6bcf329c54142ae85aa21700236386f9708da",
      "display_name": "Python 3.9.4 64-bit (windows store)"
    },
    "metadata": {
      "interpreter": {
        "hash": "0b8e1b44fef6f769bdcd84daa9e6bcf329c54142ae85aa21700236386f9708da"
      }
    },
    "colab": {
      "name": "db_setup.ipynb",
      "provenance": [],
      "collapsed_sections": [],
      "include_colab_link": true
    }
  },
  "cells": [
    {
      "cell_type": "markdown",
      "metadata": {
        "id": "view-in-github",
        "colab_type": "text"
      },
      "source": [
        "<a href=\"https://colab.research.google.com/github/jipearson/blue-team/blob/merging_datasets/db_setup.ipynb\" target=\"_parent\"><img src=\"https://colab.research.google.com/assets/colab-badge.svg\" alt=\"Open In Colab\"/></a>"
      ]
    },
    {
      "cell_type": "markdown",
      "metadata": {
        "id": "UQL_xWtHMP7W"
      },
      "source": [
        "# Install Spark"
      ]
    },
    {
      "cell_type": "code",
      "metadata": {
        "colab": {
          "base_uri": "https://localhost:8080/"
        },
        "id": "TTitbLuZMP7c",
        "outputId": "517f6b7c-b2af-47f3-ddef-8d8bf5557a48"
      },
      "source": [
        "import os\n",
        "# Find the latest version of spark 3.0  from http://www-us.apache.org/dist/spark/ and enter as the spark version\n",
        "# For example:\n",
        "# spark_version = 'spark-3.0.2'\n",
        "spark_version = 'spark-3.0.2'\n",
        "os.environ['SPARK_VERSION']=spark_version\n",
        "\n",
        "# Install Spark and Java\n",
        "!apt-get update\n",
        "!apt-get install openjdk-11-jdk-headless -qq > /dev/null\n",
        "!wget -q http://www-us.apache.org/dist/spark/$SPARK_VERSION/$SPARK_VERSION-bin-hadoop2.7.tgz\n",
        "!tar xf $SPARK_VERSION-bin-hadoop2.7.tgz\n",
        "!pip install -q findspark\n",
        "\n",
        "# Set Environment Variables\n",
        "import os\n",
        "os.environ[\"JAVA_HOME\"] = \"/usr/lib/jvm/java-11-openjdk-amd64\"\n",
        "os.environ[\"SPARK_HOME\"] = f\"/content/{spark_version}-bin-hadoop2.7\"\n",
        "\n",
        "# Start a SparkSession\n",
        "import findspark\n",
        "findspark.init()"
      ],
      "execution_count": 1,
      "outputs": [
        {
          "output_type": "stream",
          "text": [
            "\r0% [Working]\r            \rGet:1 https://cloud.r-project.org/bin/linux/ubuntu bionic-cran40/ InRelease [3,626 B]\n",
            "\r0% [Connecting to archive.ubuntu.com (91.189.88.152)] [Connecting to security.u\r0% [Connecting to archive.ubuntu.com (91.189.88.152)] [Connecting to security.u\r                                                                               \rIgn:2 https://developer.download.nvidia.com/compute/cuda/repos/ubuntu1804/x86_64  InRelease\n",
            "\r0% [Connecting to archive.ubuntu.com (91.189.88.152)] [Connecting to security.u\r0% [1 InRelease gpgv 3,626 B] [Connecting to archive.ubuntu.com (91.189.88.152)\r                                                                               \rIgn:3 https://developer.download.nvidia.com/compute/machine-learning/repos/ubuntu1804/x86_64  InRelease\n",
            "\r0% [1 InRelease gpgv 3,626 B] [Connecting to archive.ubuntu.com (91.189.88.152)\r                                                                               \rHit:4 https://developer.download.nvidia.com/compute/cuda/repos/ubuntu1804/x86_64  Release\n",
            "Hit:5 https://developer.download.nvidia.com/compute/machine-learning/repos/ubuntu1804/x86_64  Release\n",
            "Get:6 http://security.ubuntu.com/ubuntu bionic-security InRelease [88.7 kB]\n",
            "Hit:7 http://ppa.launchpad.net/c2d4u.team/c2d4u4.0+/ubuntu bionic InRelease\n",
            "Hit:8 http://archive.ubuntu.com/ubuntu bionic InRelease\n",
            "Get:9 http://archive.ubuntu.com/ubuntu bionic-updates InRelease [88.7 kB]\n",
            "Hit:11 http://ppa.launchpad.net/cran/libgit2/ubuntu bionic InRelease\n",
            "Hit:13 http://ppa.launchpad.net/deadsnakes/ppa/ubuntu bionic InRelease\n",
            "Get:14 http://archive.ubuntu.com/ubuntu bionic-backports InRelease [74.6 kB]\n",
            "Hit:15 http://ppa.launchpad.net/graphics-drivers/ppa/ubuntu bionic InRelease\n",
            "Fetched 256 kB in 2s (121 kB/s)\n",
            "Reading package lists... Done\n"
          ],
          "name": "stdout"
        }
      ]
    },
    {
      "cell_type": "code",
      "metadata": {
        "colab": {
          "base_uri": "https://localhost:8080/"
        },
        "id": "kmRdnv3yMP7e",
        "outputId": "1bb347a3-cd3f-497e-ea21-51d28ca6b14d"
      },
      "source": [
        "# Download Postgres driver\n",
        "!wget https://jdbc.postgresql.org/download/postgresql-42.2.16.jar"
      ],
      "execution_count": 2,
      "outputs": [
        {
          "output_type": "stream",
          "text": [
            "--2021-05-16 05:17:12--  https://jdbc.postgresql.org/download/postgresql-42.2.16.jar\n",
            "Resolving jdbc.postgresql.org (jdbc.postgresql.org)... 72.32.157.228, 2001:4800:3e1:1::228\n",
            "Connecting to jdbc.postgresql.org (jdbc.postgresql.org)|72.32.157.228|:443... connected.\n",
            "HTTP request sent, awaiting response... 200 OK\n",
            "Length: 1002883 (979K) [application/java-archive]\n",
            "Saving to: ‘postgresql-42.2.16.jar.8’\n",
            "\n",
            "postgresql-42.2.16. 100%[===================>] 979.38K  6.06MB/s    in 0.2s    \n",
            "\n",
            "2021-05-16 05:17:12 (6.06 MB/s) - ‘postgresql-42.2.16.jar.8’ saved [1002883/1002883]\n",
            "\n"
          ],
          "name": "stdout"
        }
      ]
    },
    {
      "cell_type": "code",
      "metadata": {
        "id": "hGHVVJh4MP7e"
      },
      "source": [
        "# Create Spark session and add driver to Spark\n",
        "from pyspark.sql import SparkSession\n",
        "spark = SparkSession.builder.appName(\"CloudETL\").config(\"spark.driver.extraClassPath\",\"/content/postgresql-42.2.16.jar\").getOrCreate()"
      ],
      "execution_count": 3,
      "outputs": []
    },
    {
      "cell_type": "markdown",
      "metadata": {
        "id": "BpfRTDHQMP7f"
      },
      "source": [
        "# ETL Voting Data"
      ]
    },
    {
      "cell_type": "code",
      "metadata": {
        "id": "ZrIZkbhhMP7f"
      },
      "source": [
        "# Read in data from S3 Buckets\n",
        "from pyspark import SparkFiles\n",
        "import pandas as pd\n",
        "import numpy as np\n",
        "# Read in 2000-2019 census data\n",
        "url =\"https://migration-election-impact.s3.us-east-2.amazonaws.com/Resources/Census_00_19.csv\"\n",
        "spark.sparkContext.addFile(url)\n",
        "census_df = spark.read.csv(SparkFiles.get(\"Census_00_19.csv\"), sep=\",\", header=True, inferSchema=True)\n",
        "census_df = census_df.select(\"*\").toPandas()"
      ],
      "execution_count": 4,
      "outputs": []
    },
    {
      "cell_type": "code",
      "metadata": {
        "id": "uP8vks3LKqBD"
      },
      "source": [
        "# Read in 1996-2020 presidential election data\n",
        "url =\"https://migration-election-impact.s3.us-east-2.amazonaws.com/Resources/Presidential_96_2020.csv\"\n",
        "spark.sparkContext.addFile(url)\n",
        "presidential_df = spark.read.csv(SparkFiles.get(\"Presidential_96_2020.csv\"), sep=\",\", header=True, inferSchema=True)\n",
        "presidential_df = presidential_df.select(\"*\").toPandas()"
      ],
      "execution_count": 5,
      "outputs": []
    },
    {
      "cell_type": "code",
      "metadata": {
        "id": "JiVzpO30c6d9"
      },
      "source": [
        "# Read in past 5 voting patterns data\n",
        "url = \"https://migration-election-impact.s3.us-east-2.amazonaws.com/Resources/PAST_5_ELECTION_VOTING.csv\"\n",
        "spark.sparkContext.addFile(url)\n",
        "five_election_df = spark.read.csv(SparkFiles.get(\"PAST_5_ELECTION_VOTING.csv\"), sep=\",\", header=True, inferSchema=True)\n",
        "five_election_df = five_election_df.select(\"*\").toPandas()"
      ],
      "execution_count": 6,
      "outputs": []
    },
    {
      "cell_type": "code",
      "metadata": {
        "id": "YsDeoUhgYDf5"
      },
      "source": [
        "# Clean presidential_df\n",
        "presidential_df['Outcome'] = np.where(presidential_df.Winning_Party == \"REPUBLICAN\", 1, 0)\n",
        "presidential_df = presidential_df[presidential_df.year >= 2000]\n",
        "presidential_df = presidential_df.rename(columns=str.upper)\n",
        "presidential_df = presidential_df[['YEAR','STATE','OUTCOME']]"
      ],
      "execution_count": 7,
      "outputs": []
    },
    {
      "cell_type": "code",
      "metadata": {
        "id": "VF5cHITOYMNZ"
      },
      "source": [
        "# Clean Census_df\n",
        "census_df.STATE_NAME = census_df.STATE_NAME.str.upper()\n",
        "census_df[\"PCT_WHITE\"] = census_df[\"RACE_WHITE\"] / census_df[\"TOTAL_POPULATION\"]\n",
        "census_df[\"PCT_BLACK\"] = census_df[\"RACE_BLACK\"] / census_df[\"TOTAL_POPULATION\"]\n",
        "census_df[\"PCT_HISPANIC\"] = census_df[\"ORIGIN_HISPANIC\"] / census_df[\"TOTAL_POPULATION\"]\n",
        "census_df[\"PCT_OVER_60\"] = (census_df[\"AGE_60_TO_79\"] + census_df[\"AGE_80_AND_OVER\"]) /census_df[\"TOTAL_POPULATION\"]\n",
        "census_df[\"PCT_UNDER_40\"] = (census_df[\"AGE_0_TO_19\"] + census_df[\"AGE_20_TO_39\"]) /census_df[\"TOTAL_POPULATION\"]\n",
        "census_df.loc[census_df[\"YEAR\"] == 2019, \"YEAR\"] = 2020\n",
        "census_df = census_df[['YEAR', 'STATE_NAME', 'REGION', 'PCT_WHITE', 'PCT_BLACK', 'PCT_HISPANIC', 'PCT_OVER_60', 'PCT_UNDER_40' ]]"
      ],
      "execution_count": 8,
      "outputs": []
    },
    {
      "cell_type": "code",
      "metadata": {
        "id": "uztY38N4fepJ"
      },
      "source": [
        "census_df = pd.get_dummies(census_df, columns=[\"REGION\"])"
      ],
      "execution_count": 9,
      "outputs": []
    },
    {
      "cell_type": "code",
      "metadata": {
        "colab": {
          "base_uri": "https://localhost:8080/",
          "height": 438
        },
        "id": "pPx047nPYMKI",
        "outputId": "f797dcc7-5801-4ec5-e130-cb6fe895a4ef"
      },
      "source": [
        "election_merged_df = pd.merge(presidential_df, census_df, how=\"inner\", left_on=[\"YEAR\", \"STATE\"], right_on = [\"YEAR\", \"STATE_NAME\"])\n",
        "election_merged_df"
      ],
      "execution_count": 10,
      "outputs": [
        {
          "output_type": "execute_result",
          "data": {
            "text/html": [
              "<div>\n",
              "<style scoped>\n",
              "    .dataframe tbody tr th:only-of-type {\n",
              "        vertical-align: middle;\n",
              "    }\n",
              "\n",
              "    .dataframe tbody tr th {\n",
              "        vertical-align: top;\n",
              "    }\n",
              "\n",
              "    .dataframe thead th {\n",
              "        text-align: right;\n",
              "    }\n",
              "</style>\n",
              "<table border=\"1\" class=\"dataframe\">\n",
              "  <thead>\n",
              "    <tr style=\"text-align: right;\">\n",
              "      <th></th>\n",
              "      <th>YEAR</th>\n",
              "      <th>STATE</th>\n",
              "      <th>OUTCOME</th>\n",
              "      <th>STATE_NAME</th>\n",
              "      <th>PCT_WHITE</th>\n",
              "      <th>PCT_BLACK</th>\n",
              "      <th>PCT_HISPANIC</th>\n",
              "      <th>PCT_OVER_60</th>\n",
              "      <th>PCT_UNDER_40</th>\n",
              "      <th>REGION_Midwest</th>\n",
              "      <th>REGION_Northeast</th>\n",
              "      <th>REGION_South</th>\n",
              "      <th>REGION_West</th>\n",
              "    </tr>\n",
              "  </thead>\n",
              "  <tbody>\n",
              "    <tr>\n",
              "      <th>0</th>\n",
              "      <td>2000</td>\n",
              "      <td>ALABAMA</td>\n",
              "      <td>1</td>\n",
              "      <td>ALABAMA</td>\n",
              "      <td>0.718555</td>\n",
              "      <td>0.260610</td>\n",
              "      <td>0.017049</td>\n",
              "      <td>0.173121</td>\n",
              "      <td>0.563600</td>\n",
              "      <td>0</td>\n",
              "      <td>0</td>\n",
              "      <td>1</td>\n",
              "      <td>0</td>\n",
              "    </tr>\n",
              "    <tr>\n",
              "      <th>1</th>\n",
              "      <td>2000</td>\n",
              "      <td>ALASKA</td>\n",
              "      <td>1</td>\n",
              "      <td>ALASKA</td>\n",
              "      <td>0.712087</td>\n",
              "      <td>0.036541</td>\n",
              "      <td>0.041236</td>\n",
              "      <td>0.084585</td>\n",
              "      <td>0.627195</td>\n",
              "      <td>0</td>\n",
              "      <td>0</td>\n",
              "      <td>0</td>\n",
              "      <td>1</td>\n",
              "    </tr>\n",
              "    <tr>\n",
              "      <th>2</th>\n",
              "      <td>2000</td>\n",
              "      <td>ARIZONA</td>\n",
              "      <td>1</td>\n",
              "      <td>ARIZONA</td>\n",
              "      <td>0.880687</td>\n",
              "      <td>0.032933</td>\n",
              "      <td>0.252545</td>\n",
              "      <td>0.169827</td>\n",
              "      <td>0.587959</td>\n",
              "      <td>0</td>\n",
              "      <td>0</td>\n",
              "      <td>0</td>\n",
              "      <td>1</td>\n",
              "    </tr>\n",
              "    <tr>\n",
              "      <th>3</th>\n",
              "      <td>2000</td>\n",
              "      <td>ARKANSAS</td>\n",
              "      <td>1</td>\n",
              "      <td>ARKANSAS</td>\n",
              "      <td>0.816632</td>\n",
              "      <td>0.157303</td>\n",
              "      <td>0.032493</td>\n",
              "      <td>0.183815</td>\n",
              "      <td>0.559322</td>\n",
              "      <td>0</td>\n",
              "      <td>0</td>\n",
              "      <td>1</td>\n",
              "      <td>0</td>\n",
              "    </tr>\n",
              "    <tr>\n",
              "      <th>4</th>\n",
              "      <td>2000</td>\n",
              "      <td>CALIFORNIA</td>\n",
              "      <td>0</td>\n",
              "      <td>CALIFORNIA</td>\n",
              "      <td>0.778388</td>\n",
              "      <td>0.070299</td>\n",
              "      <td>0.323768</td>\n",
              "      <td>0.140014</td>\n",
              "      <td>0.609940</td>\n",
              "      <td>0</td>\n",
              "      <td>0</td>\n",
              "      <td>0</td>\n",
              "      <td>1</td>\n",
              "    </tr>\n",
              "    <tr>\n",
              "      <th>...</th>\n",
              "      <td>...</td>\n",
              "      <td>...</td>\n",
              "      <td>...</td>\n",
              "      <td>...</td>\n",
              "      <td>...</td>\n",
              "      <td>...</td>\n",
              "      <td>...</td>\n",
              "      <td>...</td>\n",
              "      <td>...</td>\n",
              "      <td>...</td>\n",
              "      <td>...</td>\n",
              "      <td>...</td>\n",
              "      <td>...</td>\n",
              "    </tr>\n",
              "    <tr>\n",
              "      <th>301</th>\n",
              "      <td>2020</td>\n",
              "      <td>VIRGINIA</td>\n",
              "      <td>0</td>\n",
              "      <td>VIRGINIA</td>\n",
              "      <td>0.693883</td>\n",
              "      <td>0.198806</td>\n",
              "      <td>0.097759</td>\n",
              "      <td>0.221305</td>\n",
              "      <td>0.519141</td>\n",
              "      <td>0</td>\n",
              "      <td>0</td>\n",
              "      <td>1</td>\n",
              "      <td>0</td>\n",
              "    </tr>\n",
              "    <tr>\n",
              "      <th>302</th>\n",
              "      <td>2020</td>\n",
              "      <td>WASHINGTON</td>\n",
              "      <td>0</td>\n",
              "      <td>WASHINGTON</td>\n",
              "      <td>0.785001</td>\n",
              "      <td>0.043589</td>\n",
              "      <td>0.130234</td>\n",
              "      <td>0.220739</td>\n",
              "      <td>0.531032</td>\n",
              "      <td>0</td>\n",
              "      <td>0</td>\n",
              "      <td>0</td>\n",
              "      <td>1</td>\n",
              "    </tr>\n",
              "    <tr>\n",
              "      <th>303</th>\n",
              "      <td>2020</td>\n",
              "      <td>WEST VIRGINIA</td>\n",
              "      <td>1</td>\n",
              "      <td>WEST VIRGINIA</td>\n",
              "      <td>0.934701</td>\n",
              "      <td>0.036052</td>\n",
              "      <td>0.017388</td>\n",
              "      <td>0.277159</td>\n",
              "      <td>0.465235</td>\n",
              "      <td>0</td>\n",
              "      <td>0</td>\n",
              "      <td>1</td>\n",
              "      <td>0</td>\n",
              "    </tr>\n",
              "    <tr>\n",
              "      <th>304</th>\n",
              "      <td>2020</td>\n",
              "      <td>WISCONSIN</td>\n",
              "      <td>0</td>\n",
              "      <td>WISCONSIN</td>\n",
              "      <td>0.870389</td>\n",
              "      <td>0.067076</td>\n",
              "      <td>0.070968</td>\n",
              "      <td>0.243544</td>\n",
              "      <td>0.502778</td>\n",
              "      <td>1</td>\n",
              "      <td>0</td>\n",
              "      <td>0</td>\n",
              "      <td>0</td>\n",
              "    </tr>\n",
              "    <tr>\n",
              "      <th>305</th>\n",
              "      <td>2020</td>\n",
              "      <td>WYOMING</td>\n",
              "      <td>1</td>\n",
              "      <td>WYOMING</td>\n",
              "      <td>0.925033</td>\n",
              "      <td>0.012902</td>\n",
              "      <td>0.101267</td>\n",
              "      <td>0.241318</td>\n",
              "      <td>0.522559</td>\n",
              "      <td>0</td>\n",
              "      <td>0</td>\n",
              "      <td>0</td>\n",
              "      <td>1</td>\n",
              "    </tr>\n",
              "  </tbody>\n",
              "</table>\n",
              "<p>306 rows × 13 columns</p>\n",
              "</div>"
            ],
            "text/plain": [
              "     YEAR          STATE  OUTCOME  ... REGION_Northeast  REGION_South  REGION_West\n",
              "0    2000        ALABAMA        1  ...                0             1            0\n",
              "1    2000         ALASKA        1  ...                0             0            1\n",
              "2    2000        ARIZONA        1  ...                0             0            1\n",
              "3    2000       ARKANSAS        1  ...                0             1            0\n",
              "4    2000     CALIFORNIA        0  ...                0             0            1\n",
              "..    ...            ...      ...  ...              ...           ...          ...\n",
              "301  2020       VIRGINIA        0  ...                0             1            0\n",
              "302  2020     WASHINGTON        0  ...                0             0            1\n",
              "303  2020  WEST VIRGINIA        1  ...                0             1            0\n",
              "304  2020      WISCONSIN        0  ...                0             0            0\n",
              "305  2020        WYOMING        1  ...                0             0            1\n",
              "\n",
              "[306 rows x 13 columns]"
            ]
          },
          "metadata": {
            "tags": []
          },
          "execution_count": 10
        }
      ]
    },
    {
      "cell_type": "code",
      "metadata": {
        "colab": {
          "base_uri": "https://localhost:8080/",
          "height": 402
        },
        "id": "stgL9W8wYMA5",
        "outputId": "47f5a49c-0ed9-4d2c-8c97-6d7600b4ff9b"
      },
      "source": [
        "# Clean Past 5 Election Data\n",
        "five_election_df = five_election_df[five_election_df[\"YEAR\"] >= 2000]\n",
        "five_election_df = five_election_df[['YEAR', 'STATE', 'PAST_5_ELECTION_VOTING']]\n",
        "five_election_df"
      ],
      "execution_count": 11,
      "outputs": [
        {
          "output_type": "execute_result",
          "data": {
            "text/html": [
              "<div>\n",
              "<style scoped>\n",
              "    .dataframe tbody tr th:only-of-type {\n",
              "        vertical-align: middle;\n",
              "    }\n",
              "\n",
              "    .dataframe tbody tr th {\n",
              "        vertical-align: top;\n",
              "    }\n",
              "\n",
              "    .dataframe thead th {\n",
              "        text-align: right;\n",
              "    }\n",
              "</style>\n",
              "<table border=\"1\" class=\"dataframe\">\n",
              "  <thead>\n",
              "    <tr style=\"text-align: right;\">\n",
              "      <th></th>\n",
              "      <th>YEAR</th>\n",
              "      <th>STATE</th>\n",
              "      <th>PAST_5_ELECTION_VOTING</th>\n",
              "    </tr>\n",
              "  </thead>\n",
              "  <tbody>\n",
              "    <tr>\n",
              "      <th>6</th>\n",
              "      <td>2000</td>\n",
              "      <td>ALABAMA</td>\n",
              "      <td>1.0</td>\n",
              "    </tr>\n",
              "    <tr>\n",
              "      <th>7</th>\n",
              "      <td>2004</td>\n",
              "      <td>ALABAMA</td>\n",
              "      <td>1.0</td>\n",
              "    </tr>\n",
              "    <tr>\n",
              "      <th>8</th>\n",
              "      <td>2008</td>\n",
              "      <td>ALABAMA</td>\n",
              "      <td>1.0</td>\n",
              "    </tr>\n",
              "    <tr>\n",
              "      <th>9</th>\n",
              "      <td>2012</td>\n",
              "      <td>ALABAMA</td>\n",
              "      <td>1.0</td>\n",
              "    </tr>\n",
              "    <tr>\n",
              "      <th>10</th>\n",
              "      <td>2016</td>\n",
              "      <td>ALABAMA</td>\n",
              "      <td>1.0</td>\n",
              "    </tr>\n",
              "    <tr>\n",
              "      <th>...</th>\n",
              "      <td>...</td>\n",
              "      <td>...</td>\n",
              "      <td>...</td>\n",
              "    </tr>\n",
              "    <tr>\n",
              "      <th>607</th>\n",
              "      <td>2004</td>\n",
              "      <td>WYOMING</td>\n",
              "      <td>1.0</td>\n",
              "    </tr>\n",
              "    <tr>\n",
              "      <th>608</th>\n",
              "      <td>2008</td>\n",
              "      <td>WYOMING</td>\n",
              "      <td>1.0</td>\n",
              "    </tr>\n",
              "    <tr>\n",
              "      <th>609</th>\n",
              "      <td>2012</td>\n",
              "      <td>WYOMING</td>\n",
              "      <td>1.0</td>\n",
              "    </tr>\n",
              "    <tr>\n",
              "      <th>610</th>\n",
              "      <td>2016</td>\n",
              "      <td>WYOMING</td>\n",
              "      <td>1.0</td>\n",
              "    </tr>\n",
              "    <tr>\n",
              "      <th>611</th>\n",
              "      <td>2020</td>\n",
              "      <td>WYOMING</td>\n",
              "      <td>1.0</td>\n",
              "    </tr>\n",
              "  </tbody>\n",
              "</table>\n",
              "<p>306 rows × 3 columns</p>\n",
              "</div>"
            ],
            "text/plain": [
              "     YEAR    STATE  PAST_5_ELECTION_VOTING\n",
              "6    2000  ALABAMA                     1.0\n",
              "7    2004  ALABAMA                     1.0\n",
              "8    2008  ALABAMA                     1.0\n",
              "9    2012  ALABAMA                     1.0\n",
              "10   2016  ALABAMA                     1.0\n",
              "..    ...      ...                     ...\n",
              "607  2004  WYOMING                     1.0\n",
              "608  2008  WYOMING                     1.0\n",
              "609  2012  WYOMING                     1.0\n",
              "610  2016  WYOMING                     1.0\n",
              "611  2020  WYOMING                     1.0\n",
              "\n",
              "[306 rows x 3 columns]"
            ]
          },
          "metadata": {
            "tags": []
          },
          "execution_count": 11
        }
      ]
    },
    {
      "cell_type": "code",
      "metadata": {
        "id": "jqItqzIJflfZ"
      },
      "source": [
        "election_merged_df = pd.merge(election_merged_df, five_election_df, how='inner', on=['YEAR','STATE'])\n",
        "election_merged_df.drop(['STATE_NAME'], axis=1, inplace=True)"
      ],
      "execution_count": 12,
      "outputs": []
    },
    {
      "cell_type": "code",
      "metadata": {
        "colab": {
          "base_uri": "https://localhost:8080/"
        },
        "id": "8zVTQRzch9p6",
        "outputId": "31e1e8b2-56d3-42f0-e964-c30f3beb6db3"
      },
      "source": [
        "# Convert Pandas DF to Spark DF\n",
        "election_merged_df = spark.createDataFrame(election_merged_df)\n",
        "election_merged_df"
      ],
      "execution_count": 13,
      "outputs": [
        {
          "output_type": "execute_result",
          "data": {
            "text/plain": [
              "DataFrame[YEAR: bigint, STATE: string, OUTCOME: bigint, PCT_WHITE: double, PCT_BLACK: double, PCT_HISPANIC: double, PCT_OVER_60: double, PCT_UNDER_40: double, REGION_Midwest: bigint, REGION_Northeast: bigint, REGION_South: bigint, REGION_West: bigint, PAST_5_ELECTION_VOTING: double]"
            ]
          },
          "metadata": {
            "tags": []
          },
          "execution_count": 13
        }
      ]
    },
    {
      "cell_type": "markdown",
      "metadata": {
        "id": "vx1JzilgMP7g"
      },
      "source": [
        "# Load election data into RDS"
      ]
    },
    {
      "cell_type": "code",
      "metadata": {
        "id": "mRpzJk6vTCcd",
        "colab": {
          "resources": {
            "http://localhost:8080/nbextensions/google.colab/files.js": {
              "data": "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",
              "ok": true,
              "headers": [
                [
                  "content-type",
                  "application/javascript"
                ]
              ],
              "status": 200,
              "status_text": ""
            }
          },
          "base_uri": "https://localhost:8080/",
          "height": 73
        },
        "outputId": "76e95f5e-6de6-4298-ec06-4eb1dfb8f870"
      },
      "source": [
        "from google.colab import files\n",
        "uploaded = files.upload()"
      ],
      "execution_count": 14,
      "outputs": [
        {
          "output_type": "display_data",
          "data": {
            "text/html": [
              "\n",
              "     <input type=\"file\" id=\"files-a546ad04-8321-4341-a9c3-b7b819f1d97a\" name=\"files[]\" multiple disabled\n",
              "        style=\"border:none\" />\n",
              "     <output id=\"result-a546ad04-8321-4341-a9c3-b7b819f1d97a\">\n",
              "      Upload widget is only available when the cell has been executed in the\n",
              "      current browser session. Please rerun this cell to enable.\n",
              "      </output>\n",
              "      <script src=\"/nbextensions/google.colab/files.js\"></script> "
            ],
            "text/plain": [
              "<IPython.core.display.HTML object>"
            ]
          },
          "metadata": {
            "tags": []
          }
        },
        {
          "output_type": "stream",
          "text": [
            "Saving config.py to config (4).py\n"
          ],
          "name": "stdout"
        }
      ]
    },
    {
      "cell_type": "code",
      "metadata": {
        "id": "gP3zqWafiJaO"
      },
      "source": [
        "from config import password \n",
        "# Configure settings for RDS\n",
        "mode = \"overwrite\"\n",
        "jdbc_url=\"jdbc:postgresql://presidential-migration-db.cexjpewgnljl.us-east-2.rds.amazonaws.com:5432/presidential_migration_db\"\n",
        "config = {\"user\":\"postgres_blue\",\n",
        "          \"password\": f'{password}',\n",
        "          \"driver\":\"org.postgresql.Driver\"}"
      ],
      "execution_count": 15,
      "outputs": []
    },
    {
      "cell_type": "code",
      "metadata": {
        "id": "EnKo6vGlg9Ms"
      },
      "source": [
        "# Load cleaned election results into RDS\n",
        "election_merged_df.write.jdbc(url=jdbc_url, table='election', mode=mode, properties=config)"
      ],
      "execution_count": 16,
      "outputs": []
    },
    {
      "cell_type": "markdown",
      "metadata": {
        "id": "nQgKMPh8nT7o"
      },
      "source": [
        "# ETL Demographic Data"
      ]
    },
    {
      "cell_type": "markdown",
      "metadata": {
        "id": "QFMzsB26pnBI"
      },
      "source": [
        "## Degrees_df"
      ]
    },
    {
      "cell_type": "code",
      "metadata": {
        "id": "DWYJrwIknjya"
      },
      "source": [
        "# Read in cleaned college education data\n",
        "url = \"https://migration-election-impact.s3.us-east-2.amazonaws.com/Resources/clean_degrees_by_state.csv\"\n",
        "spark.sparkContext.addFile(url)\n",
        "degrees_df = spark.read.csv(SparkFiles.get(\"clean_degrees_by_state.csv\"), sep=\",\", header=True, inferSchema=True )\n",
        "degrees_df = degrees_df.select(\"*\").toPandas()"
      ],
      "execution_count": 19,
      "outputs": []
    },
    {
      "cell_type": "code",
      "metadata": {
        "id": "y6HaZiTooHfs"
      },
      "source": [
        "# Change column headings to upper case and convert STATE column values to upper case\n",
        "degrees_df = degrees_df.rename(columns=str.upper)\n",
        "degrees_df['STATE'] = degrees_df['STATE'].str.upper()"
      ],
      "execution_count": 20,
      "outputs": []
    },
    {
      "cell_type": "code",
      "metadata": {
        "colab": {
          "base_uri": "https://localhost:8080/"
        },
        "id": "TBgLnHGkovD4",
        "outputId": "ecd33661-52a6-42cd-aea4-b7b1a02cedca"
      },
      "source": [
        "degrees_2000 = degrees_df[(degrees_df.YEAR ==2005)]\n",
        "degrees_2004 = degrees_df[(degrees_df.YEAR ==2005)]\n",
        "degrees_2020 = degrees_df[(degrees_df.YEAR ==2019)]\n",
        "degrees_2000.loc[degrees_2000['YEAR'] == 2005, 'YEAR'] = 2000\n",
        "degrees_2004.loc[degrees_2004['YEAR'] == 2005, 'YEAR'] = 2004\n",
        "degrees_2020.loc[degrees_2020['YEAR'] == 2019, 'YEAR'] = 2020"
      ],
      "execution_count": 21,
      "outputs": [
        {
          "output_type": "stream",
          "text": [
            "/usr/local/lib/python3.7/dist-packages/pandas/core/indexing.py:1763: SettingWithCopyWarning: \n",
            "A value is trying to be set on a copy of a slice from a DataFrame.\n",
            "Try using .loc[row_indexer,col_indexer] = value instead\n",
            "\n",
            "See the caveats in the documentation: https://pandas.pydata.org/pandas-docs/stable/user_guide/indexing.html#returning-a-view-versus-a-copy\n",
            "  isetter(loc, value)\n",
            "/usr/local/lib/python3.7/dist-packages/pandas/core/indexing.py:1763: SettingWithCopyWarning: \n",
            "A value is trying to be set on a copy of a slice from a DataFrame.\n",
            "Try using .loc[row_indexer,col_indexer] = value instead\n",
            "\n",
            "See the caveats in the documentation: https://pandas.pydata.org/pandas-docs/stable/user_guide/indexing.html#returning-a-view-versus-a-copy\n",
            "  isetter(loc, value)\n",
            "/usr/local/lib/python3.7/dist-packages/pandas/core/indexing.py:1763: SettingWithCopyWarning: \n",
            "A value is trying to be set on a copy of a slice from a DataFrame.\n",
            "Try using .loc[row_indexer,col_indexer] = value instead\n",
            "\n",
            "See the caveats in the documentation: https://pandas.pydata.org/pandas-docs/stable/user_guide/indexing.html#returning-a-view-versus-a-copy\n",
            "  isetter(loc, value)\n"
          ],
          "name": "stderr"
        }
      ]
    },
    {
      "cell_type": "code",
      "metadata": {
        "id": "bQOldTdHovBT"
      },
      "source": [
        "degrees_df = degrees_df.append(degrees_2000,ignore_index=True)\n",
        "degrees_df = degrees_df.append(degrees_2004,ignore_index=True)\n",
        "degrees_df = degrees_df.append(degrees_2020,ignore_index=True)"
      ],
      "execution_count": 22,
      "outputs": []
    },
    {
      "cell_type": "code",
      "metadata": {
        "colab": {
          "base_uri": "https://localhost:8080/",
          "height": 402
        },
        "id": "lStT9mONo1Gv",
        "outputId": "8147f446-a406-49f0-e0d5-cf4c5b4d4d2a"
      },
      "source": [
        "# Filter df to include only presidential election year data. \n",
        "degrees_df = degrees_df[degrees_df.YEAR.isin([\"2000\",\"2004\",\"2008\",\"2012\",\"2016\",\"2020\"])].sort_values(by=['YEAR']).rename(columns = {'#_BAS': 'BACHELORS_DEGREE_TOT'}, inplace = False)\n",
        "degrees_df"
      ],
      "execution_count": 23,
      "outputs": [
        {
          "output_type": "execute_result",
          "data": {
            "text/html": [
              "<div>\n",
              "<style scoped>\n",
              "    .dataframe tbody tr th:only-of-type {\n",
              "        vertical-align: middle;\n",
              "    }\n",
              "\n",
              "    .dataframe tbody tr th {\n",
              "        vertical-align: top;\n",
              "    }\n",
              "\n",
              "    .dataframe thead th {\n",
              "        text-align: right;\n",
              "    }\n",
              "</style>\n",
              "<table border=\"1\" class=\"dataframe\">\n",
              "  <thead>\n",
              "    <tr style=\"text-align: right;\">\n",
              "      <th></th>\n",
              "      <th>STATE</th>\n",
              "      <th>YEAR</th>\n",
              "      <th>BACHELORS_DEGREE_TOT</th>\n",
              "    </tr>\n",
              "  </thead>\n",
              "  <tbody>\n",
              "    <tr>\n",
              "      <th>815</th>\n",
              "      <td>WYOMING</td>\n",
              "      <td>2000</td>\n",
              "      <td>29830</td>\n",
              "    </tr>\n",
              "    <tr>\n",
              "      <th>786</th>\n",
              "      <td>MASSACHUSETTS</td>\n",
              "      <td>2000</td>\n",
              "      <td>780520</td>\n",
              "    </tr>\n",
              "    <tr>\n",
              "      <th>785</th>\n",
              "      <td>MARYLAND</td>\n",
              "      <td>2000</td>\n",
              "      <td>582280</td>\n",
              "    </tr>\n",
              "    <tr>\n",
              "      <th>784</th>\n",
              "      <td>MAINE</td>\n",
              "      <td>2000</td>\n",
              "      <td>85985</td>\n",
              "    </tr>\n",
              "    <tr>\n",
              "      <th>783</th>\n",
              "      <td>LOUISIANA</td>\n",
              "      <td>2000</td>\n",
              "      <td>267430</td>\n",
              "    </tr>\n",
              "    <tr>\n",
              "      <th>...</th>\n",
              "      <td>...</td>\n",
              "      <td>...</td>\n",
              "      <td>...</td>\n",
              "    </tr>\n",
              "    <tr>\n",
              "      <th>887</th>\n",
              "      <td>MARYLAND</td>\n",
              "      <td>2020</td>\n",
              "      <td>712675</td>\n",
              "    </tr>\n",
              "    <tr>\n",
              "      <th>888</th>\n",
              "      <td>MASSACHUSETTS</td>\n",
              "      <td>2020</td>\n",
              "      <td>974100</td>\n",
              "    </tr>\n",
              "    <tr>\n",
              "      <th>889</th>\n",
              "      <td>MICHIGAN</td>\n",
              "      <td>2020</td>\n",
              "      <td>851380</td>\n",
              "    </tr>\n",
              "    <tr>\n",
              "      <th>891</th>\n",
              "      <td>MISSISSIPPI</td>\n",
              "      <td>2020</td>\n",
              "      <td>172285</td>\n",
              "    </tr>\n",
              "    <tr>\n",
              "      <th>917</th>\n",
              "      <td>WYOMING</td>\n",
              "      <td>2020</td>\n",
              "      <td>44925</td>\n",
              "    </tr>\n",
              "  </tbody>\n",
              "</table>\n",
              "<p>306 rows × 3 columns</p>\n",
              "</div>"
            ],
            "text/plain": [
              "             STATE  YEAR  BACHELORS_DEGREE_TOT\n",
              "815        WYOMING  2000                 29830\n",
              "786  MASSACHUSETTS  2000                780520\n",
              "785       MARYLAND  2000                582280\n",
              "784          MAINE  2000                 85985\n",
              "783      LOUISIANA  2000                267430\n",
              "..             ...   ...                   ...\n",
              "887       MARYLAND  2020                712675\n",
              "888  MASSACHUSETTS  2020                974100\n",
              "889       MICHIGAN  2020                851380\n",
              "891    MISSISSIPPI  2020                172285\n",
              "917        WYOMING  2020                 44925\n",
              "\n",
              "[306 rows x 3 columns]"
            ]
          },
          "metadata": {
            "tags": []
          },
          "execution_count": 23
        }
      ]
    },
    {
      "cell_type": "markdown",
      "metadata": {
        "id": "UoCxZJ1IprO2"
      },
      "source": [
        "## Incarceration_df"
      ]
    },
    {
      "cell_type": "code",
      "metadata": {
        "id": "NuUvxeaAMZPk"
      },
      "source": [
        "# Read in incarceration data\n",
        "url =\"https://migration-election-impact.s3.us-east-2.amazonaws.com/Resources/clean_incarceration.csv\"\n",
        "spark.sparkContext.addFile(url)\n",
        "incarceration_df = spark.read.csv(SparkFiles.get(\"clean_incarceration.csv\"), sep=\",\", header=True, inferSchema=True)\n",
        "incarceration_df = incarceration_df.select(\"*\").toPandas()"
      ],
      "execution_count": 25,
      "outputs": []
    },
    {
      "cell_type": "code",
      "metadata": {
        "colab": {
          "base_uri": "https://localhost:8080/",
          "height": 402
        },
        "id": "1iufWH-_ou4l",
        "outputId": "e105ff9f-0a42-4d5a-f900-e33549c8b2e0"
      },
      "source": [
        "# Change column headings to upper case and convert STATE column values to upper case\n",
        "incarceration_df = incarceration_df.rename(columns=str.upper)\n",
        "incarceration_df['STATE'] = incarceration_df['STATE'].str.upper()\n",
        "incarceration_df"
      ],
      "execution_count": 26,
      "outputs": [
        {
          "output_type": "execute_result",
          "data": {
            "text/html": [
              "<div>\n",
              "<style scoped>\n",
              "    .dataframe tbody tr th:only-of-type {\n",
              "        vertical-align: middle;\n",
              "    }\n",
              "\n",
              "    .dataframe tbody tr th {\n",
              "        vertical-align: top;\n",
              "    }\n",
              "\n",
              "    .dataframe thead th {\n",
              "        text-align: right;\n",
              "    }\n",
              "</style>\n",
              "<table border=\"1\" class=\"dataframe\">\n",
              "  <thead>\n",
              "    <tr style=\"text-align: right;\">\n",
              "      <th></th>\n",
              "      <th>YEAR</th>\n",
              "      <th>STATE</th>\n",
              "      <th>PRISON_JAIL_RATE</th>\n",
              "      <th>VALUE</th>\n",
              "    </tr>\n",
              "  </thead>\n",
              "  <tbody>\n",
              "    <tr>\n",
              "      <th>0</th>\n",
              "      <td>2000</td>\n",
              "      <td>ALABAMA</td>\n",
              "      <td>Jail Rate</td>\n",
              "      <td>203.1</td>\n",
              "    </tr>\n",
              "    <tr>\n",
              "      <th>1</th>\n",
              "      <td>2000</td>\n",
              "      <td>ALABAMA</td>\n",
              "      <td>Prison Rate</td>\n",
              "      <td>584.8</td>\n",
              "    </tr>\n",
              "    <tr>\n",
              "      <th>2</th>\n",
              "      <td>2000</td>\n",
              "      <td>ALASKA</td>\n",
              "      <td>Prison Rate</td>\n",
              "      <td>339.1</td>\n",
              "    </tr>\n",
              "    <tr>\n",
              "      <th>3</th>\n",
              "      <td>2000</td>\n",
              "      <td>ARIZONA</td>\n",
              "      <td>Jail Rate</td>\n",
              "      <td>196.9</td>\n",
              "    </tr>\n",
              "    <tr>\n",
              "      <th>4</th>\n",
              "      <td>2000</td>\n",
              "      <td>ARIZONA</td>\n",
              "      <td>Prison Rate</td>\n",
              "      <td>491.8</td>\n",
              "    </tr>\n",
              "    <tr>\n",
              "      <th>...</th>\n",
              "      <td>...</td>\n",
              "      <td>...</td>\n",
              "      <td>...</td>\n",
              "      <td>...</td>\n",
              "    </tr>\n",
              "    <tr>\n",
              "      <th>1441</th>\n",
              "      <td>2015</td>\n",
              "      <td>VIRGINIA</td>\n",
              "      <td>Prison Rate</td>\n",
              "      <td>456.7</td>\n",
              "    </tr>\n",
              "    <tr>\n",
              "      <th>1442</th>\n",
              "      <td>2015</td>\n",
              "      <td>WASHINGTON</td>\n",
              "      <td>Prison Rate</td>\n",
              "      <td>252.2</td>\n",
              "    </tr>\n",
              "    <tr>\n",
              "      <th>1443</th>\n",
              "      <td>2015</td>\n",
              "      <td>WEST VIRGINIA</td>\n",
              "      <td>Prison Rate</td>\n",
              "      <td>386.0</td>\n",
              "    </tr>\n",
              "    <tr>\n",
              "      <th>1444</th>\n",
              "      <td>2015</td>\n",
              "      <td>WISCONSIN</td>\n",
              "      <td>Prison Rate</td>\n",
              "      <td>376.6</td>\n",
              "    </tr>\n",
              "    <tr>\n",
              "      <th>1445</th>\n",
              "      <td>2015</td>\n",
              "      <td>WYOMING</td>\n",
              "      <td>Prison Rate</td>\n",
              "      <td>413.1</td>\n",
              "    </tr>\n",
              "  </tbody>\n",
              "</table>\n",
              "<p>1446 rows × 4 columns</p>\n",
              "</div>"
            ],
            "text/plain": [
              "      YEAR          STATE PRISON_JAIL_RATE  VALUE\n",
              "0     2000        ALABAMA        Jail Rate  203.1\n",
              "1     2000        ALABAMA      Prison Rate  584.8\n",
              "2     2000         ALASKA      Prison Rate  339.1\n",
              "3     2000        ARIZONA        Jail Rate  196.9\n",
              "4     2000        ARIZONA      Prison Rate  491.8\n",
              "...    ...            ...              ...    ...\n",
              "1441  2015       VIRGINIA      Prison Rate  456.7\n",
              "1442  2015     WASHINGTON      Prison Rate  252.2\n",
              "1443  2015  WEST VIRGINIA      Prison Rate  386.0\n",
              "1444  2015      WISCONSIN      Prison Rate  376.6\n",
              "1445  2015        WYOMING      Prison Rate  413.1\n",
              "\n",
              "[1446 rows x 4 columns]"
            ]
          },
          "metadata": {
            "tags": []
          },
          "execution_count": 26
        }
      ]
    },
    {
      "cell_type": "code",
      "metadata": {
        "colab": {
          "base_uri": "https://localhost:8080/",
          "height": 402
        },
        "id": "pZcvmT3YpDlA",
        "outputId": "b23df31b-c45b-42c4-b611-2a4393d28284"
      },
      "source": [
        "#Split prison and jail rates into separate columns and \n",
        "jail_df = incarceration_df[(incarceration_df.PRISON_JAIL_RATE == 'Jail Rate')].rename(columns = {'VALUE': 'JAIL_RATE'}, inplace = False).drop(columns=['PRISON_JAIL_RATE'])\n",
        "prison_df = incarceration_df[(incarceration_df.PRISON_JAIL_RATE == 'Prison Rate')].rename(columns = {'VALUE': 'PRISON_RATE'}, inplace = False).drop(columns=['PRISON_JAIL_RATE'])\n",
        "incarceration_df = pd.merge(jail_df, prison_df, how='right', left_on=['YEAR', 'STATE'], right_on = ['YEAR', 'STATE'])\n",
        "incarceration_df"
      ],
      "execution_count": 27,
      "outputs": [
        {
          "output_type": "execute_result",
          "data": {
            "text/html": [
              "<div>\n",
              "<style scoped>\n",
              "    .dataframe tbody tr th:only-of-type {\n",
              "        vertical-align: middle;\n",
              "    }\n",
              "\n",
              "    .dataframe tbody tr th {\n",
              "        vertical-align: top;\n",
              "    }\n",
              "\n",
              "    .dataframe thead th {\n",
              "        text-align: right;\n",
              "    }\n",
              "</style>\n",
              "<table border=\"1\" class=\"dataframe\">\n",
              "  <thead>\n",
              "    <tr style=\"text-align: right;\">\n",
              "      <th></th>\n",
              "      <th>YEAR</th>\n",
              "      <th>STATE</th>\n",
              "      <th>JAIL_RATE</th>\n",
              "      <th>PRISON_RATE</th>\n",
              "    </tr>\n",
              "  </thead>\n",
              "  <tbody>\n",
              "    <tr>\n",
              "      <th>0</th>\n",
              "      <td>2000</td>\n",
              "      <td>ALABAMA</td>\n",
              "      <td>203.1</td>\n",
              "      <td>584.8</td>\n",
              "    </tr>\n",
              "    <tr>\n",
              "      <th>1</th>\n",
              "      <td>2000</td>\n",
              "      <td>ALASKA</td>\n",
              "      <td>NaN</td>\n",
              "      <td>339.1</td>\n",
              "    </tr>\n",
              "    <tr>\n",
              "      <th>2</th>\n",
              "      <td>2000</td>\n",
              "      <td>ARIZONA</td>\n",
              "      <td>196.9</td>\n",
              "      <td>491.8</td>\n",
              "    </tr>\n",
              "    <tr>\n",
              "      <th>3</th>\n",
              "      <td>2000</td>\n",
              "      <td>ARKANSAS</td>\n",
              "      <td>163.1</td>\n",
              "      <td>442.5</td>\n",
              "    </tr>\n",
              "    <tr>\n",
              "      <th>4</th>\n",
              "      <td>2000</td>\n",
              "      <td>CALIFORNIA</td>\n",
              "      <td>193.1</td>\n",
              "      <td>471.9</td>\n",
              "    </tr>\n",
              "    <tr>\n",
              "      <th>...</th>\n",
              "      <td>...</td>\n",
              "      <td>...</td>\n",
              "      <td>...</td>\n",
              "      <td>...</td>\n",
              "    </tr>\n",
              "    <tr>\n",
              "      <th>811</th>\n",
              "      <td>2015</td>\n",
              "      <td>VIRGINIA</td>\n",
              "      <td>NaN</td>\n",
              "      <td>456.7</td>\n",
              "    </tr>\n",
              "    <tr>\n",
              "      <th>812</th>\n",
              "      <td>2015</td>\n",
              "      <td>WASHINGTON</td>\n",
              "      <td>NaN</td>\n",
              "      <td>252.2</td>\n",
              "    </tr>\n",
              "    <tr>\n",
              "      <th>813</th>\n",
              "      <td>2015</td>\n",
              "      <td>WEST VIRGINIA</td>\n",
              "      <td>NaN</td>\n",
              "      <td>386.0</td>\n",
              "    </tr>\n",
              "    <tr>\n",
              "      <th>814</th>\n",
              "      <td>2015</td>\n",
              "      <td>WISCONSIN</td>\n",
              "      <td>NaN</td>\n",
              "      <td>376.6</td>\n",
              "    </tr>\n",
              "    <tr>\n",
              "      <th>815</th>\n",
              "      <td>2015</td>\n",
              "      <td>WYOMING</td>\n",
              "      <td>NaN</td>\n",
              "      <td>413.1</td>\n",
              "    </tr>\n",
              "  </tbody>\n",
              "</table>\n",
              "<p>816 rows × 4 columns</p>\n",
              "</div>"
            ],
            "text/plain": [
              "     YEAR          STATE  JAIL_RATE  PRISON_RATE\n",
              "0    2000        ALABAMA      203.1        584.8\n",
              "1    2000         ALASKA        NaN        339.1\n",
              "2    2000        ARIZONA      196.9        491.8\n",
              "3    2000       ARKANSAS      163.1        442.5\n",
              "4    2000     CALIFORNIA      193.1        471.9\n",
              "..    ...            ...        ...          ...\n",
              "811  2015       VIRGINIA        NaN        456.7\n",
              "812  2015     WASHINGTON        NaN        252.2\n",
              "813  2015  WEST VIRGINIA        NaN        386.0\n",
              "814  2015      WISCONSIN        NaN        376.6\n",
              "815  2015        WYOMING        NaN        413.1\n",
              "\n",
              "[816 rows x 4 columns]"
            ]
          },
          "metadata": {
            "tags": []
          },
          "execution_count": 27
        }
      ]
    },
    {
      "cell_type": "code",
      "metadata": {
        "colab": {
          "base_uri": "https://localhost:8080/",
          "height": 623
        },
        "id": "r-ZSxXqopDiX",
        "outputId": "de71081b-1ce8-4d3f-da37-081709eedb96"
      },
      "source": [
        "# Duplicate 2015 values for 2016/2020 and append to df\n",
        "incarceration_2016 = incarceration_df[(incarceration_df.YEAR ==2015)]\n",
        "incarceration_2020 = incarceration_df[(incarceration_df.YEAR ==2015)]\n",
        "\n",
        "incarceration_2016.loc[incarceration_2016['YEAR'] == 2015, 'YEAR'] = 2016\n",
        "incarceration_2020.loc[incarceration_2020['YEAR'] == 2015, 'YEAR'] = 2020\n",
        "\n",
        "incarceration_df = incarceration_df.append(incarceration_2016,ignore_index=True)\n",
        "incarceration_df = incarceration_df.append(incarceration_2020,ignore_index=True)\n",
        "incarceration_df"
      ],
      "execution_count": 28,
      "outputs": [
        {
          "output_type": "stream",
          "text": [
            "/usr/local/lib/python3.7/dist-packages/pandas/core/indexing.py:1763: SettingWithCopyWarning: \n",
            "A value is trying to be set on a copy of a slice from a DataFrame.\n",
            "Try using .loc[row_indexer,col_indexer] = value instead\n",
            "\n",
            "See the caveats in the documentation: https://pandas.pydata.org/pandas-docs/stable/user_guide/indexing.html#returning-a-view-versus-a-copy\n",
            "  isetter(loc, value)\n",
            "/usr/local/lib/python3.7/dist-packages/pandas/core/indexing.py:1763: SettingWithCopyWarning: \n",
            "A value is trying to be set on a copy of a slice from a DataFrame.\n",
            "Try using .loc[row_indexer,col_indexer] = value instead\n",
            "\n",
            "See the caveats in the documentation: https://pandas.pydata.org/pandas-docs/stable/user_guide/indexing.html#returning-a-view-versus-a-copy\n",
            "  isetter(loc, value)\n"
          ],
          "name": "stderr"
        },
        {
          "output_type": "execute_result",
          "data": {
            "text/html": [
              "<div>\n",
              "<style scoped>\n",
              "    .dataframe tbody tr th:only-of-type {\n",
              "        vertical-align: middle;\n",
              "    }\n",
              "\n",
              "    .dataframe tbody tr th {\n",
              "        vertical-align: top;\n",
              "    }\n",
              "\n",
              "    .dataframe thead th {\n",
              "        text-align: right;\n",
              "    }\n",
              "</style>\n",
              "<table border=\"1\" class=\"dataframe\">\n",
              "  <thead>\n",
              "    <tr style=\"text-align: right;\">\n",
              "      <th></th>\n",
              "      <th>YEAR</th>\n",
              "      <th>STATE</th>\n",
              "      <th>JAIL_RATE</th>\n",
              "      <th>PRISON_RATE</th>\n",
              "    </tr>\n",
              "  </thead>\n",
              "  <tbody>\n",
              "    <tr>\n",
              "      <th>0</th>\n",
              "      <td>2000</td>\n",
              "      <td>ALABAMA</td>\n",
              "      <td>203.1</td>\n",
              "      <td>584.8</td>\n",
              "    </tr>\n",
              "    <tr>\n",
              "      <th>1</th>\n",
              "      <td>2000</td>\n",
              "      <td>ALASKA</td>\n",
              "      <td>NaN</td>\n",
              "      <td>339.1</td>\n",
              "    </tr>\n",
              "    <tr>\n",
              "      <th>2</th>\n",
              "      <td>2000</td>\n",
              "      <td>ARIZONA</td>\n",
              "      <td>196.9</td>\n",
              "      <td>491.8</td>\n",
              "    </tr>\n",
              "    <tr>\n",
              "      <th>3</th>\n",
              "      <td>2000</td>\n",
              "      <td>ARKANSAS</td>\n",
              "      <td>163.1</td>\n",
              "      <td>442.5</td>\n",
              "    </tr>\n",
              "    <tr>\n",
              "      <th>4</th>\n",
              "      <td>2000</td>\n",
              "      <td>CALIFORNIA</td>\n",
              "      <td>193.1</td>\n",
              "      <td>471.9</td>\n",
              "    </tr>\n",
              "    <tr>\n",
              "      <th>...</th>\n",
              "      <td>...</td>\n",
              "      <td>...</td>\n",
              "      <td>...</td>\n",
              "      <td>...</td>\n",
              "    </tr>\n",
              "    <tr>\n",
              "      <th>913</th>\n",
              "      <td>2020</td>\n",
              "      <td>VIRGINIA</td>\n",
              "      <td>NaN</td>\n",
              "      <td>456.7</td>\n",
              "    </tr>\n",
              "    <tr>\n",
              "      <th>914</th>\n",
              "      <td>2020</td>\n",
              "      <td>WASHINGTON</td>\n",
              "      <td>NaN</td>\n",
              "      <td>252.2</td>\n",
              "    </tr>\n",
              "    <tr>\n",
              "      <th>915</th>\n",
              "      <td>2020</td>\n",
              "      <td>WEST VIRGINIA</td>\n",
              "      <td>NaN</td>\n",
              "      <td>386.0</td>\n",
              "    </tr>\n",
              "    <tr>\n",
              "      <th>916</th>\n",
              "      <td>2020</td>\n",
              "      <td>WISCONSIN</td>\n",
              "      <td>NaN</td>\n",
              "      <td>376.6</td>\n",
              "    </tr>\n",
              "    <tr>\n",
              "      <th>917</th>\n",
              "      <td>2020</td>\n",
              "      <td>WYOMING</td>\n",
              "      <td>NaN</td>\n",
              "      <td>413.1</td>\n",
              "    </tr>\n",
              "  </tbody>\n",
              "</table>\n",
              "<p>918 rows × 4 columns</p>\n",
              "</div>"
            ],
            "text/plain": [
              "     YEAR          STATE  JAIL_RATE  PRISON_RATE\n",
              "0    2000        ALABAMA      203.1        584.8\n",
              "1    2000         ALASKA        NaN        339.1\n",
              "2    2000        ARIZONA      196.9        491.8\n",
              "3    2000       ARKANSAS      163.1        442.5\n",
              "4    2000     CALIFORNIA      193.1        471.9\n",
              "..    ...            ...        ...          ...\n",
              "913  2020       VIRGINIA        NaN        456.7\n",
              "914  2020     WASHINGTON        NaN        252.2\n",
              "915  2020  WEST VIRGINIA        NaN        386.0\n",
              "916  2020      WISCONSIN        NaN        376.6\n",
              "917  2020        WYOMING        NaN        413.1\n",
              "\n",
              "[918 rows x 4 columns]"
            ]
          },
          "metadata": {
            "tags": []
          },
          "execution_count": 28
        }
      ]
    },
    {
      "cell_type": "code",
      "metadata": {
        "colab": {
          "base_uri": "https://localhost:8080/",
          "height": 402
        },
        "id": "MpOdbTAspDgG",
        "outputId": "94e2c001-5e81-41ff-8442-33a043de235b"
      },
      "source": [
        "# Filter df to include only presidential election year data. \n",
        "incarceration_df = incarceration_df[incarceration_df.YEAR.isin([\"2000\",\"2004\",\"2008\",\"2012\",\"2016\",\"2020\"])].sort_values(by=['YEAR'])\n",
        "incarceration_df"
      ],
      "execution_count": 29,
      "outputs": [
        {
          "output_type": "execute_result",
          "data": {
            "text/html": [
              "<div>\n",
              "<style scoped>\n",
              "    .dataframe tbody tr th:only-of-type {\n",
              "        vertical-align: middle;\n",
              "    }\n",
              "\n",
              "    .dataframe tbody tr th {\n",
              "        vertical-align: top;\n",
              "    }\n",
              "\n",
              "    .dataframe thead th {\n",
              "        text-align: right;\n",
              "    }\n",
              "</style>\n",
              "<table border=\"1\" class=\"dataframe\">\n",
              "  <thead>\n",
              "    <tr style=\"text-align: right;\">\n",
              "      <th></th>\n",
              "      <th>YEAR</th>\n",
              "      <th>STATE</th>\n",
              "      <th>JAIL_RATE</th>\n",
              "      <th>PRISON_RATE</th>\n",
              "    </tr>\n",
              "  </thead>\n",
              "  <tbody>\n",
              "    <tr>\n",
              "      <th>0</th>\n",
              "      <td>2000</td>\n",
              "      <td>ALABAMA</td>\n",
              "      <td>203.1</td>\n",
              "      <td>584.8</td>\n",
              "    </tr>\n",
              "    <tr>\n",
              "      <th>28</th>\n",
              "      <td>2000</td>\n",
              "      <td>NEVADA</td>\n",
              "      <td>219.7</td>\n",
              "      <td>498.6</td>\n",
              "    </tr>\n",
              "    <tr>\n",
              "      <th>29</th>\n",
              "      <td>2000</td>\n",
              "      <td>NEW HAMPSHIRE</td>\n",
              "      <td>47.3</td>\n",
              "      <td>182.0</td>\n",
              "    </tr>\n",
              "    <tr>\n",
              "      <th>30</th>\n",
              "      <td>2000</td>\n",
              "      <td>NEW JERSEY</td>\n",
              "      <td>128.8</td>\n",
              "      <td>353.3</td>\n",
              "    </tr>\n",
              "    <tr>\n",
              "      <th>31</th>\n",
              "      <td>2000</td>\n",
              "      <td>NEW MEXICO</td>\n",
              "      <td>275.4</td>\n",
              "      <td>256.3</td>\n",
              "    </tr>\n",
              "    <tr>\n",
              "      <th>...</th>\n",
              "      <td>...</td>\n",
              "      <td>...</td>\n",
              "      <td>...</td>\n",
              "      <td>...</td>\n",
              "    </tr>\n",
              "    <tr>\n",
              "      <th>887</th>\n",
              "      <td>2020</td>\n",
              "      <td>MARYLAND</td>\n",
              "      <td>NaN</td>\n",
              "      <td>338.8</td>\n",
              "    </tr>\n",
              "    <tr>\n",
              "      <th>888</th>\n",
              "      <td>2020</td>\n",
              "      <td>MASSACHUSETTS</td>\n",
              "      <td>NaN</td>\n",
              "      <td>179.3</td>\n",
              "    </tr>\n",
              "    <tr>\n",
              "      <th>889</th>\n",
              "      <td>2020</td>\n",
              "      <td>MICHIGAN</td>\n",
              "      <td>NaN</td>\n",
              "      <td>429.2</td>\n",
              "    </tr>\n",
              "    <tr>\n",
              "      <th>891</th>\n",
              "      <td>2020</td>\n",
              "      <td>MISSISSIPPI</td>\n",
              "      <td>NaN</td>\n",
              "      <td>608.8</td>\n",
              "    </tr>\n",
              "    <tr>\n",
              "      <th>917</th>\n",
              "      <td>2020</td>\n",
              "      <td>WYOMING</td>\n",
              "      <td>NaN</td>\n",
              "      <td>413.1</td>\n",
              "    </tr>\n",
              "  </tbody>\n",
              "</table>\n",
              "<p>306 rows × 4 columns</p>\n",
              "</div>"
            ],
            "text/plain": [
              "     YEAR          STATE  JAIL_RATE  PRISON_RATE\n",
              "0    2000        ALABAMA      203.1        584.8\n",
              "28   2000         NEVADA      219.7        498.6\n",
              "29   2000  NEW HAMPSHIRE       47.3        182.0\n",
              "30   2000     NEW JERSEY      128.8        353.3\n",
              "31   2000     NEW MEXICO      275.4        256.3\n",
              "..    ...            ...        ...          ...\n",
              "887  2020       MARYLAND        NaN        338.8\n",
              "888  2020  MASSACHUSETTS        NaN        179.3\n",
              "889  2020       MICHIGAN        NaN        429.2\n",
              "891  2020    MISSISSIPPI        NaN        608.8\n",
              "917  2020        WYOMING        NaN        413.1\n",
              "\n",
              "[306 rows x 4 columns]"
            ]
          },
          "metadata": {
            "tags": []
          },
          "execution_count": 29
        }
      ]
    },
    {
      "cell_type": "markdown",
      "metadata": {
        "id": "eZt7wqVApvFk"
      },
      "source": [
        "## Income_df"
      ]
    },
    {
      "cell_type": "code",
      "metadata": {
        "id": "t7zWXgV0MXYn"
      },
      "source": [
        "# Read in incarceration data\n",
        "url =\"https://migration-election-impact.s3.us-east-2.amazonaws.com/Resources/clean_med_income.csv\"\n",
        "spark.sparkContext.addFile(url)\n",
        "income_df = spark.read.csv(SparkFiles.get(\"clean_med_income.csv\"), sep=\",\", header=True, inferSchema=True)\n",
        "income_df = income_df.select(\"*\").toPandas()"
      ],
      "execution_count": 32,
      "outputs": []
    },
    {
      "cell_type": "code",
      "metadata": {
        "id": "ZLRiKSMvpu2b"
      },
      "source": [
        "# Change column headings to upper case and convert STATE column values to upper case\n",
        "income_df = income_df.rename(columns=str.upper)\n",
        "income_df['STATE'] = income_df['STATE'].str.upper()"
      ],
      "execution_count": 33,
      "outputs": []
    },
    {
      "cell_type": "code",
      "metadata": {
        "colab": {
          "base_uri": "https://localhost:8080/",
          "height": 402
        },
        "id": "1TndrKyBpDd7",
        "outputId": "574f8be8-34b3-4dd4-91f8-369e401c992e"
      },
      "source": [
        "# Convert YEAR to int \n",
        "income_df['YEAR'] = income_df['YEAR'].astype(int)\n",
        "income_df"
      ],
      "execution_count": 34,
      "outputs": [
        {
          "output_type": "execute_result",
          "data": {
            "text/html": [
              "<div>\n",
              "<style scoped>\n",
              "    .dataframe tbody tr th:only-of-type {\n",
              "        vertical-align: middle;\n",
              "    }\n",
              "\n",
              "    .dataframe tbody tr th {\n",
              "        vertical-align: top;\n",
              "    }\n",
              "\n",
              "    .dataframe thead th {\n",
              "        text-align: right;\n",
              "    }\n",
              "</style>\n",
              "<table border=\"1\" class=\"dataframe\">\n",
              "  <thead>\n",
              "    <tr style=\"text-align: right;\">\n",
              "      <th></th>\n",
              "      <th>YEAR</th>\n",
              "      <th>STATE</th>\n",
              "      <th>MED_HOUSE_INC</th>\n",
              "    </tr>\n",
              "  </thead>\n",
              "  <tbody>\n",
              "    <tr>\n",
              "      <th>0</th>\n",
              "      <td>1984</td>\n",
              "      <td>ALABAMA</td>\n",
              "      <td>17310</td>\n",
              "    </tr>\n",
              "    <tr>\n",
              "      <th>1</th>\n",
              "      <td>1984</td>\n",
              "      <td>ALASKA</td>\n",
              "      <td>18333</td>\n",
              "    </tr>\n",
              "    <tr>\n",
              "      <th>2</th>\n",
              "      <td>1984</td>\n",
              "      <td>ARIZONA</td>\n",
              "      <td>19132</td>\n",
              "    </tr>\n",
              "    <tr>\n",
              "      <th>3</th>\n",
              "      <td>1984</td>\n",
              "      <td>ARKANSAS</td>\n",
              "      <td>19734</td>\n",
              "    </tr>\n",
              "    <tr>\n",
              "      <th>4</th>\n",
              "      <td>1984</td>\n",
              "      <td>CALIFORNIA</td>\n",
              "      <td>19948</td>\n",
              "    </tr>\n",
              "    <tr>\n",
              "      <th>...</th>\n",
              "      <td>...</td>\n",
              "      <td>...</td>\n",
              "      <td>...</td>\n",
              "    </tr>\n",
              "    <tr>\n",
              "      <th>1933</th>\n",
              "      <td>2019</td>\n",
              "      <td>VIRGINIA</td>\n",
              "      <td>57829</td>\n",
              "    </tr>\n",
              "    <tr>\n",
              "      <th>1934</th>\n",
              "      <td>2019</td>\n",
              "      <td>WASHINGTON</td>\n",
              "      <td>59536</td>\n",
              "    </tr>\n",
              "    <tr>\n",
              "      <th>1935</th>\n",
              "      <td>2019</td>\n",
              "      <td>WEST VIRGINIA</td>\n",
              "      <td>57837</td>\n",
              "    </tr>\n",
              "    <tr>\n",
              "      <th>1936</th>\n",
              "      <td>2019</td>\n",
              "      <td>WISCONSIN</td>\n",
              "      <td>62539</td>\n",
              "    </tr>\n",
              "    <tr>\n",
              "      <th>1937</th>\n",
              "      <td>2019</td>\n",
              "      <td>WYOMING</td>\n",
              "      <td>65134</td>\n",
              "    </tr>\n",
              "  </tbody>\n",
              "</table>\n",
              "<p>1938 rows × 3 columns</p>\n",
              "</div>"
            ],
            "text/plain": [
              "      YEAR          STATE  MED_HOUSE_INC\n",
              "0     1984        ALABAMA          17310\n",
              "1     1984         ALASKA          18333\n",
              "2     1984        ARIZONA          19132\n",
              "3     1984       ARKANSAS          19734\n",
              "4     1984     CALIFORNIA          19948\n",
              "...    ...            ...            ...\n",
              "1933  2019       VIRGINIA          57829\n",
              "1934  2019     WASHINGTON          59536\n",
              "1935  2019  WEST VIRGINIA          57837\n",
              "1936  2019      WISCONSIN          62539\n",
              "1937  2019        WYOMING          65134\n",
              "\n",
              "[1938 rows x 3 columns]"
            ]
          },
          "metadata": {
            "tags": []
          },
          "execution_count": 34
        }
      ]
    },
    {
      "cell_type": "code",
      "metadata": {
        "colab": {
          "base_uri": "https://localhost:8080/",
          "height": 402
        },
        "id": "BPF8Xbh5pDaV",
        "outputId": "a1fe95d4-852e-47bf-833d-322c00c4cb92"
      },
      "source": [
        "# Change 2019 to 2020 so that it can be joined with 2020 election data. \n",
        "income_df.loc[income_df['YEAR'] == 2019, 'YEAR'] = 2020\n",
        "\n",
        "# Filter df to include only presidential election year data. \n",
        "income_df = income_df[income_df.YEAR.isin([\"2000\",\"2004\",\"2008\",\"2012\",\"2016\",\"2020\"])].sort_values(by=['YEAR'])\n",
        "income_df"
      ],
      "execution_count": 35,
      "outputs": [
        {
          "output_type": "execute_result",
          "data": {
            "text/html": [
              "<div>\n",
              "<style scoped>\n",
              "    .dataframe tbody tr th:only-of-type {\n",
              "        vertical-align: middle;\n",
              "    }\n",
              "\n",
              "    .dataframe tbody tr th {\n",
              "        vertical-align: top;\n",
              "    }\n",
              "\n",
              "    .dataframe thead th {\n",
              "        text-align: right;\n",
              "    }\n",
              "</style>\n",
              "<table border=\"1\" class=\"dataframe\">\n",
              "  <thead>\n",
              "    <tr style=\"text-align: right;\">\n",
              "      <th></th>\n",
              "      <th>YEAR</th>\n",
              "      <th>STATE</th>\n",
              "      <th>MED_HOUSE_INC</th>\n",
              "    </tr>\n",
              "  </thead>\n",
              "  <tbody>\n",
              "    <tr>\n",
              "      <th>816</th>\n",
              "      <td>2000</td>\n",
              "      <td>ALABAMA</td>\n",
              "      <td>49855</td>\n",
              "    </tr>\n",
              "    <tr>\n",
              "      <th>844</th>\n",
              "      <td>2000</td>\n",
              "      <td>NEVADA</td>\n",
              "      <td>32267</td>\n",
              "    </tr>\n",
              "    <tr>\n",
              "      <th>845</th>\n",
              "      <td>2000</td>\n",
              "      <td>NEW HAMPSHIRE</td>\n",
              "      <td>32662</td>\n",
              "    </tr>\n",
              "    <tr>\n",
              "      <th>846</th>\n",
              "      <td>2000</td>\n",
              "      <td>NEW JERSEY</td>\n",
              "      <td>35284</td>\n",
              "    </tr>\n",
              "    <tr>\n",
              "      <th>847</th>\n",
              "      <td>2000</td>\n",
              "      <td>NEW MEXICO</td>\n",
              "      <td>36426</td>\n",
              "    </tr>\n",
              "    <tr>\n",
              "      <th>...</th>\n",
              "      <td>...</td>\n",
              "      <td>...</td>\n",
              "      <td>...</td>\n",
              "    </tr>\n",
              "    <tr>\n",
              "      <th>1907</th>\n",
              "      <td>2020</td>\n",
              "      <td>MARYLAND</td>\n",
              "      <td>29050</td>\n",
              "    </tr>\n",
              "    <tr>\n",
              "      <th>1908</th>\n",
              "      <td>2020</td>\n",
              "      <td>MASSACHUSETTS</td>\n",
              "      <td>30209</td>\n",
              "    </tr>\n",
              "    <tr>\n",
              "      <th>1909</th>\n",
              "      <td>2020</td>\n",
              "      <td>MICHIGAN</td>\n",
              "      <td>29442</td>\n",
              "    </tr>\n",
              "    <tr>\n",
              "      <th>1911</th>\n",
              "      <td>2020</td>\n",
              "      <td>MISSISSIPPI</td>\n",
              "      <td>31529</td>\n",
              "    </tr>\n",
              "    <tr>\n",
              "      <th>1937</th>\n",
              "      <td>2020</td>\n",
              "      <td>WYOMING</td>\n",
              "      <td>65134</td>\n",
              "    </tr>\n",
              "  </tbody>\n",
              "</table>\n",
              "<p>306 rows × 3 columns</p>\n",
              "</div>"
            ],
            "text/plain": [
              "      YEAR          STATE  MED_HOUSE_INC\n",
              "816   2000        ALABAMA          49855\n",
              "844   2000         NEVADA          32267\n",
              "845   2000  NEW HAMPSHIRE          32662\n",
              "846   2000     NEW JERSEY          35284\n",
              "847   2000     NEW MEXICO          36426\n",
              "...    ...            ...            ...\n",
              "1907  2020       MARYLAND          29050\n",
              "1908  2020  MASSACHUSETTS          30209\n",
              "1909  2020       MICHIGAN          29442\n",
              "1911  2020    MISSISSIPPI          31529\n",
              "1937  2020        WYOMING          65134\n",
              "\n",
              "[306 rows x 3 columns]"
            ]
          },
          "metadata": {
            "tags": []
          },
          "execution_count": 35
        }
      ]
    },
    {
      "cell_type": "markdown",
      "metadata": {
        "id": "TBF5as6eqQBL"
      },
      "source": [
        "## Crimes_df"
      ]
    },
    {
      "cell_type": "code",
      "metadata": {
        "id": "x2cvRAXkqVYp"
      },
      "source": [
        "# Read in Violent Crime data\n",
        "url =\"https://migration-election-impact.s3.us-east-2.amazonaws.com/Resources/clean_violent_crimes.csv\"\n",
        "spark.sparkContext.addFile(url)\n",
        "crimes_df = spark.read.csv(SparkFiles.get(\"clean_violent_crimes.csv\"), sep=\",\", header=True, inferSchema=True)\n",
        "crimes_df = crimes_df.select(\"*\").toPandas()"
      ],
      "execution_count": 36,
      "outputs": []
    },
    {
      "cell_type": "code",
      "metadata": {
        "id": "83Jslg_1qVSJ"
      },
      "source": [
        "# Change column headings to upper case and convert STATE column values to upper case\n",
        "crimes_df = crimes_df.rename(columns=str.upper)\n",
        "crimes_df['STATE'] = crimes_df['STATE'].str.upper()"
      ],
      "execution_count": 37,
      "outputs": []
    },
    {
      "cell_type": "code",
      "metadata": {
        "colab": {
          "base_uri": "https://localhost:8080/",
          "height": 402
        },
        "id": "i36VClnPqVPU",
        "outputId": "072e1639-9d99-47d4-cc9c-3293b9092f57"
      },
      "source": [
        "# Change 2019 to 2020 so that it can be joined with 2020 election data. \n",
        "crimes_df.loc[crimes_df['YEAR'] == 2019, 'YEAR'] = 2020\n",
        "\n",
        "# Filter df to include only presidential election year data. \n",
        "crimes_df = crimes_df[crimes_df.YEAR.isin([\"2000\",\"2004\",\"2008\",\"2012\",\"2016\",\"2020\"])].sort_values(by=['YEAR'])\n",
        "crimes_df"
      ],
      "execution_count": 38,
      "outputs": [
        {
          "output_type": "execute_result",
          "data": {
            "text/html": [
              "<div>\n",
              "<style scoped>\n",
              "    .dataframe tbody tr th:only-of-type {\n",
              "        vertical-align: middle;\n",
              "    }\n",
              "\n",
              "    .dataframe tbody tr th {\n",
              "        vertical-align: top;\n",
              "    }\n",
              "\n",
              "    .dataframe thead th {\n",
              "        text-align: right;\n",
              "    }\n",
              "</style>\n",
              "<table border=\"1\" class=\"dataframe\">\n",
              "  <thead>\n",
              "    <tr style=\"text-align: right;\">\n",
              "      <th></th>\n",
              "      <th>YEAR</th>\n",
              "      <th>STATE</th>\n",
              "      <th>VIOLENT_CRIME_RATE</th>\n",
              "    </tr>\n",
              "  </thead>\n",
              "  <tbody>\n",
              "    <tr>\n",
              "      <th>0</th>\n",
              "      <td>2000</td>\n",
              "      <td>ALABAMA</td>\n",
              "      <td>21620</td>\n",
              "    </tr>\n",
              "    <tr>\n",
              "      <th>28</th>\n",
              "      <td>2000</td>\n",
              "      <td>NEVADA</td>\n",
              "      <td>10474</td>\n",
              "    </tr>\n",
              "    <tr>\n",
              "      <th>29</th>\n",
              "      <td>2000</td>\n",
              "      <td>NEW HAMPSHIRE</td>\n",
              "      <td>2167</td>\n",
              "    </tr>\n",
              "    <tr>\n",
              "      <th>30</th>\n",
              "      <td>2000</td>\n",
              "      <td>NEW JERSEY</td>\n",
              "      <td>32298</td>\n",
              "    </tr>\n",
              "    <tr>\n",
              "      <th>31</th>\n",
              "      <td>2000</td>\n",
              "      <td>NEW MEXICO</td>\n",
              "      <td>13786</td>\n",
              "    </tr>\n",
              "    <tr>\n",
              "      <th>...</th>\n",
              "      <td>...</td>\n",
              "      <td>...</td>\n",
              "      <td>...</td>\n",
              "    </tr>\n",
              "    <tr>\n",
              "      <th>989</th>\n",
              "      <td>2020</td>\n",
              "      <td>MARYLAND</td>\n",
              "      <td>27456</td>\n",
              "    </tr>\n",
              "    <tr>\n",
              "      <th>990</th>\n",
              "      <td>2020</td>\n",
              "      <td>MASSACHUSETTS</td>\n",
              "      <td>22578</td>\n",
              "    </tr>\n",
              "    <tr>\n",
              "      <th>991</th>\n",
              "      <td>2020</td>\n",
              "      <td>MICHIGAN</td>\n",
              "      <td>43686</td>\n",
              "    </tr>\n",
              "    <tr>\n",
              "      <th>993</th>\n",
              "      <td>2020</td>\n",
              "      <td>MISSISSIPPI</td>\n",
              "      <td>8272</td>\n",
              "    </tr>\n",
              "    <tr>\n",
              "      <th>1019</th>\n",
              "      <td>2020</td>\n",
              "      <td>WYOMING</td>\n",
              "      <td>1258</td>\n",
              "    </tr>\n",
              "  </tbody>\n",
              "</table>\n",
              "<p>306 rows × 3 columns</p>\n",
              "</div>"
            ],
            "text/plain": [
              "      YEAR          STATE  VIOLENT_CRIME_RATE\n",
              "0     2000        ALABAMA               21620\n",
              "28    2000         NEVADA               10474\n",
              "29    2000  NEW HAMPSHIRE                2167\n",
              "30    2000     NEW JERSEY               32298\n",
              "31    2000     NEW MEXICO               13786\n",
              "...    ...            ...                 ...\n",
              "989   2020       MARYLAND               27456\n",
              "990   2020  MASSACHUSETTS               22578\n",
              "991   2020       MICHIGAN               43686\n",
              "993   2020    MISSISSIPPI                8272\n",
              "1019  2020        WYOMING                1258\n",
              "\n",
              "[306 rows x 3 columns]"
            ]
          },
          "metadata": {
            "tags": []
          },
          "execution_count": 38
        }
      ]
    },
    {
      "cell_type": "markdown",
      "metadata": {
        "id": "QW2CxLI9qySA"
      },
      "source": [
        "## Guns per Household"
      ]
    },
    {
      "cell_type": "code",
      "metadata": {
        "id": "YirDfwa0pDYK"
      },
      "source": [
        "# Read in Violent Crime data\n",
        "url =\"https://migration-election-impact.s3.us-east-2.amazonaws.com/Resources/guns_per_household.csv\"\n",
        "spark.sparkContext.addFile(url)\n",
        "guns_df = spark.read.csv(SparkFiles.get(\"guns_per_household.csv\"), sep=\",\", header=True, inferSchema=True)\n",
        "guns_df = guns_df.select(\"*\").toPandas()"
      ],
      "execution_count": 39,
      "outputs": []
    },
    {
      "cell_type": "code",
      "metadata": {
        "colab": {
          "base_uri": "https://localhost:8080/",
          "height": 402
        },
        "id": "82XzcmjYrF7l",
        "outputId": "a47f3228-c6c1-4a3b-ecd1-d84e9feeb440"
      },
      "source": [
        "# Change column headings to upper case and convert STATE column values to upper case\n",
        "guns_df = guns_df.rename(columns=str.upper)\n",
        "guns_df['STATE'] = guns_df['STATE'].str.upper()\n",
        "guns_df"
      ],
      "execution_count": 40,
      "outputs": [
        {
          "output_type": "execute_result",
          "data": {
            "text/html": [
              "<div>\n",
              "<style scoped>\n",
              "    .dataframe tbody tr th:only-of-type {\n",
              "        vertical-align: middle;\n",
              "    }\n",
              "\n",
              "    .dataframe tbody tr th {\n",
              "        vertical-align: top;\n",
              "    }\n",
              "\n",
              "    .dataframe thead th {\n",
              "        text-align: right;\n",
              "    }\n",
              "</style>\n",
              "<table border=\"1\" class=\"dataframe\">\n",
              "  <thead>\n",
              "    <tr style=\"text-align: right;\">\n",
              "      <th></th>\n",
              "      <th>YEAR</th>\n",
              "      <th>STATE</th>\n",
              "      <th>GUNS_PER_HOUSEHOLD</th>\n",
              "    </tr>\n",
              "  </thead>\n",
              "  <tbody>\n",
              "    <tr>\n",
              "      <th>0</th>\n",
              "      <td>2000</td>\n",
              "      <td>ALABAMA</td>\n",
              "      <td>0.538</td>\n",
              "    </tr>\n",
              "    <tr>\n",
              "      <th>1</th>\n",
              "      <td>2000</td>\n",
              "      <td>ALASKA</td>\n",
              "      <td>0.601</td>\n",
              "    </tr>\n",
              "    <tr>\n",
              "      <th>2</th>\n",
              "      <td>2000</td>\n",
              "      <td>ARIZONA</td>\n",
              "      <td>0.427</td>\n",
              "    </tr>\n",
              "    <tr>\n",
              "      <th>3</th>\n",
              "      <td>2000</td>\n",
              "      <td>ARKANSAS</td>\n",
              "      <td>0.542</td>\n",
              "    </tr>\n",
              "    <tr>\n",
              "      <th>4</th>\n",
              "      <td>2000</td>\n",
              "      <td>CALIFORNIA</td>\n",
              "      <td>0.274</td>\n",
              "    </tr>\n",
              "    <tr>\n",
              "      <th>...</th>\n",
              "      <td>...</td>\n",
              "      <td>...</td>\n",
              "      <td>...</td>\n",
              "    </tr>\n",
              "    <tr>\n",
              "      <th>845</th>\n",
              "      <td>2016</td>\n",
              "      <td>VIRGINIA</td>\n",
              "      <td>0.353</td>\n",
              "    </tr>\n",
              "    <tr>\n",
              "      <th>846</th>\n",
              "      <td>2016</td>\n",
              "      <td>WASHINGTON</td>\n",
              "      <td>0.321</td>\n",
              "    </tr>\n",
              "    <tr>\n",
              "      <th>847</th>\n",
              "      <td>2016</td>\n",
              "      <td>WEST VIRGINIA</td>\n",
              "      <td>0.600</td>\n",
              "    </tr>\n",
              "    <tr>\n",
              "      <th>848</th>\n",
              "      <td>2016</td>\n",
              "      <td>WISCONSIN</td>\n",
              "      <td>0.471</td>\n",
              "    </tr>\n",
              "    <tr>\n",
              "      <th>849</th>\n",
              "      <td>2016</td>\n",
              "      <td>WYOMING</td>\n",
              "      <td>0.607</td>\n",
              "    </tr>\n",
              "  </tbody>\n",
              "</table>\n",
              "<p>850 rows × 3 columns</p>\n",
              "</div>"
            ],
            "text/plain": [
              "     YEAR          STATE  GUNS_PER_HOUSEHOLD\n",
              "0    2000        ALABAMA               0.538\n",
              "1    2000         ALASKA               0.601\n",
              "2    2000        ARIZONA               0.427\n",
              "3    2000       ARKANSAS               0.542\n",
              "4    2000     CALIFORNIA               0.274\n",
              "..    ...            ...                 ...\n",
              "845  2016       VIRGINIA               0.353\n",
              "846  2016     WASHINGTON               0.321\n",
              "847  2016  WEST VIRGINIA               0.600\n",
              "848  2016      WISCONSIN               0.471\n",
              "849  2016        WYOMING               0.607\n",
              "\n",
              "[850 rows x 3 columns]"
            ]
          },
          "metadata": {
            "tags": []
          },
          "execution_count": 40
        }
      ]
    },
    {
      "cell_type": "code",
      "metadata": {
        "colab": {
          "base_uri": "https://localhost:8080/"
        },
        "id": "NM-5tMWhrF4g",
        "outputId": "d6b8f520-8b2f-4166-e5ac-92557d1bcbba"
      },
      "source": [
        "# Duplicate 2015 values for 2016/2020 and append to df\n",
        "guns_2020 = guns_df[(guns_df.YEAR ==2016)]\n",
        "\n",
        "guns_2020.loc[guns_2020['YEAR'] == 2016, 'YEAR'] = 2020\n",
        "\n",
        "guns_df = guns_df.append(guns_2020,ignore_index=True)"
      ],
      "execution_count": 41,
      "outputs": [
        {
          "output_type": "stream",
          "text": [
            "/usr/local/lib/python3.7/dist-packages/pandas/core/indexing.py:1763: SettingWithCopyWarning: \n",
            "A value is trying to be set on a copy of a slice from a DataFrame.\n",
            "Try using .loc[row_indexer,col_indexer] = value instead\n",
            "\n",
            "See the caveats in the documentation: https://pandas.pydata.org/pandas-docs/stable/user_guide/indexing.html#returning-a-view-versus-a-copy\n",
            "  isetter(loc, value)\n"
          ],
          "name": "stderr"
        }
      ]
    },
    {
      "cell_type": "code",
      "metadata": {
        "colab": {
          "base_uri": "https://localhost:8080/",
          "height": 402
        },
        "id": "R-84uaYyrF1x",
        "outputId": "8833165d-2be8-475d-9793-a1f2e7c4f63b"
      },
      "source": [
        "# Filter df to include only presidential election year data. \n",
        "guns_df = guns_df[guns_df.YEAR.isin([\"2000\",\"2004\",\"2008\",\"2012\",\"2016\",\"2020\"])].sort_values(by=['YEAR'])\n",
        "guns_df\n"
      ],
      "execution_count": 42,
      "outputs": [
        {
          "output_type": "execute_result",
          "data": {
            "text/html": [
              "<div>\n",
              "<style scoped>\n",
              "    .dataframe tbody tr th:only-of-type {\n",
              "        vertical-align: middle;\n",
              "    }\n",
              "\n",
              "    .dataframe tbody tr th {\n",
              "        vertical-align: top;\n",
              "    }\n",
              "\n",
              "    .dataframe thead th {\n",
              "        text-align: right;\n",
              "    }\n",
              "</style>\n",
              "<table border=\"1\" class=\"dataframe\">\n",
              "  <thead>\n",
              "    <tr style=\"text-align: right;\">\n",
              "      <th></th>\n",
              "      <th>YEAR</th>\n",
              "      <th>STATE</th>\n",
              "      <th>GUNS_PER_HOUSEHOLD</th>\n",
              "    </tr>\n",
              "  </thead>\n",
              "  <tbody>\n",
              "    <tr>\n",
              "      <th>0</th>\n",
              "      <td>2000</td>\n",
              "      <td>ALABAMA</td>\n",
              "      <td>0.538</td>\n",
              "    </tr>\n",
              "    <tr>\n",
              "      <th>27</th>\n",
              "      <td>2000</td>\n",
              "      <td>NEVADA</td>\n",
              "      <td>0.471</td>\n",
              "    </tr>\n",
              "    <tr>\n",
              "      <th>28</th>\n",
              "      <td>2000</td>\n",
              "      <td>NEW HAMPSHIRE</td>\n",
              "      <td>0.391</td>\n",
              "    </tr>\n",
              "    <tr>\n",
              "      <th>29</th>\n",
              "      <td>2000</td>\n",
              "      <td>NEW JERSEY</td>\n",
              "      <td>0.108</td>\n",
              "    </tr>\n",
              "    <tr>\n",
              "      <th>30</th>\n",
              "      <td>2000</td>\n",
              "      <td>NEW MEXICO</td>\n",
              "      <td>0.438</td>\n",
              "    </tr>\n",
              "    <tr>\n",
              "      <th>...</th>\n",
              "      <td>...</td>\n",
              "      <td>...</td>\n",
              "      <td>...</td>\n",
              "    </tr>\n",
              "    <tr>\n",
              "      <th>869</th>\n",
              "      <td>2020</td>\n",
              "      <td>MARYLAND</td>\n",
              "      <td>0.167</td>\n",
              "    </tr>\n",
              "    <tr>\n",
              "      <th>870</th>\n",
              "      <td>2020</td>\n",
              "      <td>MASSACHUSETTS</td>\n",
              "      <td>0.090</td>\n",
              "    </tr>\n",
              "    <tr>\n",
              "      <th>871</th>\n",
              "      <td>2020</td>\n",
              "      <td>MICHIGAN</td>\n",
              "      <td>0.389</td>\n",
              "    </tr>\n",
              "    <tr>\n",
              "      <th>860</th>\n",
              "      <td>2020</td>\n",
              "      <td>HAWAII</td>\n",
              "      <td>0.091</td>\n",
              "    </tr>\n",
              "    <tr>\n",
              "      <th>899</th>\n",
              "      <td>2020</td>\n",
              "      <td>WYOMING</td>\n",
              "      <td>0.607</td>\n",
              "    </tr>\n",
              "  </tbody>\n",
              "</table>\n",
              "<p>300 rows × 3 columns</p>\n",
              "</div>"
            ],
            "text/plain": [
              "     YEAR          STATE  GUNS_PER_HOUSEHOLD\n",
              "0    2000        ALABAMA               0.538\n",
              "27   2000         NEVADA               0.471\n",
              "28   2000  NEW HAMPSHIRE               0.391\n",
              "29   2000     NEW JERSEY               0.108\n",
              "30   2000     NEW MEXICO               0.438\n",
              "..    ...            ...                 ...\n",
              "869  2020       MARYLAND               0.167\n",
              "870  2020  MASSACHUSETTS               0.090\n",
              "871  2020       MICHIGAN               0.389\n",
              "860  2020         HAWAII               0.091\n",
              "899  2020        WYOMING               0.607\n",
              "\n",
              "[300 rows x 3 columns]"
            ]
          },
          "metadata": {
            "tags": []
          },
          "execution_count": 42
        }
      ]
    },
    {
      "cell_type": "markdown",
      "metadata": {
        "id": "U0lSdr8FrNZq"
      },
      "source": [
        "## GDP_df"
      ]
    },
    {
      "cell_type": "code",
      "metadata": {
        "id": "VbTH6VasLm_O"
      },
      "source": [
        "# Read in 1997-2020 state GDP data\n",
        "url =\"https://migration-election-impact.s3.us-east-2.amazonaws.com/Resources/State_GDP_97_2020.csv\"\n",
        "spark.sparkContext.addFile(url)\n",
        "gdp_df = spark.read.csv(SparkFiles.get(\"State_GDP_97_2020.csv\"), sep=\",\", header=True, inferSchema=True)\n",
        "gdp_df = gdp_df.select(\"*\").toPandas()"
      ],
      "execution_count": 43,
      "outputs": []
    },
    {
      "cell_type": "code",
      "metadata": {
        "colab": {
          "base_uri": "https://localhost:8080/",
          "height": 402
        },
        "id": "zpCKAnd8pDVH",
        "outputId": "bc229a8e-8058-4eaa-816c-5299d6d3d19b"
      },
      "source": [
        "# Change column headings to upper case and convert STATE column values to upper case\n",
        "gdp_df = gdp_df.rename(columns=str.upper)\n",
        "gdp_df['STATE'] = gdp_df['STATE'].str.upper()\n",
        "\n",
        "# Convert YEAR to int \n",
        "gdp_df['YEAR'] = gdp_df['YEAR'].astype(int)\n",
        "gdp_df"
      ],
      "execution_count": 44,
      "outputs": [
        {
          "output_type": "execute_result",
          "data": {
            "text/html": [
              "<div>\n",
              "<style scoped>\n",
              "    .dataframe tbody tr th:only-of-type {\n",
              "        vertical-align: middle;\n",
              "    }\n",
              "\n",
              "    .dataframe tbody tr th {\n",
              "        vertical-align: top;\n",
              "    }\n",
              "\n",
              "    .dataframe thead th {\n",
              "        text-align: right;\n",
              "    }\n",
              "</style>\n",
              "<table border=\"1\" class=\"dataframe\">\n",
              "  <thead>\n",
              "    <tr style=\"text-align: right;\">\n",
              "      <th></th>\n",
              "      <th>YEAR</th>\n",
              "      <th>STATE</th>\n",
              "      <th>GDP_MILLIONS</th>\n",
              "    </tr>\n",
              "  </thead>\n",
              "  <tbody>\n",
              "    <tr>\n",
              "      <th>0</th>\n",
              "      <td>1997</td>\n",
              "      <td>TEXAS</td>\n",
              "      <td>610141.2</td>\n",
              "    </tr>\n",
              "    <tr>\n",
              "      <th>1</th>\n",
              "      <td>1998</td>\n",
              "      <td>TEXAS</td>\n",
              "      <td>645289.5</td>\n",
              "    </tr>\n",
              "    <tr>\n",
              "      <th>2</th>\n",
              "      <td>1999</td>\n",
              "      <td>TEXAS</td>\n",
              "      <td>680181.9</td>\n",
              "    </tr>\n",
              "    <tr>\n",
              "      <th>3</th>\n",
              "      <td>2000</td>\n",
              "      <td>TEXAS</td>\n",
              "      <td>738804.4</td>\n",
              "    </tr>\n",
              "    <tr>\n",
              "      <th>4</th>\n",
              "      <td>2001</td>\n",
              "      <td>TEXAS</td>\n",
              "      <td>772909.2</td>\n",
              "    </tr>\n",
              "    <tr>\n",
              "      <th>...</th>\n",
              "      <td>...</td>\n",
              "      <td>...</td>\n",
              "      <td>...</td>\n",
              "    </tr>\n",
              "    <tr>\n",
              "      <th>1219</th>\n",
              "      <td>2016</td>\n",
              "      <td>SOUTH DAKOTA</td>\n",
              "      <td>48731.3</td>\n",
              "    </tr>\n",
              "    <tr>\n",
              "      <th>1220</th>\n",
              "      <td>2017</td>\n",
              "      <td>SOUTH DAKOTA</td>\n",
              "      <td>50342.9</td>\n",
              "    </tr>\n",
              "    <tr>\n",
              "      <th>1221</th>\n",
              "      <td>2018</td>\n",
              "      <td>SOUTH DAKOTA</td>\n",
              "      <td>53239.0</td>\n",
              "    </tr>\n",
              "    <tr>\n",
              "      <th>1222</th>\n",
              "      <td>2019</td>\n",
              "      <td>SOUTH DAKOTA</td>\n",
              "      <td>54940.9</td>\n",
              "    </tr>\n",
              "    <tr>\n",
              "      <th>1223</th>\n",
              "      <td>2020</td>\n",
              "      <td>SOUTH DAKOTA</td>\n",
              "      <td>54852.1</td>\n",
              "    </tr>\n",
              "  </tbody>\n",
              "</table>\n",
              "<p>1224 rows × 3 columns</p>\n",
              "</div>"
            ],
            "text/plain": [
              "      YEAR         STATE  GDP_MILLIONS\n",
              "0     1997         TEXAS      610141.2\n",
              "1     1998         TEXAS      645289.5\n",
              "2     1999         TEXAS      680181.9\n",
              "3     2000         TEXAS      738804.4\n",
              "4     2001         TEXAS      772909.2\n",
              "...    ...           ...           ...\n",
              "1219  2016  SOUTH DAKOTA       48731.3\n",
              "1220  2017  SOUTH DAKOTA       50342.9\n",
              "1221  2018  SOUTH DAKOTA       53239.0\n",
              "1222  2019  SOUTH DAKOTA       54940.9\n",
              "1223  2020  SOUTH DAKOTA       54852.1\n",
              "\n",
              "[1224 rows x 3 columns]"
            ]
          },
          "metadata": {
            "tags": []
          },
          "execution_count": 44
        }
      ]
    },
    {
      "cell_type": "code",
      "metadata": {
        "colab": {
          "base_uri": "https://localhost:8080/",
          "height": 402
        },
        "id": "rnjxqZWyrSvL",
        "outputId": "e07c9f14-1329-4e09-87d2-b482ac62b0dd"
      },
      "source": [
        "# Filter df to include only presidential election year data. \n",
        "gdp_df = gdp_df[gdp_df.YEAR.isin([\"2000\",\"2004\",\"2008\",\"2012\",\"2016\",\"2020\"])].sort_values(by=['YEAR','STATE'])\n",
        "gdp_df"
      ],
      "execution_count": 45,
      "outputs": [
        {
          "output_type": "execute_result",
          "data": {
            "text/html": [
              "<div>\n",
              "<style scoped>\n",
              "    .dataframe tbody tr th:only-of-type {\n",
              "        vertical-align: middle;\n",
              "    }\n",
              "\n",
              "    .dataframe tbody tr th {\n",
              "        vertical-align: top;\n",
              "    }\n",
              "\n",
              "    .dataframe thead th {\n",
              "        text-align: right;\n",
              "    }\n",
              "</style>\n",
              "<table border=\"1\" class=\"dataframe\">\n",
              "  <thead>\n",
              "    <tr style=\"text-align: right;\">\n",
              "      <th></th>\n",
              "      <th>YEAR</th>\n",
              "      <th>STATE</th>\n",
              "      <th>GDP_MILLIONS</th>\n",
              "    </tr>\n",
              "  </thead>\n",
              "  <tbody>\n",
              "    <tr>\n",
              "      <th>195</th>\n",
              "      <td>2000</td>\n",
              "      <td>ALABAMA</td>\n",
              "      <td>120132.9</td>\n",
              "    </tr>\n",
              "    <tr>\n",
              "      <th>411</th>\n",
              "      <td>2000</td>\n",
              "      <td>ALASKA�</td>\n",
              "      <td>26815.8</td>\n",
              "    </tr>\n",
              "    <tr>\n",
              "      <th>267</th>\n",
              "      <td>2000</td>\n",
              "      <td>ARIZONA�</td>\n",
              "      <td>164609.9</td>\n",
              "    </tr>\n",
              "    <tr>\n",
              "      <th>867</th>\n",
              "      <td>2000</td>\n",
              "      <td>ARKANSAS�</td>\n",
              "      <td>68740.4</td>\n",
              "    </tr>\n",
              "    <tr>\n",
              "      <th>219</th>\n",
              "      <td>2000</td>\n",
              "      <td>CALIFORNIA�</td>\n",
              "      <td>1366166.5</td>\n",
              "    </tr>\n",
              "    <tr>\n",
              "      <th>...</th>\n",
              "      <td>...</td>\n",
              "      <td>...</td>\n",
              "      <td>...</td>\n",
              "    </tr>\n",
              "    <tr>\n",
              "      <th>935</th>\n",
              "      <td>2020</td>\n",
              "      <td>VIRGINIA</td>\n",
              "      <td>551760.3</td>\n",
              "    </tr>\n",
              "    <tr>\n",
              "      <th>119</th>\n",
              "      <td>2020</td>\n",
              "      <td>WASHINGTON</td>\n",
              "      <td>618704.9</td>\n",
              "    </tr>\n",
              "    <tr>\n",
              "      <th>647</th>\n",
              "      <td>2020</td>\n",
              "      <td>WEST VIRGINIA</td>\n",
              "      <td>73709.2</td>\n",
              "    </tr>\n",
              "    <tr>\n",
              "      <th>695</th>\n",
              "      <td>2020</td>\n",
              "      <td>WISCONSIN�</td>\n",
              "      <td>338678.4</td>\n",
              "    </tr>\n",
              "    <tr>\n",
              "      <th>719</th>\n",
              "      <td>2020</td>\n",
              "      <td>WYOMING�</td>\n",
              "      <td>36241.5</td>\n",
              "    </tr>\n",
              "  </tbody>\n",
              "</table>\n",
              "<p>306 rows × 3 columns</p>\n",
              "</div>"
            ],
            "text/plain": [
              "     YEAR          STATE  GDP_MILLIONS\n",
              "195  2000        ALABAMA      120132.9\n",
              "411  2000        ALASKA�       26815.8\n",
              "267  2000       ARIZONA�      164609.9\n",
              "867  2000      ARKANSAS�       68740.4\n",
              "219  2000    CALIFORNIA�     1366166.5\n",
              "..    ...            ...           ...\n",
              "935  2020       VIRGINIA      551760.3\n",
              "119  2020     WASHINGTON      618704.9\n",
              "647  2020  WEST VIRGINIA       73709.2\n",
              "695  2020     WISCONSIN�      338678.4\n",
              "719  2020       WYOMING�       36241.5\n",
              "\n",
              "[306 rows x 3 columns]"
            ]
          },
          "metadata": {
            "tags": []
          },
          "execution_count": 45
        }
      ]
    },
    {
      "cell_type": "markdown",
      "metadata": {
        "id": "DUWVG0Djtuny"
      },
      "source": [
        "## Combine Dataframes"
      ]
    },
    {
      "cell_type": "code",
      "metadata": {
        "id": "HXY-GjnmMP7h"
      },
      "source": [
        "combined_df = pd.merge(degrees_df, incarceration_df, how='inner', left_on=['YEAR', 'STATE'], right_on = ['YEAR', 'STATE'])\n",
        "combined_df = pd.merge(combined_df, income_df, how='inner', left_on=['YEAR', 'STATE'], right_on = ['YEAR', 'STATE'])\n",
        "combined_df = pd.merge(combined_df, crimes_df, how='inner', left_on=['YEAR', 'STATE'], right_on = ['YEAR', 'STATE'])\n",
        "combined_df = pd.merge(combined_df, gdp_df, how='inner', left_on=['YEAR', 'STATE'], right_on = ['YEAR', 'STATE'])\n",
        "combined_df = pd.merge(combined_df, guns_df, how='left', left_on=['YEAR', 'STATE'], right_on = ['YEAR', 'STATE'])"
      ],
      "execution_count": 48,
      "outputs": []
    },
    {
      "cell_type": "code",
      "metadata": {
        "id": "t1IiQUtlMP7h"
      },
      "source": [
        "demographic_df = combined_df.sort_values(by=['YEAR','STATE'])"
      ],
      "execution_count": 52,
      "outputs": []
    },
    {
      "cell_type": "code",
      "metadata": {
        "colab": {
          "base_uri": "https://localhost:8080/"
        },
        "id": "XhPjCz8TuZwg",
        "outputId": "f8f05969-f79e-491c-dd28-133e4b983a1f"
      },
      "source": [
        "# Convert Pandas DF to Spark DF\n",
        "demographic_df = spark.createDataFrame(demographic_df)\n",
        "demographic_df"
      ],
      "execution_count": 54,
      "outputs": [
        {
          "output_type": "execute_result",
          "data": {
            "text/plain": [
              "DataFrame[STATE: string, YEAR: bigint, BACHELORS_DEGREE_TOT: bigint, JAIL_RATE: double, PRISON_RATE: double, MED_HOUSE_INC: bigint, VIOLENT_CRIME_RATE: bigint, GDP_MILLIONS: double, GUNS_PER_HOUSEHOLD: double]"
            ]
          },
          "metadata": {
            "tags": []
          },
          "execution_count": 54
        }
      ]
    },
    {
      "cell_type": "code",
      "metadata": {
        "id": "lokNlKBFuE9x"
      },
      "source": [
        "# Load clean demographic results into RDS\n",
        "demographic_df.write.jdbc(url=jdbc_url, table='demographics', mode=mode, properties=config)"
      ],
      "execution_count": 55,
      "outputs": []
    }
  ]
}